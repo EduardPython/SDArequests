{
 "cells": [
  {
   "cell_type": "markdown",
   "id": "fb1753b4",
   "metadata": {},
   "source": [
    "## Lambda - anonymní funkce"
   ]
  },
  {
   "cell_type": "markdown",
   "id": "26416e71",
   "metadata": {},
   "source": [
    " - nemá jméno\n",
    " - nemá klíčové slovo def ale **lambda**\n",
    " - používá se tam kde je definována\n",
    " "
   ]
  },
  {
   "cell_type": "raw",
   "id": "2f7f4beb",
   "metadata": {},
   "source": [
    "#Syntax\n",
    "#list of arguments (nebo jen jeden) oddělené čárkou, dvojtečka, poté výraz funkce\n",
    "\n",
    "lambda x: x*2\n",
    "lambda x,y: x+y\n"
   ]
  },
  {
   "cell_type": "markdown",
   "id": "0a541c6b",
   "metadata": {},
   "source": [
    "### Použítí\n",
    "- řazení prvků (funkce sort, parametr key)\n",
    "`sorted_films = sorted(filmy_list, key=lambda x: x[1], reverse=True)`\n",
    "- funkce na jednoduché úlohy - strign na malé písmena, násobení prvků v listu konstantou atd. \n",
    "- aggregační funkce `max`, `min`, `sort`"
   ]
  },
  {
   "cell_type": "code",
   "execution_count": 2,
   "id": "7d34abff",
   "metadata": {},
   "outputs": [
    {
     "data": {
      "text/plain": [
       "'petr sevcik'"
      ]
     },
     "execution_count": 2,
     "metadata": {},
     "output_type": "execute_result"
    }
   ],
   "source": [
    "    normalize_name = lambda x: x.lower()\n",
    "    normalize_name(\"Petr Sevcik\")"
   ]
  },
  {
   "cell_type": "raw",
   "id": "a02f3de6",
   "metadata": {},
   "source": [
    "    pairs = [(1, 10), (2, 9), (3, 8)]\n",
    "    sorted(pairs, key=lambda x: x[1])  # [(3, 8), (2, 9), (1, 10)]\n",
    "    min(pairs)  # (1, 10)\n",
    "    max(pairs, key=lambda x: x[1])  # (1, 10)\n",
    "    max(pairs, key=lambda x: x[0] * x[1])  # (3, 8)"
   ]
  },
  {
   "cell_type": "markdown",
   "id": "bfe9fcbf",
   "metadata": {},
   "source": [
    "- použítí s `map`, `filter`"
   ]
  },
  {
   "cell_type": "raw",
   "id": "d425b666",
   "metadata": {},
   "source": [
    "vysledky_testu = [101,85,62,400,123,60,75,81,99]\n",
    "uspesni = filter(lambda x: x>100, vysledky_testu)\n",
    "print(uspesni)\n",
    "list(uspesni)"
   ]
  },
  {
   "cell_type": "raw",
   "id": "bca5977a",
   "metadata": {},
   "source": [
    "hodnoty = [1,2,3,4,5,6,7,8,9]\n",
    "na_treti = map((lambda x: x**3), hodnoty)\n",
    "print(na_treti)\n",
    "list(na_treti)"
   ]
  },
  {
   "cell_type": "markdown",
   "id": "47a265f2",
   "metadata": {},
   "source": [
    "- použití v datové analýze (Pandas)"
   ]
  },
  {
   "cell_type": "markdown",
   "id": "8f17da8a",
   "metadata": {},
   "source": [
    "### úkoly"
   ]
  },
  {
   "cell_type": "code",
   "execution_count": null,
   "id": "fbd640ad",
   "metadata": {},
   "outputs": [],
   "source": [
    "zvirata =[\"otter\", \"whale\", \"goose\", \"chipmunk\", \"fox\", \"sheep\", \"rabbit\", \"marten\"]\n",
    "\n",
    "#seradte zivrata podle abecedy\n",
    "\n"
   ]
  },
  {
   "cell_type": "code",
   "execution_count": 19,
   "id": "f48f6330",
   "metadata": {},
   "outputs": [],
   "source": [
    "mesta_populace =[(19542209, \"New York\") ,(4887871, \"Alabama\"), (1420491, \"Hawaii\"), (626299, \"Vermont\"), (1805832, \"West Virginia\"), (39865590, \"California\")]\n",
    "#Type your answer here.\n",
    "\n",
    "#1) seradte mesta podle abecedy\n",
    "#2) seradte mesta podle populace\n"
   ]
  },
  {
   "cell_type": "code",
   "execution_count": null,
   "id": "b1ef082e",
   "metadata": {},
   "outputs": [],
   "source": [
    "programmer = [{'Name':'Mark', 'Programming':'Python', 'Year of Experience': 3},\n",
    "               {'Name':'Nicole', 'Programming':'C', 'Year of Experience': 1},\n",
    "               {'Name':'Jason', 'Programming':'R', 'Year of Experience': 10}]\n",
    "\n",
    "# seradte programatory podle let zkušeností"
   ]
  },
  {
   "cell_type": "markdown",
   "id": "6dea9a08",
   "metadata": {},
   "source": [
    "### Lambdy slouží především k zpřehlednění kódu. Dají se nahradit běžnými funkcemi (def) na více řádků nebo list comperhensions"
   ]
  },
  {
   "cell_type": "markdown",
   "id": "92c81974",
   "metadata": {},
   "source": [
    "## List comperhesions\n",
    "- něco jako lambda\n",
    "- něco jako for loop\n"
   ]
  },
  {
   "cell_type": "raw",
   "id": "ff5ff19d",
   "metadata": {},
   "source": [
    "#Syntax of List Comprehension\n",
    "[expression for item in list]"
   ]
  },
  {
   "cell_type": "markdown",
   "id": "41a3fed8",
   "metadata": {},
   "source": [
    "příklady"
   ]
  },
  {
   "cell_type": "raw",
   "id": "4e9d4e30",
   "metadata": {},
   "source": [
    "hodnoty = [1,2,3,4,5,6,7,8,9]\n",
    "na_treti = [x**3 for x in hodnoty]\n",
    "na_treti"
   ]
  },
  {
   "cell_type": "markdown",
   "id": "5db38120",
   "metadata": {},
   "source": [
    "- hodí se např na generování listu cisel"
   ]
  },
  {
   "cell_type": "raw",
   "id": "e8375434",
   "metadata": {},
   "source": [
    "one_to_twenty = [i for i in range(1,21)]\n",
    "one_to_twenty"
   ]
  },
  {
   "cell_type": "markdown",
   "id": "4a5c1009",
   "metadata": {},
   "source": [
    "##### dá se kombinovat i s if, else"
   ]
  },
  {
   "cell_type": "markdown",
   "id": "90b825d5",
   "metadata": {},
   "source": [
    "- sudé, liché"
   ]
  },
  {
   "cell_type": "raw",
   "id": "0d3afcf3",
   "metadata": {},
   "source": [
    "[\"sudé\" if x%2 == 0 else \"liché\" for x in na_treti]"
   ]
  },
  {
   "cell_type": "markdown",
   "id": "1d843ffd",
   "metadata": {},
   "source": [
    "### priklady"
   ]
  },
  {
   "cell_type": "code",
   "execution_count": null,
   "id": "7ca5f8c6",
   "metadata": {},
   "outputs": [],
   "source": [
    "cisla = [44,54,64,74,104]\n",
    "\n",
    "#prictete ke kazdemu cislu 6"
   ]
  },
  {
   "cell_type": "raw",
   "id": "2f92d21c",
   "metadata": {},
   "source": [
    "cars_kilos ={\"Sedan\": 1500, \"SUV\": 2000, \"Pickup\": 2500, \"Minivan\": 1600, \"Van\": 2400, \"Semi\": 13600, \"Bicycle\": 7, \"Motorcycle\": 110}\n",
    "\n",
    "car_names_up_to_2500 = []\n",
    "#vytvorte list se jmeny aut s váhou do 2500kg\n"
   ]
  },
  {
   "cell_type": "raw",
   "id": "21f02477",
   "metadata": {},
   "source": [
    "#za zlateho bludistaka\n",
    "\n",
    "akcie = [\"META\", \"GOOG\", \"AMZN\", \"NTFX\", \"AAPL\"]\n",
    "cena = [100, 130, 160, 299, 120]\n",
    "\n",
    "#vytvořte dict stocks s key = akcie, value = cena ...{\"META\":100}\n",
    "\n",
    "stocks"
   ]
  },
  {
   "cell_type": "markdown",
   "id": "59845374",
   "metadata": {},
   "source": [
    "# Regex - Regular Expressions"
   ]
  },
  {
   "cell_type": "markdown",
   "id": "e69eaf73",
   "metadata": {},
   "source": [
    "https://www.programiz.com/python-programming/regex"
   ]
  },
  {
   "cell_type": "markdown",
   "id": "56c51b72",
   "metadata": {},
   "source": [
    "#### Teorie\n",
    "`Regular expressions are patterns that describe strings of symbols. For example, we can create an expression that will match any e-mail address, any date, phone number, or credit card number, etc.`\n",
    "\n",
    "- **Regulární výrazy/Regexy - slouží k vyhledávání v textu (stringu) podle daných parametrů a paternů. Můžeme je vytvořit na emaily, data, telefoní čísla nebo čísla kreditních karet**\n",
    "\n",
    "In Python, we need a re module to work with regular expressions. This module will help us to search for strings matching a pattern in text, or to check if a given text exactly matches a given pattern.\n",
    "\n",
    "- v pythonu pro práci s regexy používáme knihovnu `re`"
   ]
  },
  {
   "cell_type": "code",
   "execution_count": null,
   "id": "823e2edf",
   "metadata": {},
   "outputs": [],
   "source": [
    "import re"
   ]
  },
  {
   "cell_type": "markdown",
   "id": "d17d6724",
   "metadata": {},
   "source": [
    "online tool - https://regex101.com/"
   ]
  },
  {
   "cell_type": "markdown",
   "id": "d348ca6b",
   "metadata": {},
   "source": [
    "cheatsheet - https://cheatography.com/davechild/cheat-sheets/regular-expressions/"
   ]
  },
  {
   "cell_type": "markdown",
   "id": "8725dfe8",
   "metadata": {},
   "source": [
    "### základní výrazy . ? + *"
   ]
  },
  {
   "cell_type": "raw",
   "id": "e78dfc67",
   "metadata": {},
   "source": [
    ". jakýkoliv jeden znak =  .ama matches mama, lama, sama, dama \n",
    "? nula nebo jedna occurence předchozího znaku = j?sem = jsem, sem \n",
    "+ jedna nebo více occurence předchozího znaku = lo+l = lol, loooool, loooooooooool\n",
    "* jakýkoliv počet occurence předchozího znaku, včetně nuly a*la = la, ala, aaaaala"
   ]
  },
  {
   "cell_type": "raw",
   "id": "f145cab8",
   "metadata": {},
   "source": [
    "{3} - přesně 3 znaky\n",
    "{3,} - tři a více\n",
    "{3,5} - tři až pět (včetně)"
   ]
  },
  {
   "cell_type": "markdown",
   "id": "c9e200ce",
   "metadata": {},
   "source": [
    "## [Určité znaky nebo range znaků, čísel]"
   ]
  },
  {
   "cell_type": "raw",
   "id": "074b95db",
   "metadata": {},
   "source": [
    "[VSY]oda - matches - Voda, Soda, Yoda\n",
    "[^f]uck - vše kromě fuck :) třeba duck\n",
    "[a-z] - abeceda\n",
    "[a-e] - může být i od \"a\" do \"e\" - včetně\n",
    "[A-Z] - velká písmena\n",
    "[0-9] - čísla\n",
    "[1-5] - může být i od \"1\" do \"5\" - včetně"
   ]
  },
  {
   "cell_type": "markdown",
   "id": "11a244af",
   "metadata": {},
   "source": [
    "### typy znaků \\w \\d \\S"
   ]
  },
  {
   "cell_type": "raw",
   "id": "77b0623d",
   "metadata": {},
   "source": [
    "\\d - digit - čísla \n",
    "\\w - word - [A-Za-z0-9_]\n",
    "\\D - non-digit - cokoliv co není číslo\n",
    "\\W - cokoliv co není písmeno nebo číslo\n",
    "\\s - white space znaky \\f\\n\\r\\t\\v\n",
    "\\S - vše kromě bílých znaků"
   ]
  },
  {
   "cell_type": "markdown",
   "id": "a7a61a68",
   "metadata": {},
   "source": [
    "https://regexland.com/most-common-regular-expressions/"
   ]
  },
  {
   "cell_type": "markdown",
   "id": "0ed5b2b6",
   "metadata": {},
   "source": [
    "cvičení:\n",
    "\n",
    "použijte https://regex101.com/ \n",
    "cvičné věty:\n",
    "\n",
    "- muj email je petrsevcik@email.com, SDA má email SDA@seznam.cz\n",
    "\n",
    "- ALC dnes oznámily objednávku na 25 A220, 55 A321neo, 20 A321XLR a 4 A330neo. Boeing ziskal objednavky na 20 737MAX 10 787 dreamlineru. Neprodal se žádný bombardér B52 ani stíhačka F16.\n",
    "\n",
    "\n",
    " - vytvořte regex na vyhledávání emailových address\n",
    " - vytvořete regex na vyhledávání typů letadel boeing a airbus (A319, A220, A320, A321, A350, 737, 777, 787)"
   ]
  },
  {
   "cell_type": "raw",
   "id": "708ceb39",
   "metadata": {},
   "source": []
  },
  {
   "cell_type": "markdown",
   "id": "eae468df",
   "metadata": {},
   "source": [
    "### Knihovna RE"
   ]
  },
  {
   "cell_type": "raw",
   "id": "cd3a8c0d",
   "metadata": {},
   "source": [
    "#funkce\n",
    "search - takes two arguments - regex and text - re.search(r\"[A-Z]la\", \"ala, Ola Ela\") - vrací objekt\n",
    "match - same as search\n",
    "findall - vrací všechny výsledky v listu print(re.findall(r\".la\", \"Ola ala Ela\")) # ['Ola', 'ala', 'Ela']\n",
    "split - rozděluje výrazy podle daného parametru\n",
    "sub - nahrazuje výrazy podle daného parametu\n"
   ]
  },
  {
   "cell_type": "code",
   "execution_count": null,
   "id": "8caee92e",
   "metadata": {},
   "outputs": [],
   "source": []
  },
  {
   "cell_type": "markdown",
   "id": "5026c24b",
   "metadata": {},
   "source": [
    "cvičení:\n",
    "stáhnout všechny typy letadel Boeing a Airbus z článku https://zdopravy.cz/airbus-ma-dalsi-velkou-zakazku-prvni-zakaznik-si-objednal-a350-v-nakladni-verzi-96785/"
   ]
  }
 ],
 "metadata": {
  "kernelspec": {
   "display_name": "Python 3 (ipykernel)",
   "language": "python",
   "name": "python3"
  },
  "language_info": {
   "codemirror_mode": {
    "name": "ipython",
    "version": 3
   },
   "file_extension": ".py",
   "mimetype": "text/x-python",
   "name": "python",
   "nbconvert_exporter": "python",
   "pygments_lexer": "ipython3",
   "version": "3.8.2"
  }
 },
 "nbformat": 4,
 "nbformat_minor": 5
}
