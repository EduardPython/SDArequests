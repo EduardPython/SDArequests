{
 "cells": [
  {
   "cell_type": "markdown",
   "id": "600e29e0",
   "metadata": {},
   "source": [
    "#### Ukázat řešení - plancrash - revize kodu"
   ]
  },
  {
   "cell_type": "markdown",
   "id": "eb035b2e",
   "metadata": {},
   "source": [
    "## Black, Pre-commit\n",
    "\n",
    "### V \"reálném\" programovacím životě nám dodržování stylu usnadňují pomocné programy nebo built-in tooly. \n",
    "\n",
    "#### Pycharm našeptávač\n",
    "#### Black - https://black.readthedocs.io/en/stable/index.html\n",
    "#### Pre-commit - https://pre-commit.com/ - ukázat "
   ]
  },
  {
   "cell_type": "raw",
   "id": "6e7028a3",
   "metadata": {},
   "source": [
    "# ukázat main page\n",
    "# podpora více jazyků + pomocných věcí (yml soubory, docker atd)"
   ]
  },
  {
   "cell_type": "markdown",
   "id": "ee029601",
   "metadata": {},
   "source": [
    "### Vyšší dívčí\n",
    "#### https://copilot.github.com/ - AI našeptávač a doplňovač kódu\n"
   ]
  },
  {
   "cell_type": "markdown",
   "id": "b6c3e0fa",
   "metadata": {},
   "source": [
    "#### PEP 8 - LINTERS\n",
    "## linter - program který analyzuje kód a ukazuje možné chyby a stylistické problémy (Pycharm = červené podtržení (neuzavřená závorka), žluté zvýraznění(unresolved reference))"
   ]
  },
  {
   "cell_type": "markdown",
   "id": "899ac042",
   "metadata": {},
   "source": [
    "### Auto-formatter - analyzes the code in terms of compliance with PEP 8 and applies corrections to it"
   ]
  },
  {
   "cell_type": "raw",
   "id": "6f385e86",
   "metadata": {},
   "source": [
    "black\n",
    "pre-commit"
   ]
  },
  {
   "cell_type": "markdown",
   "id": "4bbbf160",
   "metadata": {},
   "source": [
    "### Jak vytvořit requirements file"
   ]
  },
  {
   "cell_type": "raw",
   "id": "ecd646aa",
   "metadata": {},
   "source": [
    "pip freeze > requirements.txt   "
   ]
  },
  {
   "cell_type": "markdown",
   "id": "37a2fe24",
   "metadata": {},
   "source": [
    "### Cvičení OOP - rozšířit Sazku"
   ]
  },
  {
   "cell_type": "raw",
   "id": "f7e01af2",
   "metadata": {},
   "source": [
    "1) doplňte do class Sazka metodu __init__ která bude brát vstup integer znamenající počet tahů\n",
    "2) přepiště funkce sportka a euromiliony aby vraceli tolik tahů kolik je zadáno na vstupu (== v __init__)\n",
    "3) doplnte funkce def extra_renta která bude mít tah 7 náhodných čísel od 1-33 a vracet tolik tahů kolik je na vstupu (==__init)\n",
    "\n"
   ]
  },
  {
   "cell_type": "markdown",
   "id": "31fa0b6f",
   "metadata": {},
   "source": [
    "## SOLID\n"
   ]
  },
  {
   "cell_type": "markdown",
   "id": "dcf4994e",
   "metadata": {},
   "source": [
    "SOLID (single responsibility, open-closed, Liskov substitution, interface segregation, dependency inversion) je sada doporučení, principů a vodítek, sloužících k vytvoření kvalitnějšího objektového návrhu. Principy SOLID shromáždil a popsal Robert C. Martin (strýček Bob) kolem roku 2000."
   ]
  },
  {
   "cell_type": "markdown",
   "id": "41acb416",
   "metadata": {},
   "source": [
    "### Single responsibility principle"
   ]
  },
  {
   "cell_type": "markdown",
   "id": "f5c7b35e",
   "metadata": {},
   "source": [
    "#### - každá třída či modul by měl mít právě jednu zodpovědnost\n",
    "#### - tato zodpovědnost by měla být danou třídou či modulem plně pokryta. \n",
    "#### - za zodpovědnost se zpravidla považuje nějaká rozumně jednoduchá a oddělená funkcionalita."
   ]
  },
  {
   "cell_type": "markdown",
   "id": "7d227bce",
   "metadata": {},
   "source": [
    "### Princip Open/Closed"
   ]
  },
  {
   "cell_type": "markdown",
   "id": "fda9cd48",
   "metadata": {},
   "source": [
    "#### - Princip Open/Closed říká, že by každá softwarová entita (třída, modul, metoda, kód...) měla být otevřená pro rozšíření, ale uzavřená pro modifikaci. == Dědičnost"
   ]
  },
  {
   "cell_type": "markdown",
   "id": "8e0b40e2",
   "metadata": {},
   "source": [
    "### Liskov substitution principle"
   ]
  },
  {
   "cell_type": "markdown",
   "id": "6ee719a9",
   "metadata": {},
   "source": [
    "#### - vzájemném nahrazování dvou tříd. \n",
    "#### - Je-li třída B potomkem třídy A, pak musí být třída B použitelná všude, kde je vyžadována třída A"
   ]
  },
  {
   "cell_type": "markdown",
   "id": "da6fe76e",
   "metadata": {},
   "source": [
    "### Interface segregation principle"
   ]
  },
  {
   "cell_type": "markdown",
   "id": "cbba42f7",
   "metadata": {},
   "source": [
    "#### - každé rozhraní by mělo být co nejmenší možné a třídy by neměly být nuceny používat rozhraní, která nepoužívají.\n",
    "\n",
    "#### - Pokud nějaké rozhraní přesáhne rozumnou velikost, musí se rozdělit do několika dalších a užších rozhraní."
   ]
  },
  {
   "cell_type": "markdown",
   "id": "8de52e30",
   "metadata": {},
   "source": [
    "### Dependency inversion principle"
   ]
  },
  {
   "cell_type": "markdown",
   "id": "eaa442cf",
   "metadata": {},
   "source": [
    "### - Princip inverze závislosti říká, že moduly na vyšší úrovni by neměly záviset na modulech nízkoúrovňových"
   ]
  },
  {
   "cell_type": "markdown",
   "id": "45910a96",
   "metadata": {},
   "source": [
    "# Cvičení - Time Calculator - odpočinek od OOP na chvíli :)"
   ]
  },
  {
   "cell_type": "code",
   "execution_count": null,
   "id": "4ddde7d1",
   "metadata": {},
   "outputs": [],
   "source": [
    "Vytvořte funkci add_time která vyžaduje dva povinné parametry a jeden volitelný\n",
    "\n",
    "- start time in the 12-hour clock format (ending in AM or PM) = Start čas\n",
    "- duration time that indicates the number of hours and minutes = hodiny a minuty které se mají přidat k počátečnímu času\n",
    "- (optional) a starting day of the week, case insensitive = den v týdnu\n",
    "# add_time(\"11:59 PM\", \"24:05\")\n",
    "# add_time(\"11:30 AM\", \"2:32\", \"Monday\")\n",
    "\n",
    "Funkce přidá zadaný čas (druhý argument) k počátečnímu času a vrátí ho jako výsledek.\n",
    "\n",
    "\n",
    "- Pokud výsledek je další den, vytiskne čas a \"další den\" \n",
    "- Pokud je výsledek o x dní později, vytiskne čas a \"o x dní pozdějí\"\n",
    "\n",
    "- Pokud je zadán parametr den v týdnu, ukáže ve výsledku také den v týdnu\n",
    "\n",
    "."
   ]
  },
  {
   "cell_type": "markdown",
   "id": "35571071",
   "metadata": {},
   "source": [
    "## Cvičení geometrie"
   ]
  },
  {
   "cell_type": "raw",
   "id": "cb431857",
   "metadata": {},
   "source": [
    "V tomto cvičení použijte OOP a vytvořte Rectangle class a Square class\n",
    "\n",
    "Square class je podtřída Rectangle class a bude z ní dědit (super.__init__)\n",
    "\n",
    "Rectangle class\n",
    "- když se vytvoří reclangle objekt bude brát input délku a výšku stran (width, height)\n",
    "- dále bude obsahovat následující metody\n",
    "\n",
    "set_width - nastavení nové delky\n",
    "set_height - nastavení nové výšky\n",
    "get_area: Returns area (width * height)\n",
    "get_perimeter: Returns perimeter (2 * width + 2 * height)\n",
    "get_diagonal: Returns diagonal ((width ** 2 + height ** 2) ** .5)\n",
    "get_picture: Returns a string that represents the shape using lines of \"*\" = vytiskne obrazec pomocí \"*\" - délka = délka řádku, výška = počet řádků\n",
    "např 8*3\n",
    "********\n",
    "********\n",
    "********\n",
    "Rectangle(width=5, height=10)\n",
    "\n",
    "Square class\n",
    "Subclass z rectangle. Při vytvoření objektu bere pouze jeden parametr - délku = lenght\n",
    "__init__ metoda bude obsahovat lenght i height metodu a bude se rovnat délce - lenght\n",
    "\n",
    "Bude obsahovat metodu:\n",
    "set_side\n",
    "+ přepište metody \n",
    "set_width\n",
    "set_height --> aby změnili strany na danou délku\n",
    "\n",
    "\n",
    "Square(side=9)\n"
   ]
  },
  {
   "cell_type": "markdown",
   "id": "3049276d",
   "metadata": {},
   "source": [
    "## Cvičení - udělejte si kávovar :) \n",
    "\n"
   ]
  },
  {
   "cell_type": "markdown",
   "id": "2aeffed1",
   "metadata": {},
   "source": [
    "#### 1) Vytvořte class \"CoffeeStack\" která bude simulovat automat na kávu\n",
    " ##### - bude obsahovat počáteční suroviny k přípravě káv, \n",
    " ##### - nabízet možnost udělat presso, cappucino, latte, ice coffee (při každé přípravě kávy se daý počet surovin odečte z počátečního stavu)"
   ]
  },
  {
   "cell_type": "raw",
   "id": "b5883155",
   "metadata": {},
   "source": [
    "class CoffeeStack:\n",
    "    \"\"\"\n",
    "    Class containing supplies in Coffee machine\n",
    "    coffee_beans (10), milk(10), ice_cubes(10), sugar(5), flavor(5)\n",
    "    and recipes for Espresso, Cappuccino, Latte, Ice coffee\n",
    "    \n",
    "    - espresso - 2 coffee beans\n",
    "    - cappuccino - 2 coffee beans, 2 milk\n",
    "    - latte - 2 coffee beans, 4 milk\n",
    "    - ice_coffee - 2 coffee beans, 4 latte\n",
    "    \n",
    "    + extras - milk, sugar, flavor\n",
    "    - each extra - 1 from stock\n",
    "    \"\"\"\n",
    "\n",
    "    def __init__(self):\n",
    "\n",
    "\n",
    "    def espresso(self):\n",
    "        pass\n",
    "\n",
    "    def cappuccino(self):\n",
    "        pass\n",
    "\n",
    "...\n",
    "...\n",
    "...\n",
    "\n",
    "\n",
    "\n",
    "    def add_sugar(self):\n",
    "        pass\n",
    "\n",
    "\n"
   ]
  },
  {
   "cell_type": "markdown",
   "id": "f0b0f333",
   "metadata": {},
   "source": [
    "### Pokračujte vytvořením class CoffeeMachine která dědí z class CoffeeStack a která simuluje funkce automatu na kávu:\n",
    "#### - stock_checker - ukazuje kolik zásob je v kávovaru, vrátí True pokud je jich dostatek na daný nápoj\n",
    "#### - make_coffee - udělá kávu == odečte počet surovin ze stacku, pokud jich není dostatek, upozorní na to\n",
    "#### - extras - funkce která se zeptá jestli chcete cukr, příchuť nebo extra shot navíc\n",
    "#### - show_stock - ukáže kolik surovin v automatu zůstává\n",
    "#### - refill - doplňění surovin do původních zásob\n"
   ]
  },
  {
   "cell_type": "raw",
   "id": "97b0d5a0",
   "metadata": {},
   "source": [
    "class CoffeeMachine(CoffeeStack):\n",
    "    \"\"\"\n",
    "    Class simulating coffee machine. It can prepare coffees,\n",
    "    you can add extra shot, sugar or vanilla flavor\n",
    "    If you run out of stock, machine needs refill. You can check current stock status\n",
    "    \n",
    "    \n",
    "    \"\"\"\n",
    "\n",
    "    def stock_checker(self):\n",
    "        pass\n",
    "\n",
    "    def make_coffee(self, coffee_type):\n",
    "        pass\n",
    "\n",
    "    def extras(self):\n",
    "        pass\n",
    "\n",
    "    def show_stock(self):\n",
    "        pass\n",
    "\n",
    "    def refill_machine(self):\n",
    "        pass"
   ]
  },
  {
   "cell_type": "markdown",
   "id": "284dbf36",
   "metadata": {},
   "source": [
    "## 3) vytvořte CLI (command line interface) aby kávovar komunikoval s klientem a plnil jeho přání"
   ]
  },
  {
   "cell_type": "raw",
   "id": "656d27d0",
   "metadata": {},
   "source": [
    "def terminal():\n",
    "    \"\"\"Interface for Coffee Machine\"\"\"\n",
    "    print(\"Hello Coffee Lover!\")\n",
    "    pass"
   ]
  },
  {
   "cell_type": "markdown",
   "id": "1e3aa463",
   "metadata": {},
   "source": [
    "https://www.freecodecamp.org/learn/scientific-computing-with-python/scientific-computing-with-python-projects/time-calculator"
   ]
  }
 ],
 "metadata": {
  "kernelspec": {
   "display_name": "Python 3 (ipykernel)",
   "language": "python",
   "name": "python3"
  },
  "language_info": {
   "codemirror_mode": {
    "name": "ipython",
    "version": 3
   },
   "file_extension": ".py",
   "mimetype": "text/x-python",
   "name": "python",
   "nbconvert_exporter": "python",
   "pygments_lexer": "ipython3",
   "version": "3.8.2"
  }
 },
 "nbformat": 4,
 "nbformat_minor": 5
}
