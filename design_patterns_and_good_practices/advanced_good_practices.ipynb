{
 "cells": [
  {
   "cell_type": "markdown",
   "id": "600e29e0",
   "metadata": {},
   "source": [
    "#### Ukázat řešení - plancrash - revize kodu"
   ]
  },
  {
   "cell_type": "markdown",
   "id": "eb035b2e",
   "metadata": {},
   "source": [
    "## Black, Pre-commit\n",
    "\n",
    "### V \"reálném\" programovacím životě nám dodržování stylu usnadňují pomocné programy nebo built-in tooly. \n",
    "\n",
    "#### Pycharm našeptávač\n",
    "#### Black - https://black.readthedocs.io/en/stable/index.html\n",
    "#### Pre-commit - https://pre-commit.com/ - ukázat "
   ]
  },
  {
   "cell_type": "raw",
   "id": "6e7028a3",
   "metadata": {},
   "source": [
    "# ukázat main page\n",
    "# podpora více jazyků + pomocných věcí (yml soubory, docker atd)"
   ]
  },
  {
   "cell_type": "markdown",
   "id": "ee029601",
   "metadata": {},
   "source": [
    "### Vyšší dívčí\n",
    "#### https://copilot.github.com/ - AI našeptávač a doplňovač kódu\n"
   ]
  },
  {
   "cell_type": "markdown",
   "id": "b6c3e0fa",
   "metadata": {},
   "source": [
    "#### PEP 8 - LINTERS\n",
    "## linter - program který analyzuje kód a ukazuje možné chyby a stylistické problémy (Pycharm = červené podtržení (neuzavřená závorka), žluté zvýraznění(unresolved reference))"
   ]
  },
  {
   "cell_type": "markdown",
   "id": "899ac042",
   "metadata": {},
   "source": [
    "### Auto-formatter - analyzes the code in terms of compliance with PEP 8 and applies corrections to it"
   ]
  },
  {
   "cell_type": "raw",
   "id": "6f385e86",
   "metadata": {},
   "source": [
    "black\n",
    "pre-commit"
   ]
  },
  {
   "cell_type": "markdown",
   "id": "4bbbf160",
   "metadata": {},
   "source": [
    "### Jak vytvořit requirements file"
   ]
  },
  {
   "cell_type": "raw",
   "id": "ecd646aa",
   "metadata": {},
   "source": [
    "pip freeze > requirements.txt   "
   ]
  },
  {
   "cell_type": "markdown",
   "id": "37a2fe24",
   "metadata": {},
   "source": [
    "### Cvičení OOP - rozšířit Sazku"
   ]
  },
  {
   "cell_type": "raw",
   "id": "f7e01af2",
   "metadata": {},
   "source": [
    "1) doplňte do class Sazka metodu __init__ která bude brát vstup integer znamenající počet tahů\n",
    "2) přepiště funkce sportka a euromiliony aby vraceli tolik tahů kolik je zadáno na vstupu (== v __init__)\n",
    "3) doplnte funkce def extra_renta která bude mít tah 7 náhodných čísel od 1-33 a vracet tolik tahů kolik je na vstupu (==__init)\n",
    "\n",
    "# nápověda\n",
    "# round = random.sample(range(1, 51), 5)\n",
    "\n",
    "class Sazka:\n",
    "    \n",
    "    def __init__(self, xx)\n",
    "        pass\n",
    "    \n",
    "    def sportka\n",
    "        xx pocet tahu\n",
    "        pass\n",
    "        \n",
    "    def euromiliony\n",
    "        xx pocet tahu\n",
    "        \n",
    "    def extra_renta\n",
    "        pass\n",
    "    \n",
    "\n",
    "    \n"
   ]
  },
  {
   "cell_type": "markdown",
   "id": "31fa0b6f",
   "metadata": {},
   "source": [
    "## SOLID\n"
   ]
  },
  {
   "cell_type": "markdown",
   "id": "dcf4994e",
   "metadata": {},
   "source": [
    "SOLID (single responsibility, open-closed, Liskov substitution, interface segregation, dependency inversion) je sada doporučení, principů a vodítek, sloužících k vytvoření kvalitnějšího objektového návrhu. Principy SOLID shromáždil a popsal Robert C. Martin (strýček Bob) kolem roku 2000."
   ]
  },
  {
   "cell_type": "markdown",
   "id": "41acb416",
   "metadata": {},
   "source": [
    "### Single responsibility principle"
   ]
  },
  {
   "cell_type": "markdown",
   "id": "f5c7b35e",
   "metadata": {},
   "source": [
    "#### - každá třída či modul by měl mít právě jednu zodpovědnost\n",
    "#### - tato zodpovědnost by měla být danou třídou či modulem plně pokryta. \n",
    "#### - za zodpovědnost se zpravidla považuje nějaká rozumně jednoduchá a oddělená funkcionalita."
   ]
  },
  {
   "cell_type": "markdown",
   "id": "7d227bce",
   "metadata": {},
   "source": [
    "### Princip Open/Closed"
   ]
  },
  {
   "cell_type": "markdown",
   "id": "fda9cd48",
   "metadata": {},
   "source": [
    "#### - Princip Open/Closed říká, že by každá softwarová entita (třída, modul, metoda, kód...) měla být otevřená pro rozšíření, ale uzavřená pro modifikaci. == Dědičnost"
   ]
  },
  {
   "cell_type": "markdown",
   "id": "8e0b40e2",
   "metadata": {},
   "source": [
    "### Liskov substitution principle"
   ]
  },
  {
   "cell_type": "markdown",
   "id": "6ee719a9",
   "metadata": {},
   "source": [
    "#### - vzájemném nahrazování dvou tříd. \n",
    "#### - Je-li třída B potomkem třídy A, pak musí být třída B použitelná všude, kde je vyžadována třída A"
   ]
  },
  {
   "cell_type": "markdown",
   "id": "da6fe76e",
   "metadata": {},
   "source": [
    "### Interface segregation principle"
   ]
  },
  {
   "cell_type": "markdown",
   "id": "cbba42f7",
   "metadata": {},
   "source": [
    "#### - každé rozhraní by mělo být co nejmenší možné a třídy by neměly být nuceny používat rozhraní, která nepoužívají.\n",
    "\n",
    "#### - Pokud nějaké rozhraní přesáhne rozumnou velikost, musí se rozdělit do několika dalších a užších rozhraní."
   ]
  },
  {
   "cell_type": "markdown",
   "id": "8de52e30",
   "metadata": {},
   "source": [
    "### Dependency inversion principle"
   ]
  },
  {
   "cell_type": "markdown",
   "id": "eaa442cf",
   "metadata": {},
   "source": [
    "### - Princip inverze závislosti říká, že moduly na vyšší úrovni by neměly záviset na modulech nízkoúrovňových"
   ]
  },
  {
   "cell_type": "markdown",
   "id": "45910a96",
   "metadata": {},
   "source": [
    "# Cvičení - Time Calculator - odpočinek od OOP na chvíli :)"
   ]
  },
  {
   "cell_type": "code",
   "execution_count": null,
   "id": "4ddde7d1",
   "metadata": {},
   "outputs": [],
   "source": [
    "Vytvořte funkci add_time která vyžaduje dva povinné parametry a (jeden volitelný = BONUS)\n",
    "\n",
    "- \"11:59 PM\" start time in the 12-hour clock format (ending in AM or PM) = Start čas\n",
    "- \"49:05\" = hodiny a minuty které se mají přidat k počátečnímu času\n",
    "# add_time(\"11:59 PM\", \"24:05\")\n",
    "\n",
    "- BONUS: (optional) a starting day of the week, case insensitive = den v týdnu\n",
    "# add_time(\"11:30 AM\", \"2:32\", \"Monday\")\n",
    "\n",
    "Funkce přidá zadaný čas (druhý argument) k počátečnímu času a vrátí ho jako výsledek.\n",
    "\n",
    "- Pokud výsledek je další den, vytiskne čas a \"další den\" \n",
    "- Pokud je výsledek o x dní později, vytiskne čas a \"o x dní pozdějí\"\n",
    "\n",
    "- BONUS:\n",
    "- Pokud je zadán parametr den v týdnu, ukáže ve výsledku také den v týdnu\n",
    "\n"
   ]
  },
  {
   "cell_type": "raw",
   "id": "4f5c5a25",
   "metadata": {},
   "source": [
    "def add_time(start, duration, day=None)\n",
    "    pass\n",
    "    1) Rozdělit/splitnout vstupy na hodiny, minuty, pm/am\n",
    "    2) pokud je to pm --> + 12\n",
    "    3) určit hranice kdy už je další den, hodina --> % (modulo) a // 100:60 -> 1hod a zbytek 40min || 36 hodin -> :24 -> 1den, 12hodin \n",
    "    4) vystup ve formatu str --> po provedení numerickych operaci, musime prevest format (23:05)\n",
    "    5) vystup -> AM, PM -> konvertovat zpatky"
   ]
  },
  {
   "cell_type": "code",
   "execution_count": 4,
   "id": "70f31fb5",
   "metadata": {},
   "outputs": [
    {
     "name": "stdout",
     "output_type": "stream",
     "text": [
      "11 59 PM\n",
      "23 59\n"
     ]
    }
   ],
   "source": [
    "# Postup:\n",
    "\n",
    "#rozdělení start time\n",
    "start_time = \"11:59 PM\"\n",
    "\n",
    "start_t = start_time.split()\n",
    "h_m = start_t[0].split(\":\")\n",
    "hour, minute = int(h_m[0]), int(h_m[1])\n",
    "am_pm = start_t[1]\n",
    "\n",
    "print(hour, minute, am_pm)\n",
    "\n",
    "if am_pm == \"PM\":\n",
    "    hour += 12\n",
    "\n",
    "print(hour, minute)\n"
   ]
  },
  {
   "cell_type": "code",
   "execution_count": 5,
   "id": "6c37d421",
   "metadata": {},
   "outputs": [
    {
     "name": "stdout",
     "output_type": "stream",
     "text": [
      "24 5\n"
     ]
    }
   ],
   "source": [
    "#rodělení added time\n",
    "added_time = \"24:05\"\n",
    "d = added_time.split(\":\")\n",
    "add_hour, add_minute = int(d[0]), int(d[1])\n",
    "print(add_hour, add_minute)"
   ]
  },
  {
   "cell_type": "code",
   "execution_count": 6,
   "id": "0ccde0ef",
   "metadata": {},
   "outputs": [
    {
     "name": "stdout",
     "output_type": "stream",
     "text": [
      "47 64\n"
     ]
    }
   ],
   "source": [
    "# secteni na celkovy cas\n",
    "total_h = hour + add_hour\n",
    "total_m = minute + add_minute\n",
    "print(total_h, total_m)"
   ]
  },
  {
   "cell_type": "code",
   "execution_count": 8,
   "id": "1b7351c4",
   "metadata": {},
   "outputs": [
    {
     "name": "stdout",
     "output_type": "stream",
     "text": [
      "1\n",
      "23\n"
     ]
    }
   ],
   "source": [
    "dny = total_h // 24\n",
    "hodiny = total_h % 24\n",
    "\n",
    "print(dny)\n",
    "print(hodiny)"
   ]
  },
  {
   "cell_type": "code",
   "execution_count": 11,
   "id": "f49b7739",
   "metadata": {},
   "outputs": [
    {
     "name": "stdout",
     "output_type": "stream",
     "text": [
      "('4:04 PM', 'today')\n",
      "('2:19 AM', '(3 days later)')\n"
     ]
    }
   ],
   "source": [
    "def add_time(start, duration, day=None):\n",
    "\n",
    "    # getting hour, minute and am/pm\n",
    "    start_t = start.split()\n",
    "    h_m = start_t[0].split(\":\")\n",
    "    hour, minute = int(h_m[0]), int(h_m[1])\n",
    "    am_pm = start_t[1]\n",
    "    if am_pm == \"PM\":\n",
    "        hour += 12\n",
    "\n",
    "    # duration hours, minutes\n",
    "    d = duration.split(\":\")\n",
    "    add_hour, add_minute = int(d[0]), int(d[1])\n",
    "\n",
    "    # adding time\n",
    "    total_h = hour + add_hour\n",
    "    total_m = minute + add_minute\n",
    "    \n",
    "    # formatting minutes\n",
    "    m = total_m % 60\n",
    "    if m < 10:\n",
    "        m = \"0\" + str(m) # 09\n",
    "        \n",
    "    # formatting hours\n",
    "    h = total_h % 24 \n",
    "    add_h = total_m // 60\n",
    "    h += add_h\n",
    "    \n",
    "    # formatting days\n",
    "    next_day = \"today\"\n",
    "    d = (total_h + add_h) // 24 \n",
    "    if d == 1:\n",
    "        next_day = \"next day\"\n",
    "    if d > 1:\n",
    "        next_day = f\"({d} days later)\"\n",
    "        \n",
    "    # formatting result\n",
    "    if h == 24:\n",
    "        final_time = str(h - 12) + \":\" + str(m) + \"AM\" # 0-1 hodina po pulnoci\n",
    "    elif h > 12:\n",
    "        final_time = str(h - 12) + \":\" + str(m) + \" PM\" # 13:00 -> 23:59\n",
    "    elif h == 12: \n",
    "        final_time = str(h) + \":\" + str(m) + \" PM\" # 12:00-12:59 v poledne\n",
    "    else:\n",
    "        final_time = str(h) + \":\" + str(m) + \" AM\" #02:00 > 11:59\n",
    "    \n",
    "    return final_time, next_day \n",
    "    \n",
    "print(add_time(\"11:59 AM\", \"4:05\"))\n",
    "print(add_time(\"11:59 PM\", \"50:20\"))\n",
    "#vstup: print(add_time(\"11:59 PM\", \"24:05\"))\n",
    "#vstup: print(add_time(\"11:59 PM\", \"50:20\"))\n",
    "#vystup: ('12:04 AM', '(2 days later)')\n",
    "# vystup: ('2:19 AM', '(3 days later)')"
   ]
  },
  {
   "cell_type": "markdown",
   "id": "35571071",
   "metadata": {},
   "source": [
    "## Cvičení geometrie"
   ]
  },
  {
   "cell_type": "raw",
   "id": "cb431857",
   "metadata": {},
   "source": [
    "V tomto cvičení použijte OOP a vytvořte Rectangle class a Square class\n",
    "\n",
    "Square class je podtřída Rectangle class a bude z ní dědit (super.__init__)\n",
    "\n",
    "Rectangle class\n",
    "- když se vytvoří reclangle objekt bude brát input délku a výšku stran (width, height)\n",
    "- dále bude obsahovat následující metody\n",
    "\n",
    "set_width - nastavení nové delky\n",
    "set_height - nastavení nové výšky\n",
    "get_area: Returns area (width * height)\n",
    "get_perimeter: Returns perimeter (2 * width + 2 * height)\n",
    "get_diagonal: Returns diagonal ((width ** 2 + height ** 2) ** .5)\n",
    "get_picture: Returns a string that represents the shape using lines of \"*\" = vytiskne obrazec pomocí \"*\" - délka = délka řádku, výška = počet řádků\n",
    "např 8*3\n",
    "********\n",
    "********\n",
    "********\n",
    "Rectangle(width=5, height=10)\n",
    "\n",
    "Square class\n",
    "Subclass z rectangle. Při vytvoření objektu bere pouze jeden parametr - délku = lenght\n",
    "__init__ metoda bude obsahovat lenght i height metodu a bude se rovnat délce - lenght\n",
    "\n",
    "Bude obsahovat metodu:\n",
    "set_side\n",
    "+ přepište metody \n",
    "set_width\n",
    "set_height --> aby změnili strany na danou délku\n",
    "\n",
    "\n",
    "Square(side=9)\n"
   ]
  },
  {
   "cell_type": "code",
   "execution_count": 26,
   "id": "9568b972",
   "metadata": {},
   "outputs": [
    {
     "name": "stdout",
     "output_type": "stream",
     "text": [
      "Rectangle - libovoly text\n"
     ]
    }
   ],
   "source": [
    "class Rectangle:\n",
    "    # když se vytvoří reclangle objekt bude brát input délku a výšku stran (width, height)\n",
    "    def __init__(self, width, height):\n",
    "        self.width = width\n",
    "        self.height = height\n",
    "        \n",
    "    def __str__(self):\n",
    "        return f\"Rectangle - libovoly text\"\n",
    "\n",
    "    \n",
    "    def set_width(self, new_width):\n",
    "        self.width = new_width\n",
    "        \n",
    "    def set_height(self, new_height):\n",
    "        self.height = new_height\n",
    "        \n",
    "    def get_area(self):\n",
    "        return self.width * self.height\n",
    "\n",
    "    def get_perimeter(self):\n",
    "        return (2 * self.width) + (2 * self.height)\n",
    "\n",
    "    def get_diagonal(self):\n",
    "        return (self.width ** 2 + self.height ** 2) ** .5\n",
    "    \n",
    "    def get_picture(self):\n",
    "        if self.height > 50 or self.width > 50:\n",
    "            return \"Too big for picture.\"\n",
    "        return self.height*(self.width*\"*\" + \"\\n\")  \n",
    "    \n",
    "rect = Rectangle(10, 5)\n",
    "print(rect)"
   ]
  },
  {
   "cell_type": "raw",
   "id": "9535b740",
   "metadata": {},
   "source": [
    "Square class je podtřída Rectangle class a bude z ní dědit (super.__init__)\n",
    "\n",
    "Při vytvoření objektu bere pouze jeden parametr - délku = lenght\n",
    "\n",
    "metoda: set_side\n",
    "\n",
    "Objekt má stringovou reprezentaci \"Ctverec se stranou XX(=delka strany)\"\n",
    "\n",
    "\n",
    "class Square(Rectangle):\n",
    "\n",
    "    def __init__(self, ...)\n",
    "        super().__init__(xx)\n"
   ]
  },
  {
   "cell_type": "code",
   "execution_count": 46,
   "id": "a030123f",
   "metadata": {},
   "outputs": [
    {
     "ename": "TypeError",
     "evalue": "__init__() missing 1 required positional argument: 'side'",
     "output_type": "error",
     "traceback": [
      "\u001b[0;31m---------------------------------------------------------------------------\u001b[0m",
      "\u001b[0;31mTypeError\u001b[0m                                 Traceback (most recent call last)",
      "\u001b[0;32m/var/folders/x8/vc97cjmx36s710grn3lqk6680000gn/T/ipykernel_96169/1463276580.py\u001b[0m in \u001b[0;36m<module>\u001b[0;34m\u001b[0m\n\u001b[1;32m     48\u001b[0m         \u001b[0mself\u001b[0m\u001b[0;34m.\u001b[0m\u001b[0mheight\u001b[0m \u001b[0;34m=\u001b[0m \u001b[0mnew_side\u001b[0m\u001b[0;34m\u001b[0m\u001b[0;34m\u001b[0m\u001b[0m\n\u001b[1;32m     49\u001b[0m \u001b[0;34m\u001b[0m\u001b[0m\n\u001b[0;32m---> 50\u001b[0;31m \u001b[0msq\u001b[0m \u001b[0;34m=\u001b[0m \u001b[0mSquare\u001b[0m\u001b[0;34m(\u001b[0m\u001b[0;34m)\u001b[0m\u001b[0;34m\u001b[0m\u001b[0;34m\u001b[0m\u001b[0m\n\u001b[0m\u001b[1;32m     51\u001b[0m \u001b[0mprint\u001b[0m\u001b[0;34m(\u001b[0m\u001b[0msq\u001b[0m\u001b[0;34m.\u001b[0m\u001b[0mwidth\u001b[0m\u001b[0;34m)\u001b[0m\u001b[0;34m\u001b[0m\u001b[0;34m\u001b[0m\u001b[0m\n\u001b[1;32m     52\u001b[0m \u001b[0mprint\u001b[0m\u001b[0;34m(\u001b[0m\u001b[0msq\u001b[0m\u001b[0;34m.\u001b[0m\u001b[0mheight\u001b[0m\u001b[0;34m)\u001b[0m\u001b[0;34m\u001b[0m\u001b[0;34m\u001b[0m\u001b[0m\n",
      "\u001b[0;31mTypeError\u001b[0m: __init__() missing 1 required positional argument: 'side'"
     ]
    }
   ],
   "source": [
    "class Rectangle:\n",
    "    # když se vytvoří reclangle objekt bude brát input délku a výšku stran (width, height)\n",
    "    def __init__(self, width, height):\n",
    "        self.width = width\n",
    "        self.height = height\n",
    "        \n",
    "    def __str__(self):\n",
    "        return f\"Rectangle - libovoly text\"\n",
    "\n",
    "    \n",
    "    def set_width(self, new_width):\n",
    "        self.width = new_width\n",
    "        \n",
    "    def set_height(self, new_height):\n",
    "        self.height = new_height\n",
    "        \n",
    "    def get_area(self):\n",
    "        return self.width * self.height\n",
    "\n",
    "    def get_perimeter(self):\n",
    "        return (2 * self.width) + (2 * self.height)\n",
    "\n",
    "    def get_diagonal(self):\n",
    "        return (self.width ** 2 + self.height ** 2) ** .5\n",
    "    \n",
    "    def get_picture(self):\n",
    "        if self.height > 50 or self.width > 50:\n",
    "            return \"Too big for picture.\"\n",
    "        return self.height*(self.width*\"*\" + \"\\n\")\n",
    "\n",
    "class Square(Rectangle):\n",
    "    \n",
    "    def __init__(self, side):\n",
    "        super().__init__(width=side, height=side)\n",
    "        \n",
    "    def __str__(self):\n",
    "        return f\"Ctverec se stranou delky {self.side}\"\n",
    "    \n",
    "    def set_side(self, new_side):\n",
    "        self.side = new_side\n",
    "        \n",
    "    def set_height(self, new_side):\n",
    "        self.width = new_side\n",
    "        self.height = new_side\n",
    "    \n",
    "    def set_width(self, new_side):\n",
    "        self.width = new_side\n",
    "        self.height = new_side\n",
    "        \n",
    "sq = Square()\n",
    "print(sq.width)\n",
    "print(sq.height)\n",
    "\n",
    "print(sq.get_area())\n",
    "sq.set_height(3)\n",
    "print(sq.width)\n",
    "print(sq.height)\n",
    "\n",
    "print(sq.get_picture())\n",
    "\n"
   ]
  },
  {
   "cell_type": "markdown",
   "id": "3049276d",
   "metadata": {},
   "source": [
    "## Cvičení - udělejte si kávovar :) \n",
    "\n"
   ]
  },
  {
   "cell_type": "markdown",
   "id": "2aeffed1",
   "metadata": {},
   "source": [
    "#### 1) Vytvořte class \"CoffeeStack\" která bude simulovat automat na kávu\n",
    " ##### - bude obsahovat počáteční suroviny k přípravě káv, \n",
    " ##### - nabízet možnost udělat presso, cappucino, latte, ice coffee (při každé přípravě kávy se daý počet surovin odečte z počátečního stavu)"
   ]
  },
  {
   "cell_type": "raw",
   "id": "b5883155",
   "metadata": {},
   "source": [
    "class CoffeeStack:\n",
    "    \"\"\"\n",
    "    Class containing supplies in Coffee machine\n",
    "    coffee_beans (10), milk(10), ice_cubes(10), sugar(5), flavor(5)\n",
    "    and recipes for Espresso, Cappuccino, Latte, Ice coffee\n",
    "    \n",
    "    - espresso - 2 coffee beans\n",
    "    - cappuccino - 2 coffee beans, 2 milk\n",
    "    - latte - 2 coffee beans, 4 milk\n",
    "    - ice_coffee - 2 coffee beans, 4 latte\n",
    "    \n",
    "    + extras - milk, sugar, flavor\n",
    "    - each extra - 1 from stock\n",
    "    \"\"\"\n",
    "\n",
    "    def __init__(self):\n",
    "\n",
    "\n",
    "    def espresso(self):\n",
    "        pass\n",
    "\n",
    "    def cappuccino(self):\n",
    "        pass\n",
    "\n",
    "...\n",
    "...\n",
    "...\n",
    "\n",
    "\n",
    "\n",
    "    def add_sugar(self):\n",
    "        pass\n",
    "\n",
    "\n"
   ]
  },
  {
   "cell_type": "markdown",
   "id": "f0b0f333",
   "metadata": {},
   "source": [
    "### Pokračujte vytvořením class CoffeeMachine která dědí z class CoffeeStack a která simuluje funkce automatu na kávu:\n",
    "#### - stock_checker - ukazuje kolik zásob je v kávovaru, vrátí True pokud je jich dostatek na daný nápoj\n",
    "#### - make_coffee - udělá kávu == odečte počet surovin ze stacku, pokud jich není dostatek, upozorní na to\n",
    "#### - extras - funkce která se zeptá jestli chcete cukr, příchuť nebo extra shot navíc\n",
    "#### - show_stock - ukáže kolik surovin v automatu zůstává\n",
    "#### - refill - doplňění surovin do původních zásob\n"
   ]
  },
  {
   "cell_type": "raw",
   "id": "97b0d5a0",
   "metadata": {},
   "source": [
    "class CoffeeMachine(CoffeeStack):\n",
    "    \"\"\"\n",
    "    Class simulating coffee machine. It can prepare coffees,\n",
    "    you can add extra shot, sugar or vanilla flavor\n",
    "    If you run out of stock, machine needs refill. You can check current stock status\n",
    "    \n",
    "    \n",
    "    \"\"\"\n",
    "\n",
    "    def stock_checker(self):\n",
    "        pass\n",
    "\n",
    "    def make_coffee(self, coffee_type):\n",
    "        pass\n",
    "\n",
    "    def extras(self):\n",
    "        pass\n",
    "\n",
    "    def show_stock(self):\n",
    "        pass\n",
    "\n",
    "    def refill_machine(self):\n",
    "        pass"
   ]
  },
  {
   "cell_type": "markdown",
   "id": "284dbf36",
   "metadata": {},
   "source": [
    "## 3) vytvořte CLI (command line interface) aby kávovar komunikoval s klientem a plnil jeho přání"
   ]
  },
  {
   "cell_type": "raw",
   "id": "656d27d0",
   "metadata": {},
   "source": [
    "def terminal():\n",
    "    \"\"\"Interface for Coffee Machine\"\"\"\n",
    "    print(\"Hello Coffee Lover!\")\n",
    "    pass"
   ]
  },
  {
   "cell_type": "markdown",
   "id": "1e3aa463",
   "metadata": {},
   "source": [
    "https://www.freecodecamp.org/learn/scientific-computing-with-python/scientific-computing-with-python-projects/time-calculator"
   ]
  }
 ],
 "metadata": {
  "kernelspec": {
   "display_name": "Python 3 (ipykernel)",
   "language": "python",
   "name": "python3"
  },
  "language_info": {
   "codemirror_mode": {
    "name": "ipython",
    "version": 3
   },
   "file_extension": ".py",
   "mimetype": "text/x-python",
   "name": "python",
   "nbconvert_exporter": "python",
   "pygments_lexer": "ipython3",
   "version": "3.8.2"
  }
 },
 "nbformat": 4,
 "nbformat_minor": 5
}
