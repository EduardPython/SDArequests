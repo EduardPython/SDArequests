{
 "cells": [
  {
   "cell_type": "markdown",
   "id": "fbf4b3af",
   "metadata": {},
   "source": [
    "## Good Practices\n",
    "### Zen of Python\n",
    "### PEP 8 - Style Guide for Python Code\n",
    "### PEP 257 - Docstrings"
   ]
  },
  {
   "cell_type": "markdown",
   "id": "266adefa",
   "metadata": {},
   "source": [
    "#### Otázka dne: Proč psát kod čitelně a podle konvencí? "
   ]
  },
  {
   "cell_type": "raw",
   "id": "08cdab99",
   "metadata": {},
   "source": [
    "1) \n",
    "2)\n",
    "3)\n",
    "4)\n",
    "5)"
   ]
  },
  {
   "cell_type": "markdown",
   "id": "391dc69c",
   "metadata": {},
   "source": [
    "#### Zen of Python - Anglický originál textu se vypíše, pokud v interaktivním režimu uživatel zadá příkaz >>> import this\n",
    "https://cs.wikipedia.org/wiki/Filosofie_Pythonu\n",
    "\n",
    "#### PEP 8 - https://www.python.org/dev/peps/pep-0008/\n",
    "\n",
    "#### PEP 257 - https://www.python.org/dev/peps/pep-0257/"
   ]
  },
  {
   "cell_type": "raw",
   "id": "12bcf20d",
   "metadata": {},
   "source": [
    "import this # ukázat v Pycharmu\n",
    "import codecs\n",
    "import requests"
   ]
  },
  {
   "cell_type": "raw",
   "id": "a60fff93",
   "metadata": {},
   "source": [
    "zen_of_python = codecs.encode(this.s, 'rot13')\n",
    "def translate(text, target_lang, source_lang=None):\n",
    "    deepl_api_key = \"224dd4fb-9c29-8ee9-759a-a71057134c5d:fx\"\n",
    "    deepl_url = \"https://api-free.deepl.com/v2/translate\"\n",
    "    parametry = {\n",
    "        \"auth_key\": deepl_api_key,\n",
    "        \"text\": text,\n",
    "        \"target_lang\": target_lang\n",
    "    }\n",
    "    if source_lang:\n",
    "        parametry.update({\"source_lang\": source_lang})\n",
    "\n",
    "    preklad = requests.get(url=deepl_url, params=parametry).json()\n",
    "    return preklad[\"translations\"][0][\"text\"]\n",
    "\n",
    "print(translate(zen_of_python, target_lang=\"CS\"))\n",
    "\n",
    "\n",
    "\n",
    "\n",
    "\n",
    "\n",
    "\n",
    "\n",
    "\n",
    "\n",
    "\n",
    "\n",
    "\n",
    "\n"
   ]
  },
  {
   "cell_type": "raw",
   "id": "35a13ffc",
   "metadata": {},
   "source": [
    "The Zen of Python, by Tim Peters\n",
    "\n",
    "Beautiful is better than ugly.\n",
    "Explicit is better than implicit.\n",
    "Simple is better than complex.\n",
    "Complex is better than complicated.\n",
    "Flat is better than nested.\n",
    "Sparse is better than dense.\n",
    "Readability counts.\n",
    "Special cases aren't special enough to break the rules.\n",
    "Although practicality beats purity.\n",
    "Errors should never pass silently.\n",
    "Unless explicitly silenced.\n",
    "In the face of ambiguity, refuse the temptation to guess.\n",
    "There should be one-- and preferably only one --obvious way to do it.\n",
    "Although that way may not be obvious at first unless you're Dutch.\n",
    "Now is better than never.\n",
    "Although never is often better than *right* now.\n",
    "If the implementation is hard to explain, it's a bad idea.\n",
    "If the implementation is easy to explain, it may be a good idea.\n",
    "Namespaces are one honking great idea -- let's do more of those!"
   ]
  },
  {
   "cell_type": "raw",
   "id": "b477758f",
   "metadata": {},
   "source": [
    "Krásné je lepší než ošklivé.\n",
    "Explicitní je lepší než implicitní.\n",
    "Jednoduché je lepší než složité.\n",
    "Složitý je lepší než komplikovaný.\n",
    "Ploché je lepší než vnořené.\n",
    "Řídký je lepší než hustý.\n",
    "Záleží na čitelnosti.\n",
    "Zvláštní případy nejsou dost zvláštní na to, aby porušovaly pravidla.\n",
    "I když praktičnost je lepší než čistota.\n",
    "Chyby by nikdy neměly procházet tiše.\n",
    "Pokud nejsou výslovně umlčeny.\n",
    "Tváří v tvář nejednoznačnosti odmítněte pokušení hádat.\n",
    "Měl by existovat jeden -- a nejlépe jen jeden -- zřejmý způsob, jak to udělat.\n",
    "I když ten způsob nemusí být na první pohled zřejmý, pokud nejste Holanďan.\n",
    "Lepší teď než nikdy.\n",
    "I když nikdy je často lepší než *teď*.\n",
    "Pokud je implementace obtížně vysvětlitelná, je to špatný nápad.\n",
    "Pokud je implementace snadno vysvětlitelná, může to být dobrý nápad.\n",
    "Prostory jmen jsou zatraceně skvělý nápad - udělejme jich víc!"
   ]
  },
  {
   "cell_type": "markdown",
   "id": "71882873",
   "metadata": {},
   "source": [
    "## Zen of Python v kostce\n",
    "https://github.com/petrsevcik/bike_scraper"
   ]
  },
  {
   "cell_type": "markdown",
   "id": "af04c240",
   "metadata": {},
   "source": [
    "#### Krásné je lepší než ošklivé / Jednoduché je lepší než složité / Záleží na čitelnosti."
   ]
  },
  {
   "cell_type": "markdown",
   "id": "c87d170e",
   "metadata": {},
   "source": [
    "https://www.canyon.com/en-cz/neuron-7/50015846.html?utm_source=google&utm_medium=organic&utm_campaign=surfaces&gclid=Cj0KCQiAw9qOBhC-ARIsAG-rdn5TQCZgx3aivEHDeKL7JlSZTRSEBJR7LHASr7ufTqtFKePrl4HcmDoaAvRaEALw_wcB"
   ]
  },
  {
   "cell_type": "raw",
   "id": "235fa653",
   "metadata": {},
   "source": [
    "import re\n",
    "#scraping bike name from html (wiht spaces, new lines, labels ) - \"New\"  'Neuron 7 WMN         New'\"\"\"\n",
    "\n",
    "scraped_name = \"\"\"New  Neuron 7 WMN      \\n   New\"\"\"\n",
    "def _normalize_name(raw_name):\n",
    "    _name = re.sub(\"New\", \"\", raw_name)\n",
    "    formatted_name = _name.lstrip().rstrip().replace(\"\\n\", \"\")\n",
    "    return formatted_name\n",
    "\n",
    "#print(_normalize_name(scraped_name))\n",
    "\n"
   ]
  },
  {
   "cell_type": "markdown",
   "id": "5b7d14dd",
   "metadata": {},
   "source": [
    "### cvičení - přepište funkci <code>_normalize_name </code> podle sebe aby byla čitelnější, jednodušší a hezčí"
   ]
  },
  {
   "cell_type": "raw",
   "id": "321cf627",
   "metadata": {},
   "source": [
    "def _normalize_name(raw_name)\n",
    "    pass "
   ]
  },
  {
   "cell_type": "markdown",
   "id": "516d578b",
   "metadata": {},
   "source": [
    "#### Složitý je lepší než komplikovaný / Řídký je lepší než hustý / Ploché je lepší než vnořené."
   ]
  },
  {
   "cell_type": "markdown",
   "id": "9d6b8585",
   "metadata": {},
   "source": [
    "https://github.com/petrsevcik/bike_scraper/blob/master/canyon.py"
   ]
  },
  {
   "cell_type": "raw",
   "id": "2e5fc219",
   "metadata": {},
   "source": [
    "\n",
    "# Pokud projekt je jednoduchý - OOP (objektově orientované programování) není třeba\n",
    "\n",
    "# Pokud projekt není jednoduchý - OOP je lepší (škálování, opakované použití, inheritance=dědičnost)\n",
    "\n",
    "# Lepší psát kratší a pomocné funkce zvlášť než do jiné funkce\n",
    "\n",
    "# Používat mezery - i ve funkci pro oddělení částí ( + automatické formátování v IDE)\n",
    "\n",
    "# Pokud byste měli psát nějaký blok kódu (if, split, replace...) více než jednou - vytvořete funkci\n",
    "\n",
    "# 1 FUNKCE == 1 UKOL\n"
   ]
  },
  {
   "cell_type": "markdown",
   "id": "319d5271",
   "metadata": {},
   "source": [
    "#### Chyby by nikdy neměly procházet tiše."
   ]
  },
  {
   "cell_type": "raw",
   "id": "355e5f01",
   "metadata": {},
   "source": [
    "#Card wars\n",
    "if len(players) != 2:\n",
    "    raise Error(\"No No No, Again!\")\n",
    "try:\n",
    "    print(battle(players[\"player1\"], players[\"player2\"]))\n",
    "except:\n",
    "    print(\"There is some error\")\n",
    "\n",
    "vs:\n",
    "\n",
    "if len(players) != 2:\n",
    "    raise TypeError(\"battle() takes 2 positional arguments\")\n",
    "try:\n",
    "    print(battle(players[\"player1\"], players[\"player2\"]))\n",
    "except (ValueError, IndexError):\n",
    "    print(\"Card values do not exist or one player has more cards than another\")"
   ]
  },
  {
   "cell_type": "markdown",
   "id": "70acbb34",
   "metadata": {},
   "source": [
    "#### Tváří v tvář nejednoznačnosti odmítněte pokušení hádat. - Komentáře?"
   ]
  },
  {
   "cell_type": "raw",
   "id": "86605b81",
   "metadata": {},
   "source": [
    "    #! změnit na kód aby se zvýraznily komentáře ! Kod ale nejede, funkce není celá\n",
    "    \n",
    "    def mtb_bikes_links(self):\n",
    "        all_bikes = {}\n",
    "        all_bikes[\"all_links\"] = []\n",
    "        categories = self.get_category_links()\n",
    "        mtb_link = categories[\"Mountain\"]\n",
    "        category_name = \"mountain-bikes\"\n",
    "        all_bikes[category_name] = []\n",
    "\n",
    "        r = requests.get(mtb_link)\n",
    "        soup = BeautifulSoup(r.content, \"html.parser\")\n",
    "        bikes_in_category = int(soup.find(\"span\", class_=\"js-productCount\").text) # 70 items\n",
    "\n",
    "        #LOAD ALL BIKES IN CATEGORY\n",
    "        load_all_bikes = f\"{mtb_link}?cgid={category_name}&srule=sort_price_ascending&start=0&sz={bikes_in_category}\"\n",
    "        r = requests.get(load_all_bikes)\n",
    "        soup = BeautifulSoup(r.content, \"html.parser\")\n",
    "        bikes = soup.find_all(\"li\", class_=\"productGrid__listItem xlt-producttile\")\n",
    "\n",
    "        for bike in bikes:\n",
    "            _model = bike.find(\"div\", class_=\"productTile__productName\").text #\"New  'Neuron 7 WMN         New'\"\n",
    "            model = self._normalize_name(_model) # \"Neuron 7 WMN\""
   ]
  },
  {
   "cell_type": "markdown",
   "id": "5fafb062",
   "metadata": {},
   "source": [
    "#### Pokud je implementace obtížně vysvětlitelná, je to špatný nápad.\n",
    "#### Pokud je implementace snadno vysvětlitelná, může to být dobrý nápad.\n",
    "\n",
    "### Používejte hlavu, tužku a papír dřív než klávesici :) \n",
    "###### zamyslete nad tím co chcete udělat a snažte přemýšlet o možostech implementace. \n",
    "###### Můžete se zamýšlet i během projektu jestli může být efektivnější provedení. \n",
    "###### Když něco nejde, dejte si pauzu, zkuste to s někým probrat (klidně i ne IT člověkem) "
   ]
  },
  {
   "cell_type": "markdown",
   "id": "3bec3de8",
   "metadata": {},
   "source": [
    "## PEP 8 v kostce\n",
    "#### \"code is read much more often than it is written\""
   ]
  },
  {
   "cell_type": "raw",
   "id": "caa8f0e0",
   "metadata": {},
   "source": [
    "\"The guidelines provided here are intended to improve the *readability* of code and *make it consistent* across the wide spectrum of Python code.\""
   ]
  },
  {
   "cell_type": "markdown",
   "id": "04c8b827",
   "metadata": {},
   "source": [
    "##### PEP 8 konvence je dobré znát a  dodržovat protože na nich funguje celý Python kód - od velkých firem, přeš menší vývojáře až po úplné hobby developery. Také celý python a jeho knihovny ho dodržují. Nicměné není nutné ho znát nazpamět. Většinu good practice už znáte a používáte."
   ]
  },
  {
   "cell_type": "raw",
   "id": "c4c6efc1",
   "metadata": {},
   "source": [
    "A style guide is about consistency. -\n",
    "Consistency with this style guide is important.\n",
    "Consistency within a project is more important.\n",
    "Consistency within one module or function is the most important."
   ]
  },
  {
   "cell_type": "markdown",
   "id": "c7ad9ef8",
   "metadata": {},
   "source": [
    "#### Základy"
   ]
  },
  {
   "cell_type": "markdown",
   "id": "c7d67f0d",
   "metadata": {},
   "source": [
    "#### Odsazování"
   ]
  },
  {
   "cell_type": "raw",
   "id": "efe3329f",
   "metadata": {},
   "source": [
    "# Indentation - odsazení - 4 mezery\n",
    "if x > 0:\n",
    "    print(\"Bigger than zero\")\n",
    "\n",
    "#pokud přerušujeme řádek, začneme na stejné úrovni\n",
    "foo = long_function_name(var_one, var_two, \n",
    "                         var_three, var_four) # dobře\n",
    "                         \n",
    "foo = long_function_name(var_one, var_two,\n",
    "    var_three, var_four) # špatně"
   ]
  },
  {
   "cell_type": "markdown",
   "id": "7a20d057",
   "metadata": {},
   "source": [
    "#### Dlouhé  List, Dict, Json, String, Input variables"
   ]
  },
  {
   "cell_type": "raw",
   "id": "427ad7fd",
   "metadata": {},
   "source": [
    "# zpřehlednění na více řádků\n",
    "parametry = {\n",
    "        \"auth_key\": deepl_api_key,\n",
    "        \"text\": text,\n",
    "        \"target_lang\": target_lang\n",
    "    }"
   ]
  },
  {
   "cell_type": "markdown",
   "id": "1d90c2a9",
   "metadata": {},
   "source": [
    "#### Maximální délka řádku - 79 znaků oficiálně. Používá se i více. Důležité je aby řádek byl čitelný na jeden pohled"
   ]
  },
  {
   "cell_type": "raw",
   "id": "c6545589",
   "metadata": {},
   "source": [
    "# několikanásobné podmínky, operace\n",
    "# dlouhé elementy\n",
    "\n",
    "#zalamování za čárkou mezi proměnými\n",
    "category_bar = soup.find_all(\"a\", \n",
    "                              class_=\"link headerNav__title headerNav__title--level-1 js-menuItemexpandableCategory\")\n",
    "\n",
    "with open('/path/to/some/file/you/want/to/read') as file_1, \\\n",
    "     open('/path/to/some/file/being/written', 'w') as file_2:\n",
    "    file_2.write(file_1.read())\n",
    "    \n",
    "# zalamování před operačními znamínky \n",
    "income = (gross_wages\n",
    "          + taxable_interest\n",
    "          + (dividends - qualified_dividends)\n",
    "          - ira_deduction\n",
    "          - student_loan_interest)"
   ]
  },
  {
   "cell_type": "markdown",
   "id": "21fec9a7",
   "metadata": {},
   "source": [
    "#### Prázdné řádky"
   ]
  },
  {
   "cell_type": "raw",
   "id": "4abc126d",
   "metadata": {},
   "source": [
    "# automaticky můžeme formátovat v IDE (pycharm)\n",
    "\n",
    "# jeden řádek mezi fukncemi\n",
    "# dva řádky mezi top level funkcemi\n",
    "\n",
    "#manuálně\n",
    "\n",
    "# jeden řádek na oddělení sekcí v kodu kde to dává smysl (ve funkci atd.)\n",
    "\n",
    "\n",
    "příklad - https://github.com/petrsevcik/bike_scraper/blob/master/canyon_apify.py"
   ]
  },
  {
   "cell_type": "markdown",
   "id": "f347b40d",
   "metadata": {},
   "source": [
    "#### Importy "
   ]
  },
  {
   "cell_type": "raw",
   "id": "45c157d8",
   "metadata": {},
   "source": [
    "1) Standard library imports.\n",
    "2) Related third party imports.\n",
    "3) Local application/library specific imports.\n",
    "# Mezi skupinami prázdný řádek\n",
    "# Každý import na svůj řádek\n",
    "\n",
    "import csv, json #špatně\n",
    "\n",
    "\n",
    "import csv\n",
    "import json #built-in knihovny\n",
    "\n",
    "from bs4 import BeautifulSoup4 # knihovna třetí strany\n",
    "\n",
    "from bikescraper import Canyon # můj modul\n",
    "\n",
    "# wildcard imports by se neměli používat \n",
    "from math import *\n",
    "\n"
   ]
  },
  {
   "cell_type": "markdown",
   "id": "d8f4ad10",
   "metadata": {},
   "source": [
    "#### Uvozovky ' ' \" \""
   ]
  },
  {
   "cell_type": "raw",
   "id": "2e3e60df",
   "metadata": {},
   "source": [
    "# ''i \"\" jsou ok\n",
    "ALE zvolte si jedny a ty používejte v kodu opakovaně = nestřídat je "
   ]
  },
  {
   "cell_type": "markdown",
   "id": "d91dc822",
   "metadata": {},
   "source": [
    "#### Mezery "
   ]
  },
  {
   "cell_type": "markdown",
   "id": "1b639e55",
   "metadata": {},
   "source": [
    "https://www.python.org/dev/peps/pep-0008/#whitespace-in-expressions-and-statements"
   ]
  },
  {
   "cell_type": "markdown",
   "id": "5aedd5b4",
   "metadata": {},
   "source": [
    "#### Komentáře"
   ]
  },
  {
   "cell_type": "raw",
   "id": "7b102b05",
   "metadata": {},
   "source": [
    "1) Vždy v angličtině\n",
    "2) #\n",
    "3) blokové vs inline\n",
    "4) používat s rozumem - nekomentovat zřejmé, komentovat co může být matoucí nebo význam části kodu\n",
    "\n",
    "x = x + 1                 # Increment x --> tento koment není třeba\n",
    "x = x + 1                 # id of bike to database ( --> v tomto případě by se měla jmeno vat proměnná jinak)\n",
    "\n",
    "for x, pax in enumarate(passengers):\n",
    "    x = x + 1                 # pasažérovo id od airline pro input\n",
    "    name = pax\n",
    "\n"
   ]
  },
  {
   "cell_type": "markdown",
   "id": "9dde43c9",
   "metadata": {},
   "source": [
    "#### Naming conventions"
   ]
  },
  {
   "cell_type": "raw",
   "id": "c91bd584",
   "metadata": {},
   "source": [
    "b (single lowercase letter) # např i pro index, x pro počítadla atd.\n",
    "\n",
    "B (single uppercase letter)\n",
    "\n",
    "lowercase             # Proměnné a funkce\n",
    "\n",
    "lower_case_with_underscores   # Proměnné a funkce\n",
    "\n",
    "UPPERCASE                          # KONSTANTY\n",
    "\n",
    "UPPER_CASE_WITH_UNDERSCORES        # KONSTANTY\n",
    "\n",
    "CapitalizedWords (or CapWords, or CamelCase -- so named because of the bumpy look of its letters [4]). This is also sometimes known as StudlyCaps. # CLASS NAMES\n",
    "\n",
    "Note: When using acronyms in CapWords, capitalize all the letters of the acronym. Thus HTTPServerError is better than HttpServerError.\n",
    "\n",
    "mixedCase (differs from CapitalizedWords by initial lowercase character!)\n",
    "\n",
    "_ / _name - # \"nepodstatné proměnné\", pomocné funkce\n",
    "\n",
    "class_ # např metoda v BeautifulSoup - aby nekolidovala s klíčovým slovem class\n",
    "\n",
    "__init__ # dvojpodtžítka před a za - dunder methods \n",
    "\n",
    "\n"
   ]
  },
  {
   "cell_type": "markdown",
   "id": "56fae1a7",
   "metadata": {},
   "source": [
    "#### Exceptions - nikdy nenechávat prázdné - viz Zen of Python "
   ]
  },
  {
   "cell_type": "markdown",
   "id": "8249c5bd",
   "metadata": {},
   "source": [
    "#### Ostatní doporučení"
   ]
  },
  {
   "cell_type": "markdown",
   "id": "241def56",
   "metadata": {},
   "source": [
    "https://www.python.org/dev/peps/pep-0008/#programming-recommendations"
   ]
  },
  {
   "cell_type": "markdown",
   "id": "124df759",
   "metadata": {},
   "source": [
    "### Cvičení - Sazka"
   ]
  },
  {
   "cell_type": "raw",
   "id": "e4fa88c8",
   "metadata": {},
   "source": [
    "Vytvořte script který bude replikovat plný tiket náhodného tahu pro hry - sportka a euromiliony od Sazky. Každá z funkcí/metod bude vracet plný ticket náhodných čísel. \n",
    "\n",
    "Plný ticket sportky - 10 řad 6 čísel od 1 do 49 # 1,3,7,10,45,49\n",
    "Plný ticket euromiliony - 6 řad 5 čísel od 1 do 50 a 2 čísla od 1 do 10 # (3,19,23,45,50)(3,7) "
   ]
  },
  {
   "cell_type": "markdown",
   "id": "9c1e52a5",
   "metadata": {},
   "source": [
    "### Volný styl řešení - dávejte důraz na PEP8 a Good practices\n",
    "\n",
    "#### 10 min příprava - tužka papír, náčrt funkce atd\n",
    "#### 20 min coding - poslat na Slack"
   ]
  },
  {
   "cell_type": "markdown",
   "id": "a0e959ec",
   "metadata": {},
   "source": [
    "## Docstrings"
   ]
  },
  {
   "cell_type": "markdown",
   "id": "013e23ac",
   "metadata": {},
   "source": [
    "### Docstrings jsou texty které objevují na začátku modulu, funkce, classy nebo metody.\n",
    "\n",
    "### Píšou se mezi trojité uvozovky \"\"\" \"\"\"\n",
    "\n",
    "### dají se zobrazi přes __doc__ atribut objektu\n",
    "\n",
    "\n",
    "##### All modules should normally have docstrings, and all functions and classes exported by a module should also have docstrings."
   ]
  },
  {
   "cell_type": "raw",
   "id": "33cbd368",
   "metadata": {},
   "source": [
    "# Jedno řádkové docstrings --> bez mezery ve funkci\n",
    "    def _normalize_name(self, raw_name):\n",
    "        \"\"\"removing spaces and \"New\"  'Neuron 7 WMN         New'\"\"\"\n",
    "        _name = re.sub(\"New\", \"\", raw_name)\n",
    "        formatted_name = _name.strip().replace(\"\\n\", \"\")\n",
    "        return formatted_name\n",
    "\n",
    "    def _get_price(self, price_string):\n",
    "        \"\"\"price in XXXX.X format\"\"\"\n",
    "        price = ''.join(i for i in price_string if i.isdigit())[0:-2]\n",
    "        try:\n",
    "            return float(price)\n",
    "        except ValueError:\n",
    "            return price\n",
    "           "
   ]
  },
  {
   "cell_type": "raw",
   "id": "484af69d",
   "metadata": {},
   "source": [
    "# Více řádkové docstrings --> jednořádkové summary, prázdný řádek, podrobnější popisek \n",
    "# Beautiful Soup\n",
    "\n",
    "\"\"\"Beautiful Soup Elixir and Tonic - \"The Screen-Scraper's Friend\".\n",
    "\n",
    "http://www.crummy.com/software/BeautifulSoup/\n",
    "\n",
    "Beautiful Soup uses a pluggable XML or HTML parser to parse a\n",
    "(possibly invalid) document into a tree representation. Beautiful Soup\n",
    "provides methods and Pythonic idioms that make it easy to navigate,\n",
    "search, and modify the parse tree.\n",
    "\n",
    "Beautiful Soup works with Python 3.5 and up. It works better if lxml\n",
    "and/or html5lib is installed.\n",
    "\n",
    "For more than you ever wanted to know about Beautiful Soup, see the\n",
    "documentation: http://www.crummy.com/software/BeautifulSoup/bs4/doc/\n",
    "\"\"\"\n"
   ]
  },
  {
   "cell_type": "code",
   "execution_count": null,
   "id": "97ddc664",
   "metadata": {},
   "outputs": [],
   "source": []
  }
 ],
 "metadata": {
  "kernelspec": {
   "display_name": "Python 3 (ipykernel)",
   "language": "python",
   "name": "python3"
  },
  "language_info": {
   "codemirror_mode": {
    "name": "ipython",
    "version": 3
   },
   "file_extension": ".py",
   "mimetype": "text/x-python",
   "name": "python",
   "nbconvert_exporter": "python",
   "pygments_lexer": "ipython3",
   "version": "3.8.2"
  }
 },
 "nbformat": 4,
 "nbformat_minor": 5
}
