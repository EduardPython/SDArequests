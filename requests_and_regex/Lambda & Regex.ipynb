{
 "cells": [
  {
   "cell_type": "markdown",
   "id": "6353b931",
   "metadata": {},
   "source": [
    "## procvičování"
   ]
  },
  {
   "cell_type": "markdown",
   "id": "f09ac807",
   "metadata": {},
   "source": [
    "### 1) vytvořete funkci `def uspesni` která bere jako vstup list int hodnot a vrací list int hodnot které jsou větší než 100"
   ]
  },
  {
   "cell_type": "code",
   "execution_count": 31,
   "id": "5e11be28",
   "metadata": {},
   "outputs": [
    {
     "name": "stdout",
     "output_type": "stream",
     "text": [
      "[101, 400, 123]\n"
     ]
    }
   ],
   "source": [
    "def uspesni(list_of_results):\n",
    "    lst = []\n",
    "    for i in list_of_results:\n",
    "        if i > 100:\n",
    "            lst.append(i)\n",
    "    return lst\n",
    "\n",
    "vysledky_testu = [101, 85, 62, 400, 123, 60, 75, 81, 99]\n",
    "print(uspesni(vysledky_testu))\n"
   ]
  },
  {
   "cell_type": "markdown",
   "id": "fba575bd",
   "metadata": {},
   "source": [
    "### 2) vytvořte funkci `def na_treti` která bere jako vstup list int hodnot a vrací list jejich hodnot na třetí "
   ]
  },
  {
   "cell_type": "code",
   "execution_count": 33,
   "id": "14c28ceb",
   "metadata": {},
   "outputs": [
    {
     "name": "stdout",
     "output_type": "stream",
     "text": [
      "[1, 8, 27, 64, 125, 216, 343, 512, 729]\n"
     ]
    }
   ],
   "source": [
    "def na_treti(list_of_int):\n",
    "    result = []\n",
    "    for el in list_of_int:\n",
    "        result.append(el ** 3)\n",
    "    return result\n",
    "hodnoty = [1,2,3,4,5,6,7,8,9]\n",
    "print(na_treti(hodnoty))"
   ]
  },
  {
   "cell_type": "markdown",
   "id": "34e8d57f",
   "metadata": {},
   "source": [
    "### 3) vytvořte funkci `def stock_price` která bere jako vstup dva listy - jmena akcii a hodnoty a vytvoří z nich slovnik {akcie:hodnota, akcie:hodnota}"
   ]
  },
  {
   "cell_type": "code",
   "execution_count": 35,
   "id": "bbbce07d",
   "metadata": {},
   "outputs": [
    {
     "name": "stdout",
     "output_type": "stream",
     "text": [
      "{'META': 100, 'GOOG': 130, 'AMZN': 160, 'NTFX': 299, 'AAPL': 120}\n"
     ]
    }
   ],
   "source": [
    "def stock_price(list_of_stocks, list_of_values):\n",
    "    res = {}\n",
    "    for i in range(len(list_of_stocks)):\n",
    "        res[list_of_stocks[i]] = list_of_values[i]\n",
    "    return res\n",
    "\n",
    "akcie = [\"META\", \"GOOG\", \"AMZN\", \"NTFX\", \"AAPL\"]\n",
    "cena = [100, 130, 160, 299, 120]\n",
    "print(stock_price(akcie, cena))"
   ]
  },
  {
   "cell_type": "markdown",
   "id": "d276011d",
   "metadata": {},
   "source": [
    "### 4) vytvořte funkci `def light_cars` která bere jako input slovnik jmen aut a jejich hmotnosti a vrací list jmen aut která jsou lehčí než 2500kg"
   ]
  },
  {
   "cell_type": "code",
   "execution_count": 37,
   "id": "0d26049a",
   "metadata": {},
   "outputs": [
    {
     "name": "stdout",
     "output_type": "stream",
     "text": [
      "['Sedan', 'SUV', 'Minivan', 'Van', 'Combi', 'Roadster']\n"
     ]
    }
   ],
   "source": [
    "def light_cars(cars):\n",
    "    res = []\n",
    "    for i in cars:\n",
    "        if cars[i] < 2500:\n",
    "            res.append(i)\n",
    "    return res\n",
    "\n",
    "cars_kilos ={\"Sedan\": 1500, \"SUV\": 2000, \"Pickup\": 2500, \"Minivan\": 1600, \"Van\": 2400, \"Semi\": 13600, \"Combi\": 1700, \"Roadster\": 1110}\n",
    "print(light_cars(cars_kilos))"
   ]
  },
  {
   "cell_type": "markdown",
   "id": "fb1753b4",
   "metadata": {},
   "source": [
    "## Lambda - anonymní funkce"
   ]
  },
  {
   "cell_type": "markdown",
   "id": "26416e71",
   "metadata": {},
   "source": [
    " - nemá jméno\n",
    " - nemá klíčové slovo def ale **lambda**\n",
    " - používá se tam kde je definována\n",
    " "
   ]
  },
  {
   "cell_type": "raw",
   "id": "2f7f4beb",
   "metadata": {},
   "source": [
    "#Syntax\n",
    "#list of arguments (nebo jen jeden) oddělené čárkou, dvojtečka, poté výraz funkce\n",
    "\n",
    "lambda x: x*2\n",
    "lambda x,y: x+y\n"
   ]
  },
  {
   "cell_type": "code",
   "execution_count": 39,
   "id": "75fe9c3f",
   "metadata": {},
   "outputs": [
    {
     "name": "stdout",
     "output_type": "stream",
     "text": [
      "60\n"
     ]
    }
   ],
   "source": [
    "nasobeni = lambda x,y: x*y\n",
    "print(nasobeni(6,10))"
   ]
  },
  {
   "cell_type": "markdown",
   "id": "0a541c6b",
   "metadata": {},
   "source": [
    "### Použítí\n",
    "- řazení prvků (funkce sort, parametr key)\n",
    "`sorted_films = sorted(filmy_list, key=lambda x: x[1], reverse=True)`\n",
    "- funkce na jednoduché úlohy - strign na malé písmena, násobení prvků v listu konstantou atd. \n",
    "- aggregační funkce `max`, `min`, `sort`"
   ]
  },
  {
   "cell_type": "code",
   "execution_count": 40,
   "id": "7d34abff",
   "metadata": {},
   "outputs": [
    {
     "data": {
      "text/plain": [
       "'PETR SEVCIK'"
      ]
     },
     "execution_count": 40,
     "metadata": {},
     "output_type": "execute_result"
    }
   ],
   "source": [
    "    normalize_name = lambda x: x.upper()\n",
    "    normalize_name(\"Petr Sevcik\")"
   ]
  },
  {
   "cell_type": "raw",
   "id": "a02f3de6",
   "metadata": {},
   "source": [
    "    pairs = [(1, 10), (2, 9), (3, 8)]\n",
    "    sorted(pairs, key=lambda x: x[1])  # [(3, 8), (2, 9), (1, 10)]\n",
    "    min(pairs)  # (1, 10)\n",
    "    max(pairs, key=lambda x: x[1])  # (1, 10)\n",
    "    max(pairs, key=lambda x: x[0] * x[1])  # (3, 8)"
   ]
  },
  {
   "cell_type": "code",
   "execution_count": 45,
   "id": "c6f75dbb",
   "metadata": {},
   "outputs": [
    {
     "name": "stdout",
     "output_type": "stream",
     "text": [
      "(3, 8)\n"
     ]
    }
   ],
   "source": [
    "pairs = [(1, 10), (2, 9), (3, 8)]\n",
    "#min(pairs, key= lambda x: x[1]) \n",
    "maximum = max(pairs, key= lambda x: x[0]*x[1])\n",
    "print(maximum)\n"
   ]
  },
  {
   "cell_type": "markdown",
   "id": "bfe9fcbf",
   "metadata": {},
   "source": [
    "- použítí s `map`, `filter`"
   ]
  },
  {
   "cell_type": "code",
   "execution_count": 47,
   "id": "1780c474",
   "metadata": {},
   "outputs": [
    {
     "name": "stdout",
     "output_type": "stream",
     "text": [
      "[101, 400, 123]\n"
     ]
    }
   ],
   "source": [
    "vysledky_testu = [101,85,62,400,123,60,75,81,99]\n",
    "uspesni = filter(lambda x: x>100, vysledky_testu)\n",
    "print(list(uspesni))\n"
   ]
  },
  {
   "cell_type": "code",
   "execution_count": 49,
   "id": "bd3c5ed1",
   "metadata": {},
   "outputs": [
    {
     "name": "stdout",
     "output_type": "stream",
     "text": [
      "[1, 8, 27, 64, 125, 216, 343, 512, 729]\n"
     ]
    }
   ],
   "source": [
    "hodnoty = [1,2,3,4,5,6,7,8,9]\n",
    "na_treti = map((lambda x: x**3), hodnoty)\n",
    "print(list(na_treti))\n"
   ]
  },
  {
   "cell_type": "markdown",
   "id": "47a265f2",
   "metadata": {},
   "source": [
    "- použití v datové analýze (Pandas)"
   ]
  },
  {
   "cell_type": "markdown",
   "id": "8f17da8a",
   "metadata": {},
   "source": [
    "### úkoly"
   ]
  },
  {
   "cell_type": "code",
   "execution_count": 52,
   "id": "fbd640ad",
   "metadata": {},
   "outputs": [
    {
     "data": {
      "text/plain": [
       "['fox', 'otter', 'whale', 'goose', 'sheep', 'rabbit', 'marten', 'chipmunk']"
      ]
     },
     "execution_count": 52,
     "metadata": {},
     "output_type": "execute_result"
    }
   ],
   "source": [
    "zvirata =[\"otter\", \"whale\", \"goose\", \"chipmunk\", \"fox\", \"sheep\", \"rabbit\", \"marten\"]\n",
    "\n",
    "#seradte zivrata podle abecedy\n",
    "sorted_zvirata = sorted(zvirata, key= lambda x: len(x))\n",
    "sorted_zvirata\n",
    "#seradte podle delky jmena zvirete\n",
    "#sorted_zvirata_podle_delky = \n"
   ]
  },
  {
   "cell_type": "code",
   "execution_count": 57,
   "id": "f48f6330",
   "metadata": {},
   "outputs": [
    {
     "data": {
      "text/plain": [
       "(626299, 'Vermont')"
      ]
     },
     "execution_count": 57,
     "metadata": {},
     "output_type": "execute_result"
    }
   ],
   "source": [
    "mesta_populace =[(19542209, \"New York\") ,(4887871, \"Alabama\"), (1420491, \"Hawaii\"), (626299, \"Vermont\"), (1805832, \"West Virginia\"), (39865590, \"California\")]\n",
    "\n",
    "#1) seradte mesta podle abecedy\n",
    "#2) seradte mesta podle populace\n",
    "#3) vyberte mesto s největší a nejmenší populaci \n",
    "\n",
    "podle_max_populace = sorted(mesta_populace,key=lambda x: x[0], reverse=True)\n",
    "mesta_podle_abecedy = sorted(mesta_populace,key=lambda x: x[1])\n",
    "#print(podle_max_populace)\n",
    "#print(mesta_podle_abecedy)\n",
    "#max_populace\n",
    "#mesta_podle_abecedy\n",
    "max_populace = max(mesta_populace, key=lambda x: x)\n",
    "min_populace = min(mesta_populace, key=lambda x: x)\n",
    "min_populace"
   ]
  },
  {
   "cell_type": "code",
   "execution_count": 59,
   "id": "b1ef082e",
   "metadata": {},
   "outputs": [
    {
     "data": {
      "text/plain": [
       "[{'Name': 'Nicole', 'Programming': 'C', 'Year of Experience': 1},\n",
       " {'Name': 'Mark', 'Programming': 'Python', 'Year of Experience': 3},\n",
       " {'Name': 'Jason', 'Programming': 'R', 'Year of Experience': 10}]"
      ]
     },
     "execution_count": 59,
     "metadata": {},
     "output_type": "execute_result"
    }
   ],
   "source": [
    "programmer = [{'Name':'Mark', 'Programming':'Python', 'Year of Experience': 3},\n",
    "               {'Name':'Nicole', 'Programming':'C', 'Year of Experience': 1},\n",
    "               {'Name':'Jason', 'Programming':'R', 'Year of Experience': 10}]\n",
    "\n",
    "# seradte programatory podle let zkušeností\n",
    "\n",
    "sorted_programmer = sorted(programmer, key=lambda x: x[\"Programming\"])\n",
    "sorted_programmer\n"
   ]
  },
  {
   "cell_type": "markdown",
   "id": "6dea9a08",
   "metadata": {},
   "source": [
    "### Lambdy slouží především k zpřehlednění kódu. Dají se nahradit běžnými funkcemi (def) na více řádků nebo list comperhensions"
   ]
  },
  {
   "cell_type": "markdown",
   "id": "92c81974",
   "metadata": {},
   "source": [
    "## List comperhesions\n",
    "- něco jako lambda\n",
    "- něco jako for loop\n"
   ]
  },
  {
   "cell_type": "raw",
   "id": "ff5ff19d",
   "metadata": {},
   "source": [
    "#Syntax of List Comprehension\n",
    "[expression for item in list]"
   ]
  },
  {
   "cell_type": "markdown",
   "id": "41a3fed8",
   "metadata": {},
   "source": [
    "příklady"
   ]
  },
  {
   "cell_type": "code",
   "execution_count": 60,
   "id": "ee04b774",
   "metadata": {},
   "outputs": [
    {
     "data": {
      "text/plain": [
       "[1, 8, 27, 64, 125, 216, 343, 512, 729]"
      ]
     },
     "execution_count": 60,
     "metadata": {},
     "output_type": "execute_result"
    }
   ],
   "source": [
    "hodnoty = [1,2,3,4,5,6,7,8,9]\n",
    "na_treti = [x**3 for x in hodnoty]\n",
    "na_treti"
   ]
  },
  {
   "cell_type": "markdown",
   "id": "5db38120",
   "metadata": {},
   "source": [
    "- hodí se např na generování listu cisel"
   ]
  },
  {
   "cell_type": "code",
   "execution_count": 62,
   "id": "e715a2d5",
   "metadata": {},
   "outputs": [
    {
     "data": {
      "text/plain": [
       "[2, 4, 6, 8, 10, 12, 14, 16, 18, 20, 22, 24, 26, 28, 30, 32, 34, 36, 38, 40]"
      ]
     },
     "execution_count": 62,
     "metadata": {},
     "output_type": "execute_result"
    }
   ],
   "source": [
    "one_to_twenty = [i for i in range(1,21)]\n",
    "one_to_twenty"
   ]
  },
  {
   "cell_type": "markdown",
   "id": "4a5c1009",
   "metadata": {},
   "source": [
    "##### dá se kombinovat i s if, else"
   ]
  },
  {
   "cell_type": "markdown",
   "id": "90b825d5",
   "metadata": {},
   "source": [
    "- sudé, liché"
   ]
  },
  {
   "cell_type": "code",
   "execution_count": 66,
   "id": "47ed39c1",
   "metadata": {},
   "outputs": [
    {
     "ename": "SyntaxError",
     "evalue": "invalid syntax (2394868130.py, line 4)",
     "output_type": "error",
     "traceback": [
      "\u001b[0;36m  File \u001b[0;32m\"/var/folders/x8/vc97cjmx36s710grn3lqk6680000gn/T/ipykernel_61167/2394868130.py\"\u001b[0;36m, line \u001b[0;32m4\u001b[0m\n\u001b[0;31m    sude_liche = [\"sudé\" for x in na_treti if x%2 == 0 else \"liché\"]\u001b[0m\n\u001b[0m                                                       ^\u001b[0m\n\u001b[0;31mSyntaxError\u001b[0m\u001b[0;31m:\u001b[0m invalid syntax\n"
     ]
    }
   ],
   "source": [
    "hodnoty = [1,2,3,4,5,6,7,8,9]\n",
    "na_treti = [x**3 for x in hodnoty]\n",
    "print(na_treti)\n",
    "sude_liche = [\"sudé\" if x%2 == 0 else \"liché\" for x in na_treti]\n",
    "print(sude_liche)"
   ]
  },
  {
   "cell_type": "markdown",
   "id": "1d843ffd",
   "metadata": {},
   "source": [
    "### priklady"
   ]
  },
  {
   "cell_type": "code",
   "execution_count": 67,
   "id": "7ca5f8c6",
   "metadata": {},
   "outputs": [
    {
     "data": {
      "text/plain": [
       "[50, 60, 70, 80, 110]"
      ]
     },
     "execution_count": 67,
     "metadata": {},
     "output_type": "execute_result"
    }
   ],
   "source": [
    "cisla = [44,54,64,74,104]\n",
    "\n",
    "#prictete ke kazdemu cislu 6\n",
    "plus_sest = [x + 6 for x in cisla]\n",
    "plus_sest"
   ]
  },
  {
   "cell_type": "code",
   "execution_count": 88,
   "id": "a09d993c",
   "metadata": {},
   "outputs": [
    {
     "name": "stdout",
     "output_type": "stream",
     "text": [
      "1500\n"
     ]
    }
   ],
   "source": [
    "cars_kilos ={\"Skoda\": 1500, \"Kodiaq\": 2000, \"Pickup\": 2500, \"Man\": 16000, \"Van\": 2400, \"Semi\": 13600, \"Bicycle\": 7, \"Motorcycle\": 110}\n",
    "\n",
    "car_names_up_to_2500 = [car for car in cars_kilos if cars_kilos[car]<2500]\n",
    "#vytvorte list se jmeny aut s váhou do 2500kg\n",
    "#print(cars_kilos[\"Skoda\"])\n"
   ]
  },
  {
   "cell_type": "code",
   "execution_count": 87,
   "id": "a28b8c96",
   "metadata": {},
   "outputs": [
    {
     "name": "stdout",
     "output_type": "stream",
     "text": [
      "{'FACE': 100, 'KOFOLA': 130, 'MONETA': 160, 'CEZ': 299, 'APPL': 200}\n",
      "<class 'dict'>\n",
      "[100, 130, 160, 299, 200, 200, 130, 160, 160, 320, 209]\n",
      "{160, 320, 130, 100, 200, 299, 209}\n"
     ]
    }
   ],
   "source": [
    "#za zlateho bludistaka\n",
    "\n",
    "akcie = [\"FACE\", \"KOFOLA\", \"MONETA\", \"CEZ\", \"APPL\"]\n",
    "cena = [100, 130, 160, 299, 200]\n",
    "\n",
    "#vytvořte dict stocks s key = akcie, value = cena ...{\"META\":100}\n",
    "#akcie_cena = {akcie[i]:cena[i] for i in range(len(akcie))}\n",
    "#stocks\n",
    "akcie_cena = {stock:price for stock, price in zip(akcie, cena)}\n",
    "print(akcie_cena)\n",
    "print(type(akcie_cena))\n",
    "\n",
    "cena = [100, 130, 160, 299, 200, 200, 130, 160, 160, 320, 209]\n",
    "print(cena)\n",
    "set_cena = set(cena)\n",
    "print(set_cena)\n"
   ]
  },
  {
   "cell_type": "markdown",
   "id": "df6a7e72",
   "metadata": {},
   "source": [
    "## Set\n",
    "### A set is an unordered collection\n",
    "### Elements in the set cannot be sorted as they are unordered.\n",
    "### There are no count() methods in sets as they do not allow any duplicates\n",
    "### The sets are unordered, which refrains from applying the reverse() method\n",
    "### The pop() method removes a random item from the set."
   ]
  },
  {
   "cell_type": "markdown",
   "id": "59845374",
   "metadata": {},
   "source": [
    "# Regex - Regular Expressions"
   ]
  },
  {
   "cell_type": "markdown",
   "id": "e69eaf73",
   "metadata": {},
   "source": [
    "https://www.programiz.com/python-programming/regex"
   ]
  },
  {
   "cell_type": "markdown",
   "id": "56c51b72",
   "metadata": {},
   "source": [
    "#### Teorie\n",
    "`Regular expressions are patterns that describe strings of symbols. For example, we can create an expression that will match any e-mail address, any date, phone number, or credit card number, etc.`\n",
    "\n",
    "- **Regulární výrazy/Regexy - slouží k vyhledávání v textu (stringu) podle daných parametrů a paternů. Můžeme je vytvořit na emaily, data, telefoní čísla nebo čísla kreditních karet**\n",
    "\n",
    "In Python, we need a re module to work with regular expressions. This module will help us to search for strings matching a pattern in text, or to check if a given text exactly matches a given pattern.\n",
    "\n",
    "- v pythonu pro práci s regexy používáme knihovnu `re`"
   ]
  },
  {
   "cell_type": "code",
   "execution_count": null,
   "id": "823e2edf",
   "metadata": {},
   "outputs": [],
   "source": [
    "import re"
   ]
  },
  {
   "cell_type": "markdown",
   "id": "d17d6724",
   "metadata": {},
   "source": [
    "online tool - https://regex101.com/"
   ]
  },
  {
   "cell_type": "markdown",
   "id": "d348ca6b",
   "metadata": {},
   "source": [
    "cheatsheet - https://cheatography.com/davechild/cheat-sheets/regular-expressions/"
   ]
  },
  {
   "cell_type": "markdown",
   "id": "8725dfe8",
   "metadata": {},
   "source": [
    "### základní výrazy . ? + *"
   ]
  },
  {
   "cell_type": "raw",
   "id": "e78dfc67",
   "metadata": {},
   "source": [
    ". jakýkoliv jeden znak =  .ama matches mama, lama, sama, dama \n",
    "? nula nebo jedna occurence předchozího znaku = j?sem = jsem, sem \n",
    "+ jedna nebo více occurence předchozího znaku = lo+l = lol, loooool, loooooooooool\n",
    "* jakýkoliv počet occurence předchozího znaku, včetně nuly a*la = la, ala, aaaaala"
   ]
  },
  {
   "cell_type": "raw",
   "id": "f145cab8",
   "metadata": {},
   "source": [
    "{3} - přesně 3 znaky\n",
    "{3,} - tři a více\n",
    "{3,5} - tři až pět (včetně)"
   ]
  },
  {
   "cell_type": "markdown",
   "id": "c9e200ce",
   "metadata": {},
   "source": [
    "## [Určité znaky nebo range znaků, čísel]"
   ]
  },
  {
   "cell_type": "raw",
   "id": "074b95db",
   "metadata": {},
   "source": [
    "[VSY]oda - matches - Voda, Soda, Yoda\n",
    "[^f]uck - vše kromě fuck :) třeba duck\n",
    "[a-z] - abeceda\n",
    "[a-e] - může být i od \"a\" do \"e\" - včetně\n",
    "[A-Z] - velká písmena\n",
    "[0-9] - čísla\n",
    "[1-5] - může být i od \"1\" do \"5\" - včetně"
   ]
  },
  {
   "cell_type": "markdown",
   "id": "11a244af",
   "metadata": {},
   "source": [
    "### typy znaků \\w \\d \\S"
   ]
  },
  {
   "cell_type": "raw",
   "id": "77b0623d",
   "metadata": {},
   "source": [
    "\\d - digit - čísla \n",
    "\\w - word - [A-Za-z0-9_]\n",
    "\\D - non-digit - cokoliv co není číslo\n",
    "\\W - cokoliv co není písmeno nebo číslo\n",
    "\\s - white space znaky \\f\\n\\r\\t\\v\n",
    "\\S - vše kromě bílých znaků"
   ]
  },
  {
   "cell_type": "markdown",
   "id": "a7a61a68",
   "metadata": {},
   "source": [
    "https://regexland.com/most-common-regular-expressions/"
   ]
  },
  {
   "cell_type": "markdown",
   "id": "0ed5b2b6",
   "metadata": {},
   "source": [
    "cvičení:\n",
    "\n",
    "použijte https://regex101.com/ \n",
    "cvičné věty:\n",
    "\n",
    "- muj email je petrsevcik@email.com, SDA má email SDA@seznam.cz\n",
    "\n",
    "- ALC dnes oznámily objednávku na 25 A220, 55 A321neo, 20 A321XLR a 4 A330neo. Boeing ziskal objednavky na 20 737MAX 10 787 dreamlineru. Neprodal se žádný bombardér B52 ani stíhačka F16.\n",
    "\n",
    "\n",
    " - vytvořte regex na vyhledávání emailových address\n",
    " - vytvořete regex na vyhledávání typů letadel boeing a airbus (A319, A220, A320, A321, A350, 737, 777, 787)"
   ]
  },
  {
   "cell_type": "raw",
   "id": "708ceb39",
   "metadata": {},
   "source": []
  },
  {
   "cell_type": "markdown",
   "id": "eae468df",
   "metadata": {},
   "source": [
    "### Knihovna RE"
   ]
  },
  {
   "cell_type": "raw",
   "id": "cd3a8c0d",
   "metadata": {},
   "source": [
    "#funkce\n",
    "search - takes two arguments - regex and text - re.search(r\"[A-Z]la\", \"ala, Ola Ela\") - vrací objekt\n",
    "match - same as search\n",
    "findall - vrací všechny výsledky v listu print(re.findall(r\".la\", \"Ola ala Ela\")) # ['Ola', 'ala', 'Ela']\n",
    "split - rozděluje výrazy podle daného parametru\n",
    "sub - nahrazuje výrazy podle daného parametu\n"
   ]
  },
  {
   "cell_type": "code",
   "execution_count": 93,
   "id": "43268bc1",
   "metadata": {},
   "outputs": [
    {
     "data": {
      "text/plain": [
       "['Ola', 'Ela']"
      ]
     },
     "execution_count": 93,
     "metadata": {},
     "output_type": "execute_result"
    }
   ],
   "source": [
    "vysledek = re.findall(\"\\n[A-Z]la\", \"ala, Ola Ela\")\n",
    "vysledek"
   ]
  },
  {
   "cell_type": "code",
   "execution_count": 99,
   "id": "8caee92e",
   "metadata": {},
   "outputs": [
    {
     "data": {
      "text/plain": [
       "'muj email je ********, SDA má email ********'"
      ]
     },
     "execution_count": 99,
     "metadata": {},
     "output_type": "execute_result"
    }
   ],
   "source": [
    "import re\n",
    "text = \"muj email je petrsevcik@email.com, SDA má email SDA@seznam.cz\"\n",
    "regex_vyraz = \"[a-zA-Z0-9._]+@[a-zA-Z0-9]+.[a-z]{2,3}\"\n",
    "vysledek = re.sub(regex_vyraz,\"********\",text)\n",
    "vysledek\n",
    "\n"
   ]
  },
  {
   "cell_type": "markdown",
   "id": "5026c24b",
   "metadata": {},
   "source": [
    "cvičení:\n",
    "stáhnout všechny typy letadel Boeing a Airbus z článku https://zdopravy.cz/airbus-ma-dalsi-velkou-zakazku-prvni-zakaznik-si-objednal-a350-v-nakladni-verzi-96785/"
   ]
  }
 ],
 "metadata": {
  "kernelspec": {
   "display_name": "Python 3 (ipykernel)",
   "language": "python",
   "name": "python3"
  },
  "language_info": {
   "codemirror_mode": {
    "name": "ipython",
    "version": 3
   },
   "file_extension": ".py",
   "mimetype": "text/x-python",
   "name": "python",
   "nbconvert_exporter": "python",
   "pygments_lexer": "ipython3",
   "version": "3.8.2"
  }
 },
 "nbformat": 4,
 "nbformat_minor": 5
}
