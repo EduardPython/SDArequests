{
 "cells": [
  {
   "cell_type": "markdown",
   "id": "8fbdc18b",
   "metadata": {},
   "source": [
    "## Pandas - Python Data Analysis Library"
   ]
  },
  {
   "cell_type": "code",
   "execution_count": null,
   "id": "ed114e1f",
   "metadata": {},
   "outputs": [],
   "source": [
    "pip install pandas"
   ]
  },
  {
   "cell_type": "raw",
   "id": "655500e1",
   "metadata": {},
   "source": [
    "import pandas\n",
    "# import pandas as pd "
   ]
  },
  {
   "cell_type": "markdown",
   "id": "c30bc6da",
   "metadata": {},
   "source": [
    "Pandas slouží pro analýzu dat, které lze reprezentovat 2D tabulkou. Tento „tvar” dat najdeme v SQL databázích, souborech CSV nebo tabulkových procesorech. Stručně řečeno, co jde dělat v Excelu, jde dělat i v Pandas"
   ]
  },
  {
   "cell_type": "markdown",
   "id": "fb51a5dc",
   "metadata": {},
   "source": [
    "### Pandas tutorial\n",
    "docs: https://pandas.pydata.org/docs/reference/api/pandas.DataFrame.at.html  -- ukázat, nasdílet\n"
   ]
  },
  {
   "cell_type": "markdown",
   "id": "122f2be0",
   "metadata": {},
   "source": [
    "### Jak vytvořit dataset"
   ]
  },
  {
   "cell_type": "code",
   "execution_count": 2,
   "id": "1be4de89",
   "metadata": {},
   "outputs": [],
   "source": [
    "import pandas as pd"
   ]
  },
  {
   "cell_type": "raw",
   "id": "153ed298",
   "metadata": {},
   "source": [
    "# Dataframe (DF) tvoříme ze složeného slovníku - Klíče jsou názvy sloupců, hodnoty (v listu) jsou data v řádcích\n",
    "\n",
    "people = {\n",
    "    \"first\": [\"Corey\", 'Jane', 'John'],\n",
    "    \"last\": [\"Schafer\", 'Doe', 'Doe'],\n",
    "    \"email\": [\"CoreyMSchafer@gmail.com\", 'JaneDoe@email.com', 'JohnDoe@email.com']\n",
    "}\n",
    "\n",
    "print(type(people))\n",
    "\n",
    "people_df = pd.DataFrame(people)\n",
    "\n",
    "print(type(people_df))\n",
    "\n",
    "print(people_df)"
   ]
  },
  {
   "cell_type": "raw",
   "id": "92cd46f0",
   "metadata": {},
   "source": [
    "# Vytvoření DF rovnou bez mezi proměnné #zkopírovat do channelu pro práci\n",
    "\n",
    "countries_df = pd.DataFrame({\n",
    "'country': ['United States', 'The Netherlands', 'Spain', 'Mexico', 'Australia'],\n",
    "'capital': ['Washington D.C.', 'Amsterdam', 'Madrid', 'Mexico City', 'Canberra'],\n",
    "'continent': ['North America', 'Europe', 'Europe', 'North America', 'Australia'],\n",
    "'language': ['English', 'Dutch', 'Spanish', 'Spanish', 'English']})\n",
    "\n",
    "print(countries_df)"
   ]
  },
  {
   "cell_type": "code",
   "execution_count": 44,
   "id": "bc27ae85",
   "metadata": {},
   "outputs": [],
   "source": [
    "# nahrávání rovnou z csv souboru\n",
    "df = pd.read_csv(\"top100banks.csv\")  # add later index_col=\"rank\" # ukázat a vysvětlit index\n",
    "pd.set_option('display.max_columns', 8)  #!must be pd not df! # nastavení zobrazení, ukázat bez\n",
    "pd.set_option('display.max_rows', 85)\n",
    "#print(df)\n",
    "\n",
    "#nastaveni indexu\n",
    "#df = pd.read_csv(\"top100banks.csv\", index_col=\"rank\") \n",
    "#df = df.set_index(\"rank\")\n",
    "\n",
    "#df = pd.read_csv(\"top100banks.csv\", index_col=\"country\") # sloupec country je dvakrát ve výsledku - 1) index, 2) coutry\n",
    "#print(df) \n",
    "\n"
   ]
  },
  {
   "cell_type": "markdown",
   "id": "3eb044b6",
   "metadata": {},
   "source": [
    "### Základní funkce"
   ]
  },
  {
   "cell_type": "raw",
   "id": "aca1ef91",
   "metadata": {},
   "source": [
    "#print(type(df)) # objekt\n",
    "#print(df.tail(10)) # tail = ocas = posledních xx řádků\n",
    "#print(df.head(15)) # head = hlava = prvních xx řádků\n",
    "\n",
    "# DATAFRAME SHAPE\n",
    "#print(df.shape) # shape = tvar"
   ]
  },
  {
   "cell_type": "markdown",
   "id": "bc4b7b4c",
   "metadata": {},
   "source": [
    "### Přístup k datům ze sloupců"
   ]
  },
  {
   "cell_type": "markdown",
   "id": "93e736b5",
   "metadata": {},
   "source": [
    "### funkce loc a iloc \n",
    "https://towardsdatascience.com/how-to-use-loc-and-iloc-for-selecting-data-in-pandas-bd09cb4c3d79 # můžete si otevřít jako pomocný materiál\n",
    "\n",
    "\n",
    "jupyter notebook z článku - https://github.com/BindiChen/machine-learning/blob/master/data-analysis/030-pandas-loc-and-iloc/pandas-loc-and-iloc.ipynb"
   ]
  },
  {
   "cell_type": "raw",
   "id": "7034a450",
   "metadata": {},
   "source": [
    " # loc je label-based - to znamená že musíme specifikovat řádky a sloupce podle jejich názvu = labelu\n",
    "   # řádky nemusí být jen indexované! \n",
    "   \n",
    " # iloc je integer position-based - musíme specifikovat řádky a sloupce podle jejich číselné (integer) pozice\n",
    " \n",
    " # ukázat tabulku z článku"
   ]
  },
  {
   "cell_type": "raw",
   "id": "faa1a5f3",
   "metadata": {},
   "source": [
    "# syntax \n",
    "\n",
    "# loc[row_label, column_label]\n",
    "\n",
    "# iloc[row_position, column_position]\n",
    "\n",
    "# dostat všechny řádky - df.loc[:, 'sloupec']\n",
    "# dostat všechny řádky - df.iloc[:, 'index_sloupec']\n",
    "\n",
    "# k zamyšlení - jak dostat všechny sloupce pro daný řádek? \n",
    "\n"
   ]
  },
  {
   "cell_type": "markdown",
   "id": "885c021c",
   "metadata": {},
   "source": [
    "#### Úkoly z coutries_df\n",
    "1) udělejte si countries_df dataframe ze slovníku dat -> nasdíleno do slack channelu\n",
    "\n",
    "2) nastavte index sloupec na zemi (country)\n",
    "\n",
    "3) napište pomocí loc a iloc \"query\" (vysvětlit co je to query!) abyste získali hlavní město Mexika\n",
    "\n",
    "4) napište pomocí loc a iloc \"query\" abyste získali všechny jazyky\n",
    "\n",
    "5) napište pomocí loc a iloc \"query\" abyste získali všechny data pro Španělsko\n",
    "\n"
   ]
  },
  {
   "cell_type": "raw",
   "id": "f94e731e",
   "metadata": {},
   "source": [
    "# ACCESSING COLUMNS AND CELLS\n",
    "# můžeme kombinovat i více hodnot v loc a iloc -> vkládáme je do listu --> proto tolik hranatých závorek \n",
    "\n",
    "#print(df.columns)\n",
    "#print(df.bank)\n",
    "#print(df[\"bank\"])\n",
    "\n",
    "#print(df[[\"bank\",\"country\"]]) # POZOR dvojite [[]]\n",
    "\n",
    "#print(df.loc[0:10, \"rank\":\"country\"])\n",
    "#print(df.loc[0:10, [\"rank\",\"country\"]])\n",
    "\n",
    "\n",
    "#print(df.iloc[0:10, 0:3]) #slicing bez hranatých závorek\n",
    "#print(df.iloc[[0,10], 0:3]) radek 0 a 10 \n",
    "#print(df.iloc[[0:10], 0:3]) #error\n",
    "#print(df.iloc[[0:10], [0:3]]) #error\n",
    "\n",
    "#print(df.iloc[[2], [1]])\n",
    "#print(type(df.iloc[[2], [1]]))\n",
    "#print(df.iloc[2,1])\n",
    "#print(type(df.iloc[2,1]))\n",
    "#print(df.loc[2, \"bank\"])\n",
    "#print(type(df.loc[2, \"bank\"]))\n",
    "\n",
    "# alternativní zápis\n",
    "#rows = [\"China\", \"Japan\"]\n",
    "#cols=[\"bank\", \"total_assets_us_b\"]\n",
    "#df.loc[rows, cols]"
   ]
  },
  {
   "cell_type": "markdown",
   "id": "5f6285fe",
   "metadata": {},
   "source": [
    "### Filtrování dat podle podmínek"
   ]
  },
  {
   "cell_type": "raw",
   "id": "41e12e08",
   "metadata": {},
   "source": [
    "# Syntax\n",
    "\n",
    "1) Buď vytvoříme podmínku zvlášť (good practice// standart ji nazvat \"filt\" --> otázka: proč ne \"filter\"?) pod proměnou a tu vložíme do výrazu\n",
    "\n",
    "high_rank = df[\"rank\"] < 15\n",
    "filt = df[\"rank\"] < 15\n",
    "high_rank_filter = df[\"rank\"] < 15\n",
    "\n",
    "print(df.loc[high_rank,[\"country\", \"bank\"]])\n",
    "\n",
    "\n",
    "2) Výraz rovnou vkládáme do loc / iloc\n",
    "print(df.loc[df[\"rank\"] < 15, :])\n",
    "\n",
    "Podmínek může být víc a spojujeme je pomocí výrazů & (AND) | (OR)\n",
    "df.loc[\n",
    "    (df[\"rank\"] < 15) & (df[\"country\"] != 'China'), \n",
    "    ['bank'],\n",
    "]\n",
    "\n",
    "\n",
    "# Doplnění pro samostudium\n",
    "Podmínky se dají vytvářek i přes iloc, nicméně je to o trochu složitější -> musíme je konvertovat do listu (viz. článek)\n",
    "# zajímavost v článku - import z csv bez headers -> sloupce jsou jen indexy\n",
    "\n"
   ]
  },
  {
   "cell_type": "code",
   "execution_count": 52,
   "id": "383cde09",
   "metadata": {},
   "outputs": [
    {
     "data": {
      "text/html": [
       "<div>\n",
       "<style scoped>\n",
       "    .dataframe tbody tr th:only-of-type {\n",
       "        vertical-align: middle;\n",
       "    }\n",
       "\n",
       "    .dataframe tbody tr th {\n",
       "        vertical-align: top;\n",
       "    }\n",
       "\n",
       "    .dataframe thead th {\n",
       "        text-align: right;\n",
       "    }\n",
       "</style>\n",
       "<table border=\"1\" class=\"dataframe\">\n",
       "  <thead>\n",
       "    <tr style=\"text-align: right;\">\n",
       "      <th></th>\n",
       "      <th>bank</th>\n",
       "    </tr>\n",
       "  </thead>\n",
       "  <tbody>\n",
       "    <tr>\n",
       "      <th>4</th>\n",
       "      <td>Mitsubishi UFJ Financial Group</td>\n",
       "    </tr>\n",
       "    <tr>\n",
       "      <th>5</th>\n",
       "      <td>JPMorgan Chase &amp; Co</td>\n",
       "    </tr>\n",
       "    <tr>\n",
       "      <th>6</th>\n",
       "      <td>HSBC Holdings</td>\n",
       "    </tr>\n",
       "    <tr>\n",
       "      <th>7</th>\n",
       "      <td>BNP Paribas</td>\n",
       "    </tr>\n",
       "    <tr>\n",
       "      <th>8</th>\n",
       "      <td>Bank of America</td>\n",
       "    </tr>\n",
       "    <tr>\n",
       "      <th>10</th>\n",
       "      <td>Credit Agricole Group</td>\n",
       "    </tr>\n",
       "    <tr>\n",
       "      <th>11</th>\n",
       "      <td>Wells Fargo</td>\n",
       "    </tr>\n",
       "    <tr>\n",
       "      <th>12</th>\n",
       "      <td>Japan Post Bank</td>\n",
       "    </tr>\n",
       "    <tr>\n",
       "      <th>13</th>\n",
       "      <td>Mizuho Financial Group</td>\n",
       "    </tr>\n",
       "  </tbody>\n",
       "</table>\n",
       "</div>"
      ],
      "text/plain": [
       "                              bank\n",
       "4   Mitsubishi UFJ Financial Group\n",
       "5              JPMorgan Chase & Co\n",
       "6                    HSBC Holdings\n",
       "7                      BNP Paribas\n",
       "8                  Bank of America\n",
       "10           Credit Agricole Group\n",
       "11                     Wells Fargo\n",
       "12                 Japan Post Bank\n",
       "13          Mizuho Financial Group"
      ]
     },
     "execution_count": 52,
     "metadata": {},
     "output_type": "execute_result"
    }
   ],
   "source": [
    "# FILTERING\n",
    "#filt = (df['bank'] == 'Bank of China') & (df['country'] == 'China') # | == AND\n",
    "#filt = (df['bank'] == 'Bank of China') #| (df['country'] == 'China') # | == OR\n",
    "\n",
    "#print(filt)\n",
    "#print(df.loc[filt, [\"total_assets_us_b\", \"rank\"]])  # print all under filter\n",
    "#print(40*\"*\")\n",
    "#print(df.loc[-filt, \"total_assets_us_b\"]) # printing all NOT in filter\n",
    "\n",
    "\n",
    "#high_rank = (df[\"rank\"] < 15)\n",
    "#print(df.loc[high_rank])\n",
    "#print(df.loc[high_rank,[\"country\", \"bank\"]])\n",
    "\n",
    "#print(df.loc[df[\"rank\"] < 15, :])\n",
    "#print(df.loc[\n",
    "#    (df[\"rank\"] < 15) & (df[\"country\"] != 'China'), \n",
    "#    ['bank'],\n",
    "#]) # už se to začíná podobat SQL :) \n"
   ]
  },
  {
   "cell_type": "markdown",
   "id": "5deecb3f",
   "metadata": {},
   "source": [
    "### Pokročilejší filtrace a změny názvů sloupců, změny dat"
   ]
  },
  {
   "cell_type": "raw",
   "id": "d811a56f",
   "metadata": {},
   "source": [
    "#1 funkce .isin\n",
    "\n",
    "#eu_countries = [\"UK\", \"France\", \"Germany\", \"Italy\", \"Spain\"] # UK not anymore :)\n",
    "#filt = df[\"country\"].isin(eu_countries)\n",
    "#print(filt) # bool -> True // False\n",
    "#print(df.loc[filt]) # 6 7  HSBC Holdings  UK  2,521.77....\n",
    "#print(df.loc[filt, [\"bank\"]])  # 6 HSBC Holdings\n",
    "\n",
    "#2 funkce .str.contains\n",
    "\n",
    "#filt = df[\"country\"].str.contains('US',na=True) # string that contains \"US\" (to catch US and USA) and if there is empty value --> it is True\n",
    "#print(filt)\n",
    "#filt = df[\"country\"].str.contains('U',na=True)  # UK, USA\n",
    "#print(df.loc[filt]) # printing only those rows chosen by filter (== containg US)\n",
    "\n",
    "# funkce .rename\n",
    "\n",
    "#df.rename(columns={\"bank\":\"jmeno banky\", \"country\": \"zeme\"}, inplace=True) #bez inplace to failuje\n",
    "#print(df[\"zeme\"])\n",
    "\n",
    "# funkce .map\n",
    "\n",
    "#df[\"zeme\"] = df[\"zeme\"].map({\"USA\": \"Amerika\", \"China\": \"Cina\"}) # hodi to NAN na všechny ostatni --> lepši použivat s True / False\n",
    "#print(df[\"zeme\"])\n",
    "#df[\"zeme\"] = df[\"zeme\"].map({\"Cina\": True}) # zbytek je NaN\n",
    "#print(df[\"zeme\"])\n",
    "\n",
    "#format = lambda x: x.upper()\n",
    "#df = df[\"zeme\"].map(format) # musíme to dát do proměné --> DF =\n",
    "#print(df)"
   ]
  },
  {
   "cell_type": "markdown",
   "id": "e2b2fd45",
   "metadata": {},
   "source": [
    "všechny fuknce co umí pandas: https://pandas.pydata.org/docs/reference/frame.html"
   ]
  },
  {
   "cell_type": "markdown",
   "id": "233aa12a",
   "metadata": {},
   "source": [
    "### Úprava dat"
   ]
  },
  {
   "cell_type": "code",
   "execution_count": null,
   "id": "9a64f665",
   "metadata": {},
   "outputs": [],
   "source": [
    "# Vložení nových dat do sloupce\n",
    "\n",
    "#print(df.loc[0])\n",
    "#df.loc[0] = [1, \"CSOB\", \"Czechia\", \"1000\", \"2020-12-31\"]\n",
    "\n",
    "#print(df.loc[0])\n",
    "#print(type(df.loc[0, \"bank\"])) # class str\n",
    "#print(type(df.loc[0, [\"bank\", \"country\"]])) #class <class 'pandas.core.series.Series'>\n",
    "\n",
    "\n",
    "#print(df.loc[1])\n",
    "#df.loc[1, [\"bank\", \"country\"]] = [\"VUB\", \"Slovakia\"]\n",
    "#print(df.loc[1])\n",
    "\n",
    "# Nahrazení více dat najednou podle podmínek\n",
    "\n",
    "#filt = (df[\"country\"] == \"China\")\n",
    "#df.loc[filt, [\"country\", \"bank\"]] = [\"Cina\", \"Banka v Cine\"]\n",
    "#print(df)\n",
    "\n",
    "# Úpravy a agregační funkce - APPLY, LEN, MAP\n",
    "\n",
    "# funkce LEN\n",
    "#print(df[\"country\"].apply(len))\n",
    "\n",
    "# LAMBDA funkce\n",
    "#format = lambda x: x.upper()\n",
    "#df = df[\"zeme\"].map(format) # musíme to dát do proměné --> DF =\n",
    "#print(df)\n",
    "\n",
    "# Normální funkce \n",
    "# APPLY\n",
    "def make_it_upper(name):\n",
    "    return name.upper()\n",
    "#df = df[\"country\"].apply(make_it_upper) # nefunfuje bez df = || hodí error s make_it_upper()\n",
    "#print(df)\n",
    "\n",
    "#df[\"country\"] = df[\"country\"].apply(lambda x: x.lower())\n",
    "#print(df)\n",
    "\n",
    "#print(len(df[\"rank\"]))\n",
    "#print(len(df[\"rank\", \"country\"])) # Error - > jen jedna proměná\n",
    "\n",
    "\n",
    "#print(df.apply(lambda x: x.min())) minima z každého sloupce\n",
    "#print(df.applymap(len)) # error - int has no len --> same for max, min\n",
    "#print(people_df.applymap(len))\n",
    "#print(people_df.applymap(max)) # interesting --> showing highest letter\n",
    "#print(people_df.applymap(str.lower))\n",
    "\n",
    "#df['country'] = df['country'].replace({'China': 'Cina', 'USA': 'United States'})\n",
    "#print(df)"
   ]
  },
  {
   "cell_type": "markdown",
   "id": "145f0e3a",
   "metadata": {},
   "source": [
    "## Zbytek se naučíme za pochodu :)"
   ]
  },
  {
   "cell_type": "raw",
   "id": "813d7105",
   "metadata": {},
   "source": [
    "# otevřete si v googlesheets/excelu soubor top100banks.csv"
   ]
  },
  {
   "cell_type": "raw",
   "id": "f2fd97ec",
   "metadata": {},
   "source": [
    "# ulozte si top100banks.csv do projektu v pycharmu abychom s nim mohli pracovat"
   ]
  },
  {
   "cell_type": "markdown",
   "id": "f505e766",
   "metadata": {},
   "source": [
    "### Excel - úkoly"
   ]
  },
  {
   "cell_type": "raw",
   "id": "1be85ee9",
   "metadata": {},
   "source": [
    "1) Seradte banky podle total assets od nejnižší po nejvyšší\n",
    "2) Seradte bank podle abecedy (z-a)\n",
    "3) Vypocitejte soucet všech assets, vypocitejte median vsech assets\n",
    "4) Vytvorte seznam vsech zemi v kterých se banky nachází (a-z)\n",
    "5) Udelejte tabulku - kolik bank je v které zemi (např: USA: 5) (pocet bank - od nejvic do nejmin)\n",
    "6) Udelejte tabulku - kolik bank je v které zemi a kolik mají dohromady assets (a-z)\n",
    "7) Udelejte tabulku kde bude z každé země pouze banky s nejvíce assets (a-z)\n",
    "8) Vypiste banky ktere zacinaji pouze na \"B\"\n",
    "9) Vypiste banky ktere maji assets nad 1000 mld USD \n",
    "10) Udelejte tabulku - banky zacinajici na stejne pismeno a kolik mají dohromady assets (a-z)"
   ]
  },
  {
   "cell_type": "markdown",
   "id": "54691e59",
   "metadata": {},
   "source": [
    "### Pandas úkoly :)"
   ]
  },
  {
   "cell_type": "raw",
   "id": "126676f0",
   "metadata": {},
   "source": [
    "1) Seradte banky podle total assets od nejnižší po nejvyšší\n",
    "2) Seradte bank podle abecedy (z-a)\n",
    "3) Vypocitejte soucet všech assets, vypocitejte median vsech assets\n",
    "4) Vytvorte seznam vsech zemi v kterých se banky nachází (a-z)\n",
    "5) Udelejte tabulku - kolik bank je v které zemi (např: USA: 5) (a-z)\n",
    "6) Udelejte tabulku - kolik bank je v které zemi a kolik mají dohromady assets (a-z)\n",
    "7) Udelejte tabulku kde bude z každé země pouze banky s nejvíce assets (a-z)\n",
    "8) Vypiste banky ktere zacinaji pouze na \"B\"\n",
    "9) Vypiste banky ktere maji assets nad 1000 mld USD \n",
    "10) Udelejte tabulku - banky zacinajici na stejne pismeno a kolik mají dohromady assets (a-z)"
   ]
  },
  {
   "cell_type": "raw",
   "id": "702024d0",
   "metadata": {},
   "source": [
    "Projdeme si je jeden po druhém spolu:\n",
    "5-15 min na task pro vás\n",
    "5 min - řešení a vysvětlení ode mě\n"
   ]
  },
  {
   "cell_type": "code",
   "execution_count": null,
   "id": "355ae065",
   "metadata": {},
   "outputs": [],
   "source": []
  }
 ],
 "metadata": {
  "kernelspec": {
   "display_name": "Python 3 (ipykernel)",
   "language": "python",
   "name": "python3"
  },
  "language_info": {
   "codemirror_mode": {
    "name": "ipython",
    "version": 3
   },
   "file_extension": ".py",
   "mimetype": "text/x-python",
   "name": "python",
   "nbconvert_exporter": "python",
   "pygments_lexer": "ipython3",
   "version": "3.8.2"
  }
 },
 "nbformat": 4,
 "nbformat_minor": 5
}
