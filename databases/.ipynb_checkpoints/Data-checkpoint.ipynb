{
 "cells": [
  {
   "cell_type": "markdown",
   "id": "335aad1d",
   "metadata": {},
   "source": [
    "## \"Data is the new oil!\" :) "
   ]
  },
  {
   "cell_type": "markdown",
   "id": "941efe2e",
   "metadata": {},
   "source": [
    "## Data\n",
    "\n",
    "#### - všude kolem nás "
   ]
  },
  {
   "cell_type": "raw",
   "id": "340618ee",
   "metadata": {},
   "source": [
    "# 1) máme účet v bance - banka má databázi účtů, údajů o klientech, transakcí atd.\n",
    "# 2) jdeme nakupovat - supermarket má databázi produktů, info o cenách\n",
    "# 3) firma - údaje o zaměstnancích, účetnictví\n",
    "# 4) seznam/idnes/novinky - databáze článků, autorů"
   ]
  },
  {
   "cell_type": "markdown",
   "id": "3a72abf6",
   "metadata": {},
   "source": [
    "#### - formát dat "
   ]
  },
  {
   "cell_type": "raw",
   "id": "05bf269f",
   "metadata": {},
   "source": [
    "# 1) fyzický - papír - ten nás nezajímá :)\n",
    "# 2) elektronický \n",
    "    # a) excel - jednoduchý, vizuálně přívětivý, ideální pro menší množství informací, pomalý\n",
    "    # b) csv, json - stále jednoduchý, vhodný pro strojové zpracování, menší-střední množství dat, rychlejší\n",
    "    # c) databáze - robustní systém, schopný pojmout obrovské množství dat a rychle je procesovat\n",
    "\n",
    "S pythonem dokážeme pracovat se všemi výše zmíněnými"
   ]
  },
  {
   "cell_type": "markdown",
   "id": "1001e17a",
   "metadata": {},
   "source": [
    "### Python & Data"
   ]
  },
  {
   "cell_type": "code",
   "execution_count": null,
   "id": "fc2cc4f9",
   "metadata": {},
   "outputs": [],
   "source": []
  }
 ],
 "metadata": {
  "kernelspec": {
   "display_name": "Python 3 (ipykernel)",
   "language": "python",
   "name": "python3"
  },
  "language_info": {
   "codemirror_mode": {
    "name": "ipython",
    "version": 3
   },
   "file_extension": ".py",
   "mimetype": "text/x-python",
   "name": "python",
   "nbconvert_exporter": "python",
   "pygments_lexer": "ipython3",
   "version": "3.8.2"
  }
 },
 "nbformat": 4,
 "nbformat_minor": 5
}
