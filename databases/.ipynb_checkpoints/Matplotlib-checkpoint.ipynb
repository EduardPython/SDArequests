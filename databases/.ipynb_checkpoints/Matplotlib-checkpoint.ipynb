{
 "cells": [
  {
   "cell_type": "markdown",
   "id": "943250a9",
   "metadata": {},
   "source": [
    "## Matplotlib\n",
    "\n",
    "### Data vizualization knihovna - library for creating static, animated, and interactive visualizations in Python\n",
    "### == GRAFY\n",
    "https://matplotlib.org/stable/index.html\n",
    "používá se ve spojení s csv, pandas, SQL  -> přes listy nahráváme data na osy X a Y a pomocí různých funkcí a metod je dokážeme různě zobrazovat a vykreslovat"
   ]
  },
  {
   "cell_type": "raw",
   "id": "197e7dab",
   "metadata": {},
   "source": [
    "pip install matplotlib\n",
    "\n",
    "import matplotlib\n",
    "\n",
    "from matplotlib import pyplot # pyplot je hlavné funkce na vykreslování grafu"
   ]
  },
  {
   "cell_type": "code",
   "execution_count": 2,
   "id": "a4772321",
   "metadata": {},
   "outputs": [],
   "source": [
    "from matplotlib import pyplot as plt "
   ]
  },
  {
   "cell_type": "raw",
   "id": "35a86575",
   "metadata": {},
   "source": [
    "from matplotlib import pyplot as plt  # convention to name it as \"plt\"\n",
    "\n",
    "\n",
    "# Median Developer Salaries by Age\n",
    "dev_x = [25, 26, 27, 28, 29, 30, 31, 32, 33, 34, 35]\n",
    "\n",
    "dev_y = [38496, 42000, 46752, 49320, 53200,\n",
    "         56000, 62316, 64928, 67317, 68748, 73752]\n",
    "\n",
    "# Median Python Developer Salaries by Age\n",
    "py_dev_x = [25, 26, 27, 28, 29, 30, 31, 32, 33, 34, 35]\n",
    "py_dev_y = [45372, 48876, 53850, 57287, 63016,\n",
    "            65998, 70003, 70000, 71496, 75370, 83640]\n",
    "\n",
    "plt.plot(dev_x, dev_y) # v pycharmu to hodí jen [<matplotlib.lines.Line2D object at 0x11d0c4df0>]\n",
    "#plt.show() # funkce na vykreslení frafu -> ukázat jak se to zobrazuje v pycharmu\n",
    "#plt.plot(py_dev_x, py_dev_y)"
   ]
  },
  {
   "cell_type": "markdown",
   "id": "f366d10c",
   "metadata": {},
   "source": [
    "#### Popisek grafu a pojmenování os"
   ]
  },
  {
   "cell_type": "raw",
   "id": "02fff677",
   "metadata": {},
   "source": [
    "plt.title(\"Median Salary (USD) by age\")\n",
    "plt.xlabel(\"Age\")\n",
    "plt.ylabel(\"Salary\")\n",
    "\n",
    "plt.legend([\"All_Devs\", \"Python\"])\n",
    "#plt.plot(dev_x, dev_y, label=\"All Devs\")\n",
    "#plt.plot(py_dev_x, py_dev_y, label=\"Python\")\n",
    "#plt.legend()\n",
    "#plt.show()"
   ]
  },
  {
   "cell_type": "markdown",
   "id": "160c1ad4",
   "metadata": {},
   "source": [
    "#### Styling\n",
    "https://matplotlib.org/stable/api/_as_gen/matplotlib.pyplot.plot.html"
   ]
  },
  {
   "cell_type": "raw",
   "id": "621d6baa",
   "metadata": {},
   "source": [
    "plt.plot(dev_x, dev_y,\"k--\", label=\"All Devs\")\n",
    "plt.plot(py_dev_x, py_dev_y,\"b\", label=\"Python\")\n",
    "\n",
    "# lepší/jasnější \n",
    "plt.plot(dev_x, dev_y, color=\"k\", linestyle=\"--\", label=\"All Devs\")\n",
    "plt.plot(dev_x, dev_y, color=\"b\", linestyle=\"--\", marker=\"o\", label=\"All Devs\")\n",
    "\n",
    "#color může být i v HEX value např \"#444444\"\n",
    "můžeme přidat i \"linewidth=3\" - šířka\n",
    "\n",
    "#plt.title(\"Median Salary (USD) by age\")\n",
    "#plt.xlabel(\"Age\")\n",
    "#plt.ylabel(\"Salary\")\n",
    "#plt.legend() # musí to tu být aby byla vidět legenda\n",
    "#plt.show()\n",
    "\n",
    "\n",
    "# DALŠÍ MOŽNOSTI...\n",
    "\n",
    "#plt.grid(True) # mřížka na pozadí\n",
    "# plt.tight_layout() # užší okraje"
   ]
  },
  {
   "cell_type": "markdown",
   "id": "2d7a69cb",
   "metadata": {},
   "source": [
    "Malá barevná vsuvka\n",
    "\n",
    "HEX - google - hex color picker\n",
    "https://en.wikipedia.org/wiki/Web_colors#Converting_RGB_to_hexadecimal\n"
   ]
  },
  {
   "cell_type": "markdown",
   "id": "102c9974",
   "metadata": {},
   "source": [
    "#### Předpřipravené styly \n",
    "##### dáváme na začátek scriptu"
   ]
  },
  {
   "cell_type": "code",
   "execution_count": 7,
   "id": "eddbb3f7",
   "metadata": {},
   "outputs": [
    {
     "name": "stdout",
     "output_type": "stream",
     "text": [
      "['Solarize_Light2', '_classic_test_patch', '_mpl-gallery', '_mpl-gallery-nogrid', 'bmh', 'classic', 'dark_background', 'fast', 'fivethirtyeight', 'ggplot', 'grayscale', 'seaborn', 'seaborn-bright', 'seaborn-colorblind', 'seaborn-dark', 'seaborn-dark-palette', 'seaborn-darkgrid', 'seaborn-deep', 'seaborn-muted', 'seaborn-notebook', 'seaborn-paper', 'seaborn-pastel', 'seaborn-poster', 'seaborn-talk', 'seaborn-ticks', 'seaborn-white', 'seaborn-whitegrid', 'tableau-colorblind10']\n"
     ]
    }
   ],
   "source": [
    "print(plt.style.available) # run this"
   ]
  },
  {
   "cell_type": "raw",
   "id": "61d0c2ed",
   "metadata": {},
   "source": [
    "#plt.style.use(\"fivethirtyeight\") # musíme to dát na začátek\n",
    "#plt.style.use(\"seaborn-bright\")\n",
    "#plt.style.use(\"Solarize_Light2\")\n",
    "#plt.xkcd() # komiks :)"
   ]
  },
  {
   "cell_type": "markdown",
   "id": "3eb4c4f1",
   "metadata": {},
   "source": [
    "#### Ukládání grafů"
   ]
  },
  {
   "cell_type": "raw",
   "id": "53dcf577",
   "metadata": {},
   "source": [
    "#plt.savefig(\"graf.png\") # možnost dát i celou cestu, jinak by default do aktuálního adresáře\n",
    "\n",
    "# ukázat proklik do docstrgins --> jaké formáty to nabízí --> někdy není třeba google (ale jen vyjímečně :)"
   ]
  },
  {
   "cell_type": "markdown",
   "id": "bf7ba987",
   "metadata": {},
   "source": [
    "### Sloupcový graf\n",
    "\n",
    "#### plt.bar"
   ]
  },
  {
   "cell_type": "code",
   "execution_count": null,
   "id": "bbcb05e7",
   "metadata": {},
   "outputs": [],
   "source": [
    "ages_x = [25, 26, 27, 28, 29, 30, 31, 32, 33, 34, 35]\n",
    "normal_dev_y = [38496, 42000, 46752, 49320, 53200,\n",
    "         56000, 62316, 64928, 67317, 68748, 73752]\n",
    "\n",
    "\n",
    "python_dev_y = [45372, 48876, 53850, 57287, 63016,\n",
    "            65998, 70003, 70000, 71496, 75370, 83640]\n",
    "\n",
    "# plt.bar(ages_x, normal_dev_y, label=\"All Devs\")\n",
    "# plt.bar(ages_x, python_dev_y, label=\"Python\")\n",
    "#\n",
    "# plt.legend()\n",
    "# plt.title(\"Median Salary (USD) by age\")\n",
    "# plt.xlabel(\"Age\")\n",
    "# plt.ylabel(\"Salary\")\n",
    "#\n",
    "# plt.show()"
   ]
  },
  {
   "cell_type": "markdown",
   "id": "54c1a9b0",
   "metadata": {},
   "source": [
    "#### nastavení sloupců"
   ]
  },
  {
   "cell_type": "code",
   "execution_count": 10,
   "id": "30cdb3e3",
   "metadata": {},
   "outputs": [],
   "source": [
    "import numpy as np"
   ]
  },
  {
   "cell_type": "raw",
   "id": "ea483489",
   "metadata": {},
   "source": [
    "x_indexes = np.arange(len(ages_x)) # toto je kvůli správnému nastavení sloupců\n",
    "width = 0.25\n",
    "plt.bar(x_indexes - width, normal_dev_y, width=width, label=\"All Devs\")\n",
    "plt.bar(x_indexes, python_dev_y, width=width, label=\"Python\") # try with + width\n",
    "\n",
    "plt.legend()\n",
    "\n",
    "# plt.xticks(ticks=x_indexes, labels=ages_x) # abychom měli zase na ose X věk a ne indexy\n",
    "\n",
    "plt.title(\"Median Salary (USD) by age\")\n",
    "plt.xlabel(\"Age\")\n",
    "plt.ylabel(\"Salary\")\n",
    "\n",
    "plt.show()\n",
    "\n",
    "# ukázat barh -> přehozený sloupcový graf"
   ]
  },
  {
   "cell_type": "markdown",
   "id": "ee6ab504",
   "metadata": {},
   "source": [
    "### Pie chart - Koláčový graf"
   ]
  },
  {
   "cell_type": "code",
   "execution_count": 4,
   "id": "dd53b60c",
   "metadata": {},
   "outputs": [
    {
     "data": {
      "image/png": "[encoded data removed]",
      "text/plain": [
       "<Figure size 432x288 with 1 Axes>"
      ]
     },
     "metadata": {},
     "output_type": "display_data"
    }
   ],
   "source": [
    "plt.style.use(\"Solarize_Light2\")\n",
    "\n",
    "slices = [25,40,35] # nemusí to dávat dohromad sto\n",
    "plt.pie(slices)\n",
    "plt.title(\"Koláč\")\n",
    "plt.show()"
   ]
  },
  {
   "cell_type": "markdown",
   "id": "a98f2813",
   "metadata": {},
   "source": [
    "#### Labels"
   ]
  },
  {
   "cell_type": "code",
   "execution_count": 6,
   "id": "0aeb2274",
   "metadata": {},
   "outputs": [
    {
     "data": {
      "image/png": "[encoded data removed]",
      "text/plain": [
       "<Figure size 432x288 with 1 Axes>"
      ]
     },
     "metadata": {},
     "output_type": "display_data"
    }
   ],
   "source": [
    "slices = [25,40,35]\n",
    "labels = [\"dvacet\", \"ctyricet\", \"tricet\"]\n",
    "plt.pie(slices, labels=labels)\n",
    "plt.title(\"Koláč\")\n",
    "plt.show()"
   ]
  },
  {
   "cell_type": "markdown",
   "id": "887c0a2b",
   "metadata": {},
   "source": [
    "#### Styling\n",
    "https://matplotlib.org/3.1.0/api/_as_gen/matplotlib.axes.Axes.pie.html"
   ]
  },
  {
   "cell_type": "code",
   "execution_count": 8,
   "id": "3bcdbaa2",
   "metadata": {},
   "outputs": [
    {
     "data": {
      "image/png": "[encoded data removed]",
      "text/plain": [
       "<Figure size 432x288 with 1 Axes>"
      ]
     },
     "metadata": {},
     "output_type": "display_data"
    }
   ],
   "source": [
    "# parametr wedgeprops = {}\n",
    "\n",
    "# colors = barvy\n",
    "\n",
    "slices = [25,40,35]\n",
    "labels = [\"dvacet\", \"ctyricet\", \"tricet\"]\n",
    "colors = [\"blue\", \"white\",\"red\"] # nebo můžeme použít HEX code\n",
    "plt.pie(slices, labels=labels, colors=colors, wedgeprops={\"edgecolor\":\"black\"}) # černé linky na okrajích\n",
    "plt.title(\"VLAJKA ČR\")\n",
    "plt.show()"
   ]
  },
  {
   "cell_type": "code",
   "execution_count": null,
   "id": "d4f69d67",
   "metadata": {},
   "outputs": [],
   "source": [
    "#Další styling\n",
    "\n",
    "explode = [0, 0, 0, 0.1, 0] # = který prvek chceme \"vypíchnout\" - jak daleko je od radiusu\n",
    "\n",
    "shadow=True # stíny na okrajích\n",
    "\n",
    "startangle=60 # natočení\n",
    "\n",
    "autopct='%1.1f%%' # - zobrazení procent, syntax je nešťatná, musí se to zapamatovat/zapsat"
   ]
  },
  {
   "cell_type": "code",
   "execution_count": 18,
   "id": "0dd66551",
   "metadata": {},
   "outputs": [
    {
     "data": {
      "image/png": "[encoded data removed]",
      "text/plain": [
       "<Figure size 432x288 with 1 Axes>"
      ]
     },
     "metadata": {},
     "output_type": "display_data"
    }
   ],
   "source": [
    "slices = [10, 15, 30, 40, 5]\n",
    "labels = ['JavaScript', 'HTML/CSS', 'SQL', 'Python', 'Java']\n",
    "explode = [0, 0, 0.05, 0.1, 0]\n",
    "\n",
    "plt.pie(slices, labels=labels, explode=explode, shadow=True,\n",
    "        startangle=60, autopct='%1.1f%%',\n",
    "        wedgeprops={'edgecolor': 'black'})\n",
    "\n",
    "plt.title(\"Jaké jazyky umíme\")\n",
    "plt.tight_layout()\n",
    "plt.show()"
   ]
  },
  {
   "cell_type": "markdown",
   "id": "0baa2325",
   "metadata": {},
   "source": [
    "## Grafy z CSV a Pandas"
   ]
  },
  {
   "cell_type": "raw",
   "id": "a92b159c",
   "metadata": {},
   "source": [
    "Dataset - data_prog.csv -> nasdílet na slack"
   ]
  },
  {
   "cell_type": "code",
   "execution_count": 13,
   "id": "7a348d93",
   "metadata": {},
   "outputs": [],
   "source": [
    "# stack\n",
    "from matplotlib import pyplot as plt\n",
    "import numpy as np\n",
    "import csv\n",
    "import pandas as pd\n",
    "from collections import Counter\n",
    "\n",
    "#připomínky good practices :) -->\n",
    "# collections - https://docs.python.org/3/library/collections.html –> ukázat\n",
    "#from collections import Counter\n",
    "#import csv\n",
    "\n",
    "#import numpy as np\n",
    "#from matplotlib import pyplot as plt\n",
    "#import pandas as pd"
   ]
  },
  {
   "cell_type": "markdown",
   "id": "0c4b01fa",
   "metadata": {},
   "source": [
    "#### Counter - ukázka"
   ]
  },
  {
   "cell_type": "raw",
   "id": "9d42ebe4",
   "metadata": {},
   "source": [
    "# COUNTER\n",
    "# c = Counter([\"Python\", \"Javascript\", \"SQL\"])\n",
    "# print(c)\n",
    "# c.update([\"Python\", \"C++\"]) \n",
    "# print(c)"
   ]
  },
  {
   "cell_type": "raw",
   "id": "f29dc4c0",
   "metadata": {},
   "source": [
    "with open(\"data_prog.csv\") as csv_file:\n",
    "    csv_reader = csv.DictReader(csv_file)\n",
    "    #row = next(csv_reader)\n",
    "    #print(row)\n",
    "    #print(row[\"LanguagesWorkedWith\"].split(\";\"))\n",
    "\n",
    "    language_counter = Counter()\n",
    "    for row in csv_reader:\n",
    "        language_counter.update(row[\"LanguagesWorkedWith\"].split(\";\"))\n",
    "    #print(language_counter)\n",
    "    #print(language_counter.most_common(5)) # [('JavaScript', 1339), ('HTML/CSS', 1259), ('SQL', 1070), ('Python', 852), ('Java', 807)]"
   ]
  },
  {
   "cell_type": "markdown",
   "id": "b89b66d3",
   "metadata": {},
   "source": [
    "### Grafujeme data z CSV"
   ]
  },
  {
   "cell_type": "raw",
   "id": "f83785c7",
   "metadata": {},
   "source": [
    "# dáme do grafu top 10 jazyků [('JavaScript', 1339), ('HTML/CSS', 1259), ('SQL', 1070), ('Python', 852), ('Java', 807)....]\n",
    "\n",
    "languages = []\n",
    "popularity = []\n",
    "\n",
    "for item in language_counter.most_common(10):\n",
    "   languages.append(item[0])\n",
    "   popularity.append(item[1])\n",
    "\n",
    "# FANCY BUT CRAZY\n",
    "# languages, popularity = map(list, zip(*language_counter.most_common(15)))\n",
    "# print(languages)\n",
    "# print(popularity)"
   ]
  },
  {
   "cell_type": "markdown",
   "id": "fff7e854",
   "metadata": {},
   "source": [
    "#### cvičení 15 min \n",
    "\n",
    "##### 1) vykreslete sloupcový graf s TOP 10 programovacími jazyky\n",
    "##### 2) vykreslete vodorovné sloupce s TOP 10 prog jazyky od toho co se nejvíce používá po nejméně (první od shora bude Javascript ...)"
   ]
  },
  {
   "cell_type": "raw",
   "id": "40259f50",
   "metadata": {},
   "source": [
    "\n",
    "\n",
    "\n",
    "\n",
    "\n",
    "\n",
    "\n",
    "\n",
    "\n",
    "\n",
    "\n",
    "\n",
    "\n",
    "\n",
    "\n",
    "\n",
    "\n",
    "\n",
    "\n",
    "\n",
    "\n",
    "\n",
    "\n",
    ":)\n"
   ]
  },
  {
   "cell_type": "markdown",
   "id": "69170e30",
   "metadata": {},
   "source": [
    "#### Řešení"
   ]
  },
  {
   "cell_type": "raw",
   "id": "f3a3226f",
   "metadata": {},
   "source": [
    "#languages.reverse()\n",
    "#popularity.reverse()\n",
    "\n",
    "#plt.bar(languages, popularity) # not readable\n",
    "# magic\n",
    "#plt.barh(languages, popularity) # musíme změnit label os\n",
    "\n",
    "plt.title(\"Most Popular Languages\")\n",
    "plt.xlabel(\"Prog Languages\") # we can get rid of it, self explanatory\n",
    "plt.ylabel(\"People using it\")\n",
    "\n",
    "#plt.show()"
   ]
  },
  {
   "cell_type": "markdown",
   "id": "01c0cef3",
   "metadata": {},
   "source": [
    "### Pandas\n",
    "\n",
    "#### to stejné v pandas"
   ]
  },
  {
   "cell_type": "raw",
   "id": "07893f79",
   "metadata": {},
   "source": [
    "data = pd.read_csv(\"data_prog.csv\")\n",
    "ids = data[\"Responder_id\"]\n",
    "lang = data[\"LanguagesWorkedWith\"]\n",
    "\n",
    "l_counter = Counter()\n",
    "\n",
    "for response in lang:\n",
    "    l_counter.update(response.split(\";\"))\n",
    "\n",
    "langs = []\n",
    "pop = []\n",
    "\n",
    "for item in l_counter.most_common(10):\n",
    "   langs.append(item[0])\n",
    "   pop.append(item[1])\n",
    "\n",
    "\n",
    "plt.barh(langs, pop) # musíme změnit label os\n",
    "\n",
    "plt.title(\"Most Popular Languages\")\n",
    "plt.xlabel(\"Prog Languages\") # we can get rid of it, self explanatory\n",
    "plt.ylabel(\"People using it\")\n",
    "\n",
    "plt.show()"
   ]
  },
  {
   "cell_type": "code",
   "execution_count": null,
   "id": "5f1b5dd9",
   "metadata": {},
   "outputs": [],
   "source": []
  },
  {
   "cell_type": "markdown",
   "id": "44a58eb0",
   "metadata": {},
   "source": [
    "## Dataset Countries"
   ]
  },
  {
   "cell_type": "raw",
   "id": "393264c9",
   "metadata": {},
   "source": [
    "working file - coutries.csv"
   ]
  },
  {
   "cell_type": "raw",
   "id": "d2c86970",
   "metadata": {},
   "source": [
    "Můžete používat csv nebo pandas\n",
    "Zobrazit na grafech:\n",
    "1) Zobrazit kolik států je na jakém kontinentu (sloupcový graf)\n",
    "2) Graf currency name: top 10 měn a počet zemí kterých se v nich platí (dolar, euro, peso atd.) (koláč graf)\n",
    "3) Zobrazit v grafu top 10 zemí podle rozlohy a jejich počet obyvatel (normální graf (dvě linky))\n",
    "4) zobrazit průměrnou velikost států a průměrnou populaci podle kontinentu (sloupcový graf (dva sloupce)) "
   ]
  },
  {
   "cell_type": "markdown",
   "id": "adda7a6a",
   "metadata": {},
   "source": [
    "#### Pro zajímavost\n",
    "\n",
    "### Stack plot\n",
    "### Histogram plot\n",
    "### Scatter plot\n",
    "https://github.com/CoreyMSchafer/code_snippets/tree/master/Python/Matplotlib\n",
    "\n",
    "Úvodní 3 videa máme +- -> Každé video 15 min cca, hezky to navazuje\n",
    "https://www.youtube.com/watch?v=UO98lJQ3QGI&list=PL-osiE80TeTvipOqomVEeZ1HRrcEvtZB_ "
   ]
  },
  {
   "cell_type": "code",
   "execution_count": null,
   "id": "97034488",
   "metadata": {},
   "outputs": [],
   "source": []
  }
 ],
 "metadata": {
  "kernelspec": {
   "display_name": "Python 3 (ipykernel)",
   "language": "python",
   "name": "python3"
  },
  "language_info": {
   "codemirror_mode": {
    "name": "ipython",
    "version": 3
   },
   "file_extension": ".py",
   "mimetype": "text/x-python",
   "name": "python",
   "nbconvert_exporter": "python",
   "pygments_lexer": "ipython3",
   "version": "3.8.2"
  }
 },
 "nbformat": 4,
 "nbformat_minor": 5
}
