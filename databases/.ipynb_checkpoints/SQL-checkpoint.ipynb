{
 "cells": [
  {
   "cell_type": "markdown",
   "id": "4f9e7620",
   "metadata": {},
   "source": [
    "## SQL = Jazyk databáze"
   ]
  },
  {
   "cell_type": "markdown",
   "id": "3d4e283a",
   "metadata": {},
   "source": [
    "SQL pomůcky:\n",
    "\n",
    "můžete si vytvořit databázi a provádět query online\n",
    "http://sqlfiddle.com/\n",
    "\n",
    "cvičná databáze a online query :\n",
    "\n",
    "https://www.w3schools.com/sql/trysql.asp?filename=trysql_asc"
   ]
  },
  {
   "cell_type": "markdown",
   "id": "612e2b66",
   "metadata": {},
   "source": [
    "### structured query language (SQL) -  UNIVERZÁLNÍ jazyk pro práci s daty v databázích (RDBMS)"
   ]
  },
  {
   "cell_type": "raw",
   "id": "1158b0e2",
   "metadata": {},
   "source": [
    "SQL funkce se dělí do 4 hlavních kategorií podle typu úkolů, které provádí. \n",
    "\n",
    "\n",
    "DDL (Data Definition Language) - language for defining data; it implements defining data structure\n",
    "\n",
    "- vytváření tabulek a definice datové struktury pro jednotlivé hodnoty\n",
    "CREATE, ALTER, DROP, TRUNCATE\n",
    "\n",
    "DML (Data Manipulation Language) - data manipulation language; it performs data select and modification\n",
    "- práce s daty, nejpoužívanější část pro nás. \n",
    "- SELECT, INSERT, UPDATE, DELETE\n",
    "\n",
    "DCL (Data Control Language) - data access control language\n",
    "- přístupová práva k datům\n",
    "- GRANT, REVOKE\n",
    "\n",
    "TCL (Transaction Control Language) - transaction control language; enables management of DML query groups.\n",
    "- kontrola transakčních operací. Možnost managementu DML queries"
   ]
  },
  {
   "cell_type": "raw",
   "id": "e1e13c65",
   "metadata": {},
   "source": [
    "Python can do anything...\n",
    "\n",
    "SQL can execute queries against a database\n",
    "SQL can retrieve data from a database\n",
    "SQL can insert records in a database\n",
    "SQL can update records in a database\n",
    "SQL can delete records from a database\n",
    "SQL can create new databases\n",
    "SQL can create new tables in a database\n",
    "SQL can create stored procedures in a database\n",
    "SQL can create views in a database\n",
    "SQL can set permissions on tables, procedures, and views"
   ]
  },
  {
   "cell_type": "markdown",
   "id": "4003b4cb",
   "metadata": {},
   "source": [
    "### Klíčová slova v SQL se píšou velkými písmeny (good practise). Ale SQL jazyk není case-sensitive"
   ]
  },
  {
   "cell_type": "markdown",
   "id": "74756cb1",
   "metadata": {},
   "source": [
    "### SQL Syntax"
   ]
  },
  {
   "cell_type": "raw",
   "id": "212b36f1",
   "metadata": {},
   "source": [
    "; středník je vyžadován na konci každého SQL výroku\n",
    "'' - používají se větišnou jednoduché uvozovky\n",
    "VELKA PISMENA \n",
    "\n",
    "# Základní funkce\n",
    "SELECT - extracts data from a database\n",
    "UPDATE - updates data in a database\n",
    "DELETE - deletes data from a database\n",
    "INSERT INTO - inserts new data into a database\n",
    "CREATE DATABASE - creates a new database\n",
    "ALTER DATABASE - modifies a database\n",
    "CREATE TABLE - creates a new table\n",
    "ALTER TABLE - modifies a table\n",
    "DROP TABLE - deletes a table\n",
    "CREATE INDEX - creates an index (search key)\n",
    "DROP INDEX - deletes an index"
   ]
  },
  {
   "cell_type": "markdown",
   "id": "9d519f1f",
   "metadata": {},
   "source": [
    "## Data types\n",
    "\n",
    "- v SQL máme jiné datové typy než v Pythonu (int, str, float, list...)\n",
    "\n",
    "- u každého sloupce se musí předem definovat jaký datový typ v něm bude\n",
    "\n",
    "přehled: https://python.en.sdacademy.pro/coursebook/sql_databases/sql/data_types/ \n"
   ]
  },
  {
   "cell_type": "markdown",
   "id": "21906edb",
   "metadata": {},
   "source": [
    "#### Numeric data types"
   ]
  },
  {
   "cell_type": "raw",
   "id": "ee0bd1ed",
   "metadata": {},
   "source": [
    "bool - 0,1 = false, true\n",
    "\n",
    "boolean - to samé jako book. Můžeme používat oboje\n",
    "\n",
    "bigint\t-2^63 (-9,223,372,036,854,775,808) to 2^63-1 (9,223,372,036,854,775,807)\t(8 Bytes)\n",
    "\n",
    "int\t-2^31 (-2,147,483,648) to 2^31-1 (2,147,483,647)\t(4 Bytes)\n",
    "\n",
    "smallint\t-2^15 (-32,768) to 2^15-1 (32,767)\t(2 Bytes)\n",
    "\n",
    "tinyint\t0 to 255\t(1 Byte)\n",
    "\n",
    "float - small float number\n",
    "\n",
    "double - large float number\n",
    "\n",
    "if len(number) < 25:\n",
    "    number == float\n",
    "    \n",
    "else: (< 53)\n",
    "    number == double"
   ]
  },
  {
   "cell_type": "markdown",
   "id": "30c34cfb",
   "metadata": {},
   "source": [
    "#### String data types"
   ]
  },
  {
   "cell_type": "raw",
   "id": "488c99d3",
   "metadata": {},
   "source": [
    "Základní:\n",
    "char(n) -\tFixed width character string\tmax 8,000 characters\n",
    "varchar(n) - \tVariable width character string\t8,000 characters\n",
    "varchar(max) - \tVariable width character string\t1,073,741,824 characters\n",
    "text\t- Variable width character string\t2GB of text data\t4 bytes + number of chars\n",
    "\n",
    "Další:\n",
    "binary(n)\tFixed width binary string\t8,000 bytes\t \n",
    "varbinary\tVariable width binary string\t8,000 bytes\t \n",
    "varbinary(max)\tVariable width binary string\t2GB\t \n",
    "image\tVariable width binary string\t2GB"
   ]
  },
  {
   "cell_type": "markdown",
   "id": "f6a23a2a",
   "metadata": {},
   "source": [
    "#### Datetime data types"
   ]
  },
  {
   "cell_type": "raw",
   "id": "34deca36",
   "metadata": {},
   "source": [
    "datetime\tFrom January 1, 1753 to December 31, 9999 with an accuracy of 3.33 milliseconds\t8 bytes\n",
    "\n",
    "datetime2\tFrom January 1, 0001 to December 31, 9999 with an accuracy of 100 nanoseconds\t6-8 bytes\n",
    "\n",
    "smalldatetime\tFrom January 1, 1900 to June 6, 2079 with an accuracy of 1 minute\t4 bytes\n",
    "\n",
    "date\tStore a date only. From January 1, 0001 to December 31, 9999\t3 bytes\n",
    "\n",
    "time\tStore a time only to an accuracy of 100 nanoseconds\t3-5 bytes\n",
    "\n",
    "datetimeoffset\tThe same as datetime2 with the addition of a time zone offset\t8-10 bytes\n",
    "\n",
    "timestamp\tStores a unique number that gets updated every time a row gets created or modified. The timestamp value is based upon an internal clock and does not correspond to real time. Each table may have only one timestamp variable\t "
   ]
  },
  {
   "cell_type": "markdown",
   "id": "c335456a",
   "metadata": {},
   "source": [
    "#### NULL"
   ]
  },
  {
   "cell_type": "raw",
   "id": "e4e0114c",
   "metadata": {},
   "source": [
    "NULL - pole v tabulce nemá žádnou hodnotu\n",
    "\n",
    "Pokud je pole v tabulce nepovinné (neni required) a hodnota není zadána --> NULL je defaultní hodnota\n",
    "\n",
    "\n",
    "je obdoba Pythonovského None"
   ]
  },
  {
   "cell_type": "markdown",
   "id": "877e7efd",
   "metadata": {},
   "source": [
    "#### 0)  cvičení"
   ]
  },
  {
   "cell_type": "raw",
   "id": "f83e300a",
   "metadata": {},
   "source": [
    "Určete data typy pro dané hodnoty:\n",
    "1) orderID - 10248\n",
    "2) supplierName - New Orleans Cajun Delights\n",
    "3) phone - (171) 555-2222\n",
    "4) price - 21.35\n",
    "5) unit - 10 boxes x 20 bags\n",
    "6) date - 1996-07-04"
   ]
  },
  {
   "cell_type": "markdown",
   "id": "33113f79",
   "metadata": {},
   "source": [
    "## CRUD"
   ]
  },
  {
   "cell_type": "raw",
   "id": "9b63ab51",
   "metadata": {},
   "source": [
    "Základní RDBMS funkce - create, read, update and delete operation\n",
    "\n",
    "- C == vytvořit tabulku, vložit data\n",
    "- R == zobrazovat a filtrovat si data\n",
    "- U == měnit data\n",
    "- D == mazat \n"
   ]
  },
  {
   "cell_type": "markdown",
   "id": "504abd78",
   "metadata": {},
   "source": [
    "### Create"
   ]
  },
  {
   "cell_type": "raw",
   "id": "226f68a4",
   "metadata": {},
   "source": [
    "SYNTAX\n",
    "\n",
    "Vytvoření tabulky\n",
    "\n",
    "CRATE TABLE 'Table_name'('column1' datatype,\n",
    "                        'column2' datatype,\n",
    "                        columnx datatype)\n",
    "\n",
    "CREATE TABLE `friends` (\n",
    " `first_name` varchar(25) NOT NULL,\n",
    " `last_name` varchar(25) NOT NULL,\n",
    " `phone_num` char(12) DEFAULT NULL,\n",
    " `birthday` date DEFAULT NULL,\n",
    " `age` int(11) DEFAULT NULL\n",
    ")\n",
    "\n",
    "# DEFAULT je defaultní hodnota pokud není nic zadáno. Může být i konkrétní číslo, string, datum ...\n",
    "\n",
    "Vkládání hodnot\n",
    "\n",
    "INSERT INTO some_table(column(s) to populate)\n",
    "VALUES(column(s) values to store);\n",
    "\n",
    "INSERT INTO friends(first_name, last_name, phone_num, birthday, age)\n",
    "VALUES(‘Jim’, ‘Dandy’, ‘476–111–1122’, ‘1977–07–19’, 42);\n",
    "\n",
    "!Pokud vkládáme hodnoty do všech sloupců, můžeme vynechat sloupce!\n",
    "INSERT INTO friends\n",
    "VALUES(‘Jim’, ‘Dandy’, ‘476–111–1122’, ‘1977–07–19’, 42);\n",
    "\n",
    "Pokud by bylo hodnot méně tak by vzniknul error:\n",
    "ERROR 1136 (21S01): Column count doesn’t match value count at row 1\n",
    "\n",
    "\n",
    "!Pokud chceme jen hodnoty pro určité sloupce, musíme je specifikovat!\n",
    "INSERT INTO friends(first_name, last_name)\n",
    "VALUES(‘John’, ‘Snow’);\n",
    "\n",
    "Vkládání více řádků:\n",
    "\n",
    "INSERT INTO friends(first_name, last_name, phone_num, birthday, age)\n",
    "VALUES(‘Charlie’,’Charles’,’888–767–2323',’1971–08–22',48),\n",
    "      (‘Humpty’,’Dumpty’,’118–257–7344',’1971–11–22',48),\n",
    "      (‘Roger’,’Dodger’,’234–767–3983',’1975–08–22',44);"
   ]
  },
  {
   "cell_type": "markdown",
   "id": "22d9b813",
   "metadata": {},
   "source": [
    "#### 1) Cvičení "
   ]
  },
  {
   "cell_type": "raw",
   "id": "317ce654",
   "metadata": {},
   "source": [
    "Vytvořte tabulku \"countries\" / \"zeme\" která bude mít 5 sloupců:\n",
    "\n",
    "country - název země \n",
    "region - kontinent\n",
    "populace - počet obyvatel\n",
    "rozloha - rozhloha (celé km2)\n",
    "vzdělanost - vzdělanost (% , desetiny procenta)\n",
    "\n",
    "a vložte do ní 5 zemí (nechám na vás)\n",
    "\n"
   ]
  },
  {
   "cell_type": "markdown",
   "id": "691d07aa",
   "metadata": {},
   "source": [
    "### Read"
   ]
  },
  {
   "cell_type": "markdown",
   "id": "86fb02bf",
   "metadata": {},
   "source": [
    "#### SELECT a SELECT DISTINCT"
   ]
  },
  {
   "cell_type": "raw",
   "id": "40699d89",
   "metadata": {},
   "source": [
    "Syntax\n",
    "\n",
    "SELECT * FROM table_name;     # * == všechny sloupce\n",
    "\n",
    "\n",
    "SELECT column1, column2, ... sloupce i jméno tabulky bez uvozovek\n",
    "FROM table_name;\n",
    "\n",
    "\n",
    "SELECT DISTINCT Country FROM Customers; # pouze unikátní hodnoty\n",
    "\n"
   ]
  },
  {
   "cell_type": "markdown",
   "id": "efeaf6ee",
   "metadata": {},
   "source": [
    "#### WHERE"
   ]
  },
  {
   "cell_type": "raw",
   "id": "9d514ce5",
   "metadata": {},
   "source": [
    "Syntax\n",
    "\n",
    "\n",
    "SELECT column1, column2, ...\n",
    "FROM table_name\n",
    "WHERE condition;\n",
    "\n",
    "SELECT * FROM Customers\n",
    "WHERE Country='Mexico';   # musíme použít jednoduché uvozovky u textových hodnot\n",
    "                          * některé RBDMS zvládají i dvojité uvozovky\n",
    "\n",
    "SELECT * FROM Customers\n",
    "WHERE CustomerID=1;       # int hodnoty bez uvozovek\n",
    "\n",
    "Operators:\n",
    "= rovno\n",
    "> větší než\n",
    "< menší než\n",
    "<=\n",
    ">=      #rovná se až za znaménkem nerovnosti\n",
    "<> není rovno  (záleží na verzi SQL)\n",
    "!= není rovno (záleží na verzi SQL)\n",
    "BETWEEN - mezi dvěma hodnotami (range)\n",
    "LIKE - hledá podle zadaného patternu\n",
    "IN - v - hledá v daných možnostěch\n",
    "IS NULL - hodnota pole je NULL\n",
    "IS NOT NULL - hodnota pole není NULL\n",
    "\n"
   ]
  },
  {
   "cell_type": "markdown",
   "id": "d1a8de30",
   "metadata": {},
   "source": [
    "#### 2) cvičení\n",
    "Budeme používat tabulku W3 schools Customers - https://www.w3schools.com/sql/trysql.asp?filename=trysql_asc"
   ]
  },
  {
   "cell_type": "raw",
   "id": "375f81d2",
   "metadata": {},
   "source": [
    "Napište queries na vybrání z Customers:\n",
    "    1) Seznam unikátních zemí \n",
    "    2) Seznam všech záznamů kde země nejsou Germany a Mexico\n",
    "    3) Zákazníky (ContactName a Address) s IDs od 10 do 30\n",
    "    4) Všechny zákazníky jejichž křestní jméno je Maria\n",
    "    5) všechny údaje o zákaznících z Berlína, Londýna, Paříže a Madridu"
   ]
  },
  {
   "cell_type": "markdown",
   "id": "bda32d0a",
   "metadata": {},
   "source": [
    "#### Spojování podmínek AND, OR, NOT"
   ]
  },
  {
   "cell_type": "raw",
   "id": "457dc3b3",
   "metadata": {},
   "source": [
    "AND - all conditions are TRUE\n",
    "OR - any condition is TRUE\n",
    "NOT - if the condition is FALSE (NOT TRUE)\n",
    "\n",
    "Syntax\n",
    "SELECT column1, column2, ...\n",
    "FROM table_name\n",
    "WHERE condition1 AND condition2 AND condition3 ...;\n",
    "\n",
    "SELECT column1, column2, ...\n",
    "FROM table_name\n",
    "WHERE condition1 OR condition2 OR condition3 ...;\n",
    "\n",
    "SELECT column1, column2, ...\n",
    "FROM table_name\n",
    "WHERE NOT condition;\n",
    "\n"
   ]
  },
  {
   "cell_type": "markdown",
   "id": "5503b75e",
   "metadata": {},
   "source": [
    "#### ORDER BY "
   ]
  },
  {
   "cell_type": "raw",
   "id": "f45f6067",
   "metadata": {},
   "source": [
    "Řazení výsledků\n",
    "\n",
    "Syntax\n",
    "\n",
    "SELECT column1, column2, ...\n",
    "FROM table_name\n",
    "ORDER BY column1 ... ASC|DESC; \n",
    "\n",
    "Můžeme řadit i podle více sloupců\n",
    "\n",
    "SELECT column1, column2, ...\n",
    "FROM table_name\n",
    "ORDER BY column1, column2, ... ASC|DESC; \n",
    "\n"
   ]
  },
  {
   "cell_type": "markdown",
   "id": "545e63f4",
   "metadata": {},
   "source": [
    "#### 3) cvičení"
   ]
  },
  {
   "cell_type": "raw",
   "id": "1d869061",
   "metadata": {},
   "source": [
    "Napiště query pro Customers (zobrazit všechny sloupce):\n",
    "a) kteří jsou z Anglie nebo Francouzských měst Nantes a Lille\n",
    "b)kteří jsou z Mexika a jejich ID je v rozmezí 1-20  nebo zákazníky s ID nad 80 \n",
    "c) seřaďte zákazníky podle zemí (A-Z) a měst (A-Z)\n",
    "d) vyberte zákazníky z Německa a Francie kteří nejsou z hlavních měst a seřaťe je podle jména (contact name)\n"
   ]
  },
  {
   "cell_type": "raw",
   "id": "45ca5aa5",
   "metadata": {},
   "source": [
    "# Doplnit po cvičení -> spojování více podmínek --> závorky\n",
    "# Doplnit po cvičení -> řazení podle více sloupců"
   ]
  },
  {
   "cell_type": "raw",
   "id": "a904fd84",
   "metadata": {},
   "source": [
    "SELECT * FROM Customers\n",
    "ORDER BY Country ASC, CustomerName DESC;"
   ]
  },
  {
   "cell_type": "markdown",
   "id": "276ac683",
   "metadata": {},
   "source": [
    "#### SELECT TOP // LIMIT"
   ]
  },
  {
   "cell_type": "raw",
   "id": "8a45107d",
   "metadata": {},
   "source": [
    "# Vybírá jen určitý počet výsledků. Vhodné na velké data sety\n",
    "* v MySQL se používá LIMIT místo SELECT TOP\n",
    "* v Postgres SELECT TOP\n",
    "Syntax\n",
    "\n",
    "SQL TryitEditor používá limit\n",
    "\n",
    "SELECT column_name(s)\n",
    "FROM table_name\n",
    "WHERE condition\n",
    "LIMIT number;\n",
    "\n",
    "SELECT TOP number|percent column_name(s)\n",
    "FROM table_name\n",
    "WHERE condition;\n"
   ]
  },
  {
   "cell_type": "markdown",
   "id": "2050cfbf",
   "metadata": {},
   "source": [
    "#### AS"
   ]
  },
  {
   "cell_type": "raw",
   "id": "33a93267",
   "metadata": {},
   "source": [
    "Aliases - slouží k dočasnému přejmenování tabulky nebo jména sloupců\n",
    "Používají se pro zpřehlednění výstupu\n",
    "\n",
    "Alias končí po zániku query\n",
    "\n",
    "klíčové slovo AS\n",
    "\n",
    "Syntax\n",
    "\n",
    "SELECT column_name AS alias_name\n",
    "FROM table_name;\n",
    "\n",
    "SELECT column_name(s)\n",
    "FROM table_name AS alias_name;\n",
    "\n",
    "SELECT CustomerID AS ID, CustomerName AS Customer\n",
    "FROM Customers;"
   ]
  },
  {
   "cell_type": "markdown",
   "id": "15f1dba8",
   "metadata": {},
   "source": [
    "#### MIN () MAX ()"
   ]
  },
  {
   "cell_type": "raw",
   "id": "e9019f8e",
   "metadata": {},
   "source": [
    "Vrací nejmenší nebo největší hodnotu. Musí být v závorce\n",
    "\n",
    "Syntax\n",
    "\n",
    "SELECT MIN(column_name)\n",
    "FROM table_name\n",
    "WHERE condition;\n",
    "\n",
    "SELECT MAX(column_name)\n",
    "FROM table_name\n",
    "WHERE condition;\n",
    "\n",
    "* vysvětlit as\n",
    "SELECT MIN(Price) AS SmallestPrice\n",
    "FROM Products;\n",
    "\n",
    "*SELECT MAX(Price) AS LargestPrice\n",
    "FROM Products;\n"
   ]
  },
  {
   "cell_type": "markdown",
   "id": "42dd9bba",
   "metadata": {},
   "source": [
    "#### COUNT() AVG() SUM()"
   ]
  },
  {
   "cell_type": "raw",
   "id": "ee5c656d",
   "metadata": {},
   "source": [
    "COUNT -> počet výskytů\n",
    "AVG -> průměr\n",
    "SUM -> suma\n",
    "\n",
    "SELECT COUNT/AVG/SUM(column_name)\n",
    "FROM table_name\n",
    "WHERE condition;\n",
    "\n",
    "SELECT COUNT(ProductID)\n",
    "FROM Products;\n",
    "\n",
    "SELECT AVG(Price)\n",
    "FROM Products;\n",
    "\n",
    "SELECT * FROM Customers\n",
    "WHERE Country='Germany'\n",
    "LIMIT 3;"
   ]
  },
  {
   "cell_type": "markdown",
   "id": "3ced0cf2",
   "metadata": {},
   "source": [
    "#### 4) cvičení - Použijte tabulku Products z databáze"
   ]
  },
  {
   "cell_type": "raw",
   "id": "baf840f4",
   "metadata": {},
   "source": [
    "1) Najděte nejlevnější položku\n",
    "2) Najděte top 10 nejdražsích položek\n",
    "3) vypočítejte průměrnou cenu položek\n",
    "4) kolik je položek s CategoryID 4\n",
    "5) kolik je unikátních jmen produktů "
   ]
  },
  {
   "cell_type": "markdown",
   "id": "18cc26bf",
   "metadata": {},
   "source": [
    "#### LIKE"
   ]
  },
  {
   "cell_type": "raw",
   "id": "ac285228",
   "metadata": {},
   "source": [
    "operátor LIKE se používá za klíčovým slovem WHERE\n",
    "LIKE vyhledává výrazy podle určitého patternu (like je v angličtině jako)\n",
    "\n",
    "LIKE používá WILDCARDS (setkali jsme se s nimi už při regex v pythonu)\n",
    "% - znamená nula, jeden nebo mnoho znaků\n",
    "_ - jeden znak\n",
    "\n",
    "Syntax\n",
    "\n",
    "SELECT column1, column2, ...\n",
    "FROM table_name\n",
    "WHERE columnN LIKE pattern;\n",
    "\n",
    "dá se také používat s AND / OR\n",
    "\n",
    "příklady:\n",
    "WHERE CustomerName LIKE 'a%'\t- všechno začínající na \"a\"\n",
    "WHERE CustomerName LIKE '%a'\t- ?\n",
    "WHERE CustomerName LIKE '%sla%'\t- svatoslav, jaroslav, dobroslav, miroslav...\n",
    "WHERE CustomerName LIKE '_e%'\t- \"e\" na druhé pozici (např Petr)\n",
    "WHERE CustomerName LIKE 'a_%'\t- začíná na \"a\" a je minimálně 2 znaky dlouhá\n",
    "WHERE CustomerName LIKE 'a__%'\t- začíná na \"a\" a je minimálně 3 znaky dlouhá\n",
    "WHERE ContactName LIKE 's%a'    - začíná na s a končí na a (sda, sranda)\n",
    "\n",
    "SELECT * FROM Customers\n",
    "WHERE CustomerName LIKE 'a%';\n",
    "\n",
    "\n",
    "POUŽÍTÍ s NOT \n",
    "SELECT * FROM Customers\n",
    "WHERE CustomerName NOT LIKE 'a%';"
   ]
  },
  {
   "cell_type": "markdown",
   "id": "4e9864bf",
   "metadata": {},
   "source": [
    "#### OSTATNÍ WILDCARDS"
   ]
  },
  {
   "cell_type": "raw",
   "id": "f5c690f4",
   "metadata": {},
   "source": [
    "[] - jakýkoliv znak v závorce   h[oa]t finds hot and hat\n",
    "[^] - jakýkoliv znak co není v závorce   h[^oa]t finds hit, but not hot and hat\n",
    "[a-z] - jakýkoliv znak v range [a-l]ostel - hostel, kostel, ... ne postel\n",
    "\n",
    "dají se kombinovat i s % a _\n",
    "SELECT * FROM Customers\n",
    "WHERE City LIKE '[bsp]%';\n",
    "\n",
    "SELECT * FROM Customers\n",
    "WHERE City LIKE '[a-c]%';"
   ]
  },
  {
   "cell_type": "markdown",
   "id": "fd524330",
   "metadata": {},
   "source": [
    "### UPDATE"
   ]
  },
  {
   "cell_type": "raw",
   "id": "1012546e",
   "metadata": {},
   "source": [
    "Modifikování existujících hodnot v tabulce\n",
    "\n",
    "Syntax\n",
    "\n",
    "UPDATE table_name\n",
    "SET column1 = value1, column2 = value2, ...\n",
    "WHERE condition;\n",
    "\n",
    "Pozor!\n",
    "UPDATE Customers\n",
    "SET ContactName='Petr'; - Nastaví všechny jména na Petr"
   ]
  },
  {
   "cell_type": "markdown",
   "id": "da06069b",
   "metadata": {},
   "source": [
    "### DELETE"
   ]
  },
  {
   "cell_type": "raw",
   "id": "66c66490",
   "metadata": {},
   "source": [
    "Mazání dat z tabulky\n",
    "\n",
    "Syntax\n",
    "\n",
    "DELETE FROM table_name WHERE condition;\n",
    "\n",
    "DELETE FROM Customers WHERE CustomerName='Alfreds Futterkiste'; # Vymaže to celý řádek\n",
    "\n",
    "\n",
    "Ukol na konec -> vymažte všechny data z Customers\n",
    "DELETE FROM Customers;"
   ]
  },
  {
   "cell_type": "markdown",
   "id": "b1e70bf4",
   "metadata": {},
   "source": [
    "### Vlastní databáze\n",
    "- http://sqlfiddle.com/\n",
    "- geonames_sql_fiddle.txt\n",
    "- nebo csv"
   ]
  },
  {
   "cell_type": "markdown",
   "id": "c86eb89f",
   "metadata": {},
   "source": [
    "#### 5) Cvičení "
   ]
  },
  {
   "cell_type": "raw",
   "id": "8b6539c3",
   "metadata": {},
   "source": [
    "Vypracujte následující operace v tabulce countries (země od A až po Fiji) = napiště query na:\n",
    "1) zobrazení zemí evropy a jejich hlavních měst\n",
    "2) zobrazit 10 největších států podle rozlohy a seřadit je podle počtu obyvatel\n",
    "3) zobrazit všechny názvy měn\n",
    "4) kolika currency name se platí\n",
    "5) v jakých zemích se platí dolarem. Seradit podle populace\n",
    "6) Jaká je průměrná velikost států v severní a jižní americe (continent SA, NA)\n",
    "7) Kolik mají průměrný počet obyvatel státy afriky\n",
    "8) zobrazte státy podle abeceby které mají pouze dvouciferný ISONumerický kod\n",
    "9) zobrate státy jejichž první dvě písmena ISO3 kodu jsou stejné jako SO kod (ten dvou písmenný))\n",
    "9 a 3/4) státy s doménou na \"e\"\n",
    "10) zobrazte všechny řádky - měny které končí na \"D\" a seradte je podle velikosti země\n",
    "11) Nahradte všechny jméná států evropy na `Evropska Unie`\n",
    "12) vymažte všechny státy Asie a spočítejte kolik zůstalo položek\n",
    "13) vymažte všechno :) "
   ]
  },
  {
   "cell_type": "raw",
   "id": "c323a7c0",
   "metadata": {},
   "source": [
    "Jestli zůstal čas -> udělat cvíčení 1-13 v pandách :) "
   ]
  },
  {
   "cell_type": "markdown",
   "id": "18fa0260",
   "metadata": {},
   "source": [
    "## Operace mezi více tabulkami"
   ]
  },
  {
   "cell_type": "markdown",
   "id": "6177d589",
   "metadata": {},
   "source": [
    "### READ"
   ]
  },
  {
   "cell_type": "markdown",
   "id": "4e407ce6",
   "metadata": {},
   "source": [
    "#### IN"
   ]
  },
  {
   "cell_type": "raw",
   "id": "303dae28",
   "metadata": {},
   "source": [
    "Dovoluje specifikovat více hodnot po WHERE\n",
    "Je to náhrada za více OR\n",
    "SELECT ::::\n",
    "\n",
    "WHERE city = 'Paris' OR city = 'Berlin' OR city = 'Prague'\n",
    "x\n",
    "WHERE city in ('Paris', 'Berlin', 'Prague')\n",
    "\n",
    "Syntax\n",
    "\n",
    "SELECT column_name(s)\n",
    "FROM table_name\n",
    "WHERE column_name IN (value1, value2, ...);\n",
    "\n",
    "\n",
    "Next level:\n",
    "\n",
    "SELECT column_name(s)\n",
    "FROM table_name\n",
    "WHERE column_name IN (SELECT STATEMENT);\n",
    "\n",
    "SELECT * FROM Customers\n",
    "WHERE Country IN (SELECT Country FROM Suppliers);\n"
   ]
  },
  {
   "cell_type": "markdown",
   "id": "804daf55",
   "metadata": {},
   "source": [
    "#### BETWEEN"
   ]
  },
  {
   "cell_type": "raw",
   "id": "ec4e28fb",
   "metadata": {},
   "source": [
    "Operátor vybírá hodnoty z určité range (číselné, textové, date)\n",
    "počáteční a konečné hodnoty jsou zahrnuté (= inclusive)\n",
    "\n",
    "Syntax\n",
    "\n",
    "SELECT column_name(s)\n",
    "FROM table_name\n",
    "WHERE column_name BETWEEN value1 AND value2;\n",
    "\n",
    "SELECT * FROM Products\n",
    "WHERE Price BETWEEN 10 AND 20;\n",
    "\n",
    "SELECT * FROM Products\n",
    "WHERE Price NOT BETWEEN 10 AND 20;\n",
    "\n",
    "\n",
    "Kombinace s IN\n",
    "\n",
    "SELECT * FROM Products\n",
    "WHERE Price BETWEEN 10 AND 20\n",
    "AND CategoryID NOT IN (1,2,3);\n",
    "\n",
    "SELECT * FROM Products\n",
    "WHERE ProductName BETWEEN 'Carnarvon Tigers' AND 'Mozzarella di Giovanni'\n",
    "ORDER BY ProductName;\n",
    "\n",
    "SELECT * FROM Products\n",
    "WHERE ProductName NOT BETWEEN 'Carnarvon Tigers' AND 'Mozzarella di Giovanni'\n",
    "ORDER BY ProductName;\n",
    "\n",
    "SELECT * FROM Orders\n",
    "WHERE OrderDate BETWEEN '1996-07-01' AND '1996-07-31';"
   ]
  },
  {
   "cell_type": "markdown",
   "id": "d6db8600",
   "metadata": {},
   "source": [
    "#### AS (podruhé)"
   ]
  },
  {
   "cell_type": "raw",
   "id": "032ea684",
   "metadata": {},
   "source": [
    "Spojování více sloupců do jednoho sloupce (nejede v SQL online editoru)\n",
    "\n",
    "SELECT CustomerName, Address + ', ' + PostalCode + ' ' + City + ', ' + Country AS Address\n",
    "FROM Customers;\n",
    "\n",
    "\n",
    "Přejmenování tabulek pro zkrácení zápisu query\n",
    "\n",
    "SELECT o.OrderID, o.OrderDate, c.CustomerName\n",
    "FROM Customers AS c, Orders AS o\n",
    "WHERE c.CustomerName='Around the Horn' AND c.CustomerID=o.CustomerID;"
   ]
  },
  {
   "cell_type": "markdown",
   "id": "48494cf5",
   "metadata": {},
   "source": [
    "#### JOIN"
   ]
  },
  {
   "cell_type": "markdown",
   "id": "d22db102",
   "metadata": {},
   "source": [
    "slouží ke kombinování řádků ze dvou a více tabulek podle zadaných sloupců\n",
    "\n",
    "ke spojování nám slouží relace (protože jsme v relačních databázích :) - IDs, případně stejné hodnoty -> jména zemí, měst, atd.\n",
    "\n",
    "Syntax\n",
    "\n",
    "SELECT Orders.OrderID, Customers.CustomerName, Orders.OrderDate\n",
    "FROM Orders\n",
    "INNER JOIN Customers ON Orders.CustomerID=Customers.CustomerID;\n",
    "\n",
    "Vypíše sloupce OrderID a OrderDate z Orders a CustomerName z Customers  -> ukázat\n",
    "\n",
    "\n",
    "\n",
    "\n",
    "\n",
    "\n",
    "\n",
    "https://www.w3schools.com/sql/sql_join.asp - ukázat - grafika joinu\n",
    "\n",
    "TYPY JOINs -> obdoba operací na setu v pythonu\n",
    "\n",
    "(INNER) JOIN: == Průnik -> Vrátí hodnoty společné pro obě tabulky \n",
    "\n",
    "LEFT (OUTER) JOIN: Vrací všechny záznamy z levé tabulky (té co je napsaná dříve) + záznamy z pravé tabulky které splňují podmínky\n",
    "\n",
    "RIGHT (OUTER) JOIN: Vrací všechny záznamy z pravé tabulky+ záznamy z levé tabulky které splňují podmínky\n",
    "\n",
    "FULL (OUTER) JOIN: Returns all records when there is a match in either left or right table \n"
   ]
  },
  {
   "cell_type": "markdown",
   "id": "e632a1fa",
   "metadata": {},
   "source": [
    "#### INNER JOIN"
   ]
  },
  {
   "cell_type": "raw",
   "id": "8653b00d",
   "metadata": {},
   "source": [
    "Syntax\n",
    "\n",
    "SELECT column_name(s)\n",
    "FROM table1\n",
    "INNER JOIN table2\n",
    "ON table1.column_name = table2.column_name;\n",
    "\n",
    "\n",
    "SELECT Orders.OrderID, Customers.CustomerName\n",
    "FROM Orders\n",
    "INNER JOIN Customers ON Orders.CustomerID = Customers.CustomerID;\n",
    "\n",
    "\n",
    "# Spojení 3 tabulek:\n",
    "SELECT Orders.OrderID, Customers.CustomerName, Shippers.ShipperName\n",
    "FROM ((Orders\n",
    "INNER JOIN Customers ON Orders.CustomerID = Customers.CustomerID)\n",
    "INNER JOIN Shippers ON Orders.ShipperID = Shippers.ShipperID);"
   ]
  },
  {
   "cell_type": "markdown",
   "id": "dbbdbd2d",
   "metadata": {},
   "source": [
    "#### LEFT JOIN"
   ]
  },
  {
   "cell_type": "code",
   "execution_count": null,
   "id": "afd9c657",
   "metadata": {},
   "outputs": [],
   "source": [
    "SELECT column_name(s)\n",
    "FROM table1\n",
    "LEFT JOIN table2\n",
    "ON table1.column_name = table2.column_name;\n",
    "\n",
    "SELECT Customers.CustomerName, Orders.OrderID\n",
    "FROM Customers\n",
    "LEFT JOIN Orders ON Customers.CustomerID = Orders.CustomerID\n",
    "ORDER BY Customers.CustomerName;\n",
    "\n"
   ]
  },
  {
   "cell_type": "markdown",
   "id": "e09d9a4d",
   "metadata": {},
   "source": [
    "#### RIGHT JOIN"
   ]
  },
  {
   "cell_type": "raw",
   "id": "a711a854",
   "metadata": {},
   "source": [
    "SELECT column_name(s)\n",
    "FROM table1\n",
    "RIGHT JOIN table2\n",
    "ON table1.column_name = table2.column_name;\n",
    "\n",
    "SELECT Orders.OrderID, Employees.LastName, Employees.FirstName\n",
    "FROM Orders\n",
    "RIGHT JOIN Employees ON Orders.EmployeeID = Employees.EmployeeID\n",
    "ORDER BY Orders.OrderID;"
   ]
  },
  {
   "cell_type": "markdown",
   "id": "05fc2047",
   "metadata": {},
   "source": [
    "#### FULL JOIN"
   ]
  },
  {
   "cell_type": "code",
   "execution_count": null,
   "id": "e94662b9",
   "metadata": {},
   "outputs": [],
   "source": [
    "SELECT column_name(s)\n",
    "FROM table1\n",
    "FULL OUTER JOIN table2\n",
    "ON table1.column_name = table2.column_name\n",
    "WHERE condition;\n",
    "\n",
    "SELECT Customers.CustomerName, Orders.OrderID\n",
    "FROM Customers\n",
    "FULL OUTER JOIN Orders ON Customers.CustomerID=Orders.CustomerID\n",
    "ORDER BY Customers.CustomerName;"
   ]
  },
  {
   "cell_type": "markdown",
   "id": "cfad9515",
   "metadata": {},
   "source": [
    "#### UNION"
   ]
  },
  {
   "cell_type": "raw",
   "id": "9c947e51",
   "metadata": {},
   "source": [
    "UNION kombinuje výsledky dvou a více SELECT výroků\n",
    "\n",
    "Pravidla\n",
    "\n",
    "Každý SELECT musí mít stejný počet sloupců na výstupu\n",
    "Sloupce musí mít podobné Data types\n",
    "\n",
    "\n",
    "Syntax\n",
    "\n",
    "SELECT column_name(s) FROM table1\n",
    "UNION\n",
    "SELECT column_name(s) FROM table2;\n",
    "\n",
    "SELECT City FROM Customers\n",
    "UNION\n",
    "SELECT City FROM Suppliers\n",
    "ORDER BY City;\n",
    "\n",
    "# 94 results\n",
    "\n",
    "Základní UNION nepovoluje duplikáty. Abychom  duplikáty zobrazili, můžeme použít UNION ALL\n",
    "\n",
    "SELECT column_name(s) FROM table1\n",
    "UNION ALL\n",
    "SELECT column_name(s) FROM table2;\n",
    "\n",
    "SELECT City FROM Customers\n",
    "UNION ALL\n",
    "SELECT City FROM Suppliers\n",
    "ORDER BY City;\n",
    "\n",
    "# 119 results\n",
    "\n",
    "UNION WHERE - s podmínkou\n",
    "\n",
    "SELECT City, Country FROM Customers\n",
    "WHERE Country='Germany'\n",
    "UNION\n",
    "SELECT City, Country FROM Suppliers\n",
    "WHERE Country='Germany'\n",
    "ORDER BY City;\n",
    "\n",
    "\n",
    "UNION AS\n",
    "\n",
    "SELECT 'Customer' AS Type, ContactName, City, Country # přidáváme a přejmenováváme  sloupec Customer jako Type + ostatní sloupce\n",
    "FROM Customers\n",
    "UNION\n",
    "SELECT 'Supplier', ContactName, City, Country\n",
    "FROM Suppliers;"
   ]
  },
  {
   "cell_type": "markdown",
   "id": "293ba8cd",
   "metadata": {},
   "source": [
    "#### GROUP BY"
   ]
  },
  {
   "cell_type": "code",
   "execution_count": null,
   "id": "4cf8de8a",
   "metadata": {},
   "outputs": [],
   "source": [
    "Aggreguje výsledky podle zadaných parametrů\n",
    "\n",
    "Používá se často s aggregačními funkcemi COUNT(), MAX(), MIN(), SUM(), AVG()\n",
    "\n",
    "Kombinuje se i s ORDER BY\n",
    "\n",
    "Syntax\n",
    "\n",
    "SELECT column_name(s)\n",
    "FROM table_name\n",
    "WHERE condition\n",
    "GROUP BY column_name(s)\n",
    "ORDER BY column_name(s);\n",
    "\n",
    "SELECT COUNT(CustomerID), Country\n",
    "FROM Customers\n",
    "GROUP BY Country;\n",
    "\n",
    "\n",
    "Next level - s JOIN\n",
    "\n",
    "SELECT Shippers.ShipperName, COUNT(Orders.OrderID) AS NumberOfOrders FROM Orders\n",
    "LEFT JOIN Shippers ON Orders.ShipperID = Shippers.ShipperID\n",
    "GROUP BY ShipperName;"
   ]
  }
 ],
 "metadata": {
  "kernelspec": {
   "display_name": "Python 3 (ipykernel)",
   "language": "python",
   "name": "python3"
  },
  "language_info": {
   "codemirror_mode": {
    "name": "ipython",
    "version": 3
   },
   "file_extension": ".py",
   "mimetype": "text/x-python",
   "name": "python",
   "nbconvert_exporter": "python",
   "pygments_lexer": "ipython3",
   "version": "3.8.2"
  }
 },
 "nbformat": 4,
 "nbformat_minor": 5
}
