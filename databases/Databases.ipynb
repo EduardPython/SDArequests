{
 "cells": [
  {
   "cell_type": "markdown",
   "id": "2ef0d4ae",
   "metadata": {},
   "source": [
    "## Relační databáze\n",
    "https://python.en.sdacademy.pro/_slides/sql_databases/relational_databases.html#/2"
   ]
  },
  {
   "cell_type": "raw",
   "id": "0b43de04",
   "metadata": {},
   "source": [
    "Relační databáze uchovávají data v TABULKÁCH(tables). \n",
    "Tabulky mají sloupce (columns), řádky (rows) a záznamy (values)   # viz slide  "
   ]
  },
  {
   "cell_type": "markdown",
   "id": "ab5e6df8",
   "metadata": {},
   "source": [
    "### Primární klíč\n"
   ]
  },
  {
   "cell_type": "raw",
   "id": "b206af9e",
   "metadata": {},
   "source": [
    "Primary key je unikátní identifikátor (ID) záznamů (records)"
   ]
  },
  {
   "cell_type": "markdown",
   "id": "c3dd6ae6",
   "metadata": {},
   "source": [
    "### Relační = propojené "
   ]
  },
  {
   "cell_type": "raw",
   "id": "42976984",
   "metadata": {},
   "source": [
    "V databázi máme většinou více tabulek\n",
    "Mezi tabulkami existují propojení -> propojení pomocí IDs (primary key, foreign key)\n",
    "\n",
    "Primary key pro jednu tabulku může být Foreign key (cizí klíč) pro druhou   # viz slide"
   ]
  },
  {
   "cell_type": "raw",
   "id": "4787ee1a",
   "metadata": {},
   "source": [
    "3 typy relací\n",
    "\n",
    "a) one to one - jeden záznam z tabulky A může být spojen jen s jedním záznamem z tabulky B\n",
    " - např: jeden člověk má právě jedno trvalé bydliště\n",
    " \n",
    "b) one to many - jeden záznam z tabulky A může být spojen jen s více záznamy z tabulky B\n",
    " - např: jeden autor může napsat 10 knih\n",
    " \n",
    "c) many to many - Každý záznam z tabulky A může být spojen s více záznamy z tabulky B. Je vyžadována třetí tabulka které se říká spojovací\n",
    " - např: kniha v knihovně může odkazovat na autorID a bookID"
   ]
  },
  {
   "cell_type": "markdown",
   "id": "4bfae3f4",
   "metadata": {},
   "source": [
    "## SQL = Jazyk databáze"
   ]
  },
  {
   "cell_type": "markdown",
   "id": "455ed951",
   "metadata": {},
   "source": [
    "### structured query language (SQL) -  designed for managing data held in relational databases. It is a universal language used in MySQL, PostreSQL, Microsoft Server SQL and many other sollutions."
   ]
  },
  {
   "cell_type": "code",
   "execution_count": null,
   "id": "2e86f5bc",
   "metadata": {},
   "outputs": [],
   "source": []
  }
 ],
 "metadata": {
  "kernelspec": {
   "display_name": "Python 3 (ipykernel)",
   "language": "python",
   "name": "python3"
  },
  "language_info": {
   "codemirror_mode": {
    "name": "ipython",
    "version": 3
   },
   "file_extension": ".py",
   "mimetype": "text/x-python",
   "name": "python",
   "nbconvert_exporter": "python",
   "pygments_lexer": "ipython3",
   "version": "3.8.2"
  }
 },
 "nbformat": 4,
 "nbformat_minor": 5
}
