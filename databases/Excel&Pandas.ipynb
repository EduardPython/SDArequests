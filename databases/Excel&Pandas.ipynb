{
 "cells": [
  {
   "cell_type": "markdown",
   "id": "8fbdc18b",
   "metadata": {},
   "source": [
    "## Pandas - Python Data Analysis Library"
   ]
  },
  {
   "cell_type": "code",
   "execution_count": null,
   "id": "ed114e1f",
   "metadata": {},
   "outputs": [],
   "source": [
    "pip install pandas"
   ]
  },
  {
   "cell_type": "raw",
   "id": "655500e1",
   "metadata": {},
   "source": [
    "import pandas\n",
    "# import pandas as pd "
   ]
  },
  {
   "cell_type": "markdown",
   "id": "c30bc6da",
   "metadata": {},
   "source": [
    "Pandas slouží pro analýzu dat, které lze reprezentovat 2D tabulkou. Tento „tvar” dat najdeme v SQL databázích, souborech CSV nebo tabulkových procesorech. Stručně řečeno, co jde dělat v Excelu, jde dělat i v Pandas"
   ]
  },
  {
   "cell_type": "raw",
   "id": "813d7105",
   "metadata": {},
   "source": [
    "# otevřete si v googlesheets/excelu soubor top100banks.csv"
   ]
  },
  {
   "cell_type": "raw",
   "id": "f2fd97ec",
   "metadata": {},
   "source": [
    "# ulozte si top100banks.csv do projektu v pycharmu abychom s nim mohli pracovat"
   ]
  },
  {
   "cell_type": "markdown",
   "id": "fb51a5dc",
   "metadata": {},
   "source": [
    "### Pandas tutorial\n",
    "### TODO - in progress"
   ]
  },
  {
   "cell_type": "markdown",
   "id": "f505e766",
   "metadata": {},
   "source": [
    "### Excel - úkoly"
   ]
  },
  {
   "cell_type": "raw",
   "id": "1be85ee9",
   "metadata": {},
   "source": [
    "1) Seradte banky podle total assets od nejnižší po nejvyšší\n",
    "2) Seradte bank podle abecedy (z-a)\n",
    "3) Vypocitejte soucet všech assets, vypocitejte median vsech assets\n",
    "4) Vytvorte seznam vsech zemi v kterých se banky nachází (a-z)\n",
    "5) Udelejte tabulku - kolik bank je v které zemi (např: USA: 5) (a-z)\n",
    "6) Udelejte tabulku - kolik bank je v které zemi a kolik mají dohromady assets (a-z)\n",
    "7) Udelejte tabulku kde bude z každé země pouze banky s nejvíce assets (a-z)\n",
    "8) Vypiste banky ktere zacinaji pouze na \"B\"\n",
    "9) Vypiste banky ktere maji assets nad 1000 mld USD \n",
    "10) Udelejte tabulku - banky zacinajici na stejne pismeno a kolik mají dohromady assets (a-z)"
   ]
  },
  {
   "cell_type": "markdown",
   "id": "54691e59",
   "metadata": {},
   "source": [
    "### Pandas úkoly :)"
   ]
  },
  {
   "cell_type": "raw",
   "id": "126676f0",
   "metadata": {},
   "source": [
    "1) Seradte banky podle total assets od nejnižší po nejvyšší\n",
    "2) Seradte bank podle abecedy (z-a)\n",
    "3) Vypocitejte soucet všech assets, vypocitejte median vsech assets\n",
    "4) Vytvorte seznam vsech zemi v kterých se banky nachází (a-z)\n",
    "5) Udelejte tabulku - kolik bank je v které zemi (např: USA: 5) (a-z)\n",
    "6) Udelejte tabulku - kolik bank je v které zemi a kolik mají dohromady assets (a-z)\n",
    "7) Udelejte tabulku kde bude z každé země pouze banky s nejvíce assets (a-z)\n",
    "8) Vypiste banky ktere zacinaji pouze na \"B\"\n",
    "9) Vypiste banky ktere maji assets nad 1000 mld USD \n",
    "10) Udelejte tabulku - banky zacinajici na stejne pismeno a kolik mají dohromady assets (a-z)"
   ]
  }
 ],
 "metadata": {
  "kernelspec": {
   "display_name": "Python 3 (ipykernel)",
   "language": "python",
   "name": "python3"
  },
  "language_info": {
   "codemirror_mode": {
    "name": "ipython",
    "version": 3
   },
   "file_extension": ".py",
   "mimetype": "text/x-python",
   "name": "python",
   "nbconvert_exporter": "python",
   "pygments_lexer": "ipython3",
   "version": "3.8.2"
  }
 },
 "nbformat": 4,
 "nbformat_minor": 5
}
