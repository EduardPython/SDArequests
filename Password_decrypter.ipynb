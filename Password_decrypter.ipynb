{
 "cells": [
  {
   "cell_type": "code",
   "execution_count": 1,
   "id": "40c2b073",
   "metadata": {},
   "outputs": [],
   "source": [
    "import hashlib\n"
   ]
  },
  {
   "cell_type": "markdown",
   "id": "7d161f80",
   "metadata": {},
   "source": [
    "## MD5 hash\n",
    "The MD5 message-digest algorithm is a cryptographically broken but still widely used hash function producing a 128-bit hash value. \n",
    "např \"14a69f3976044a3cf02d28c01c41298\""
   ]
  },
  {
   "cell_type": "markdown",
   "id": "92cd8696",
   "metadata": {},
   "source": [
    "### Hash je jednocestný encrypt, sloužící na uchovávání hesel"
   ]
  },
  {
   "cell_type": "markdown",
   "id": "27b28abc",
   "metadata": {},
   "source": [
    "k hashování nám slouží knihovna hashlib"
   ]
  },
  {
   "cell_type": "code",
   "execution_count": 12,
   "id": "9b2f60b6",
   "metadata": {},
   "outputs": [
    {
     "name": "stdout",
     "output_type": "stream",
     "text": [
      "752de542ce96177f851b6c6f3c6f36f5\n"
     ]
    }
   ],
   "source": [
    "heslo = \"Topsecret\"\n",
    "passwd_hash = hashlib.md5(heslo.encode())\n",
    "print(passwd_hash.hexdigest())\n",
    "\n",
    "#print(passwd_hash.hexdigest())"
   ]
  },
  {
   "cell_type": "code",
   "execution_count": 14,
   "id": "3b9b98cb",
   "metadata": {},
   "outputs": [],
   "source": [
    "def hash_word(word):\n",
    "    hashed_word = hashlib.md5(word.encode()).hexdigest()\n",
    "    return(hashed_word)"
   ]
  },
  {
   "cell_type": "code",
   "execution_count": 15,
   "id": "2ad36c1e",
   "metadata": {},
   "outputs": [
    {
     "name": "stdout",
     "output_type": "stream",
     "text": [
      "5eb2d436f066da681bde4e7953a997c9\n",
      "----------------------------------------\n",
      "5eb2d436f066da681bde4e7953a997c9\n",
      "----------------------------------------\n",
      "a4a8e498262dc4df34bd6bf4aff62530\n",
      "----------------------------------------\n",
      "7f22d0076d68969fffcc381ec6b42e68\n"
     ]
    }
   ],
   "source": [
    "print(hash_word(\"jelen\"))\n",
    "print(40*\"-\")\n",
    "print(hash_word(\"jelen\"))\n",
    "print(40*\"-\")\n",
    "print(hash_word(\"Jelen\"))\n",
    "print(40*\"-\")\n",
    "print(hash_word(\"Je1len\"))"
   ]
  },
  {
   "cell_type": "code",
   "execution_count": null,
   "id": "db82fd0a",
   "metadata": {},
   "outputs": [],
   "source": []
  }
 ],
 "metadata": {
  "kernelspec": {
   "display_name": "Python 3 (ipykernel)",
   "language": "python",
   "name": "python3"
  },
  "language_info": {
   "codemirror_mode": {
    "name": "ipython",
    "version": 3
   },
   "file_extension": ".py",
   "mimetype": "text/x-python",
   "name": "python",
   "nbconvert_exporter": "python",
   "pygments_lexer": "ipython3",
   "version": "3.8.2"
  }
 },
 "nbformat": 4,
 "nbformat_minor": 5
}
