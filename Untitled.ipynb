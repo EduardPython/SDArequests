{
 "cells": [
  {
   "cell_type": "markdown",
   "id": "f6924eaa",
   "metadata": {},
   "source": [
    "## Requests - knihovna pro komunikování s  API a získávání informací z webu (ang. scraping)\n"
   ]
  },
  {
   "cell_type": "raw",
   "id": "46983b4c",
   "metadata": {},
   "source": [
    "pip install requests"
   ]
  },
  {
   "cell_type": "code",
   "execution_count": 8,
   "id": "91679eea",
   "metadata": {},
   "outputs": [],
   "source": [
    "import requests"
   ]
  },
  {
   "cell_type": "markdown",
   "id": "e74c0c1a",
   "metadata": {},
   "source": [
    "*IMDB je obdoba csfd.cz - dazabaze filmů"
   ]
  },
  {
   "cell_type": "code",
   "execution_count": null,
   "id": "ba4ed3fc",
   "metadata": {},
   "outputs": [],
   "source": [
    "requests.get(\"https://www.imdb.com/chart/top/\")"
   ]
  },
  {
   "cell_type": "code",
   "execution_count": 9,
   "id": "aca09dc5",
   "metadata": {},
   "outputs": [],
   "source": [
    "response = requests.get(\"https://www.imdb.com/chart/top/\")"
   ]
  },
  {
   "cell_type": "code",
   "execution_count": 12,
   "id": "ac862f22",
   "metadata": {},
   "outputs": [
    {
     "name": "stdout",
     "output_type": "stream",
     "text": [
      "<class 'bytes'>\n"
     ]
    }
   ],
   "source": [
    "print(response.text)"
   ]
  },
  {
   "cell_type": "raw",
   "id": "a963978d",
   "metadata": {},
   "source": [
    "print(response)\n",
    "print(response.status_code)\n",
    "print(response.text)\n",
    "#print(response.json()) # vhodné pro API \n"
   ]
  },
  {
   "cell_type": "code",
   "execution_count": null,
   "id": "bfa2ef44",
   "metadata": {},
   "outputs": [],
   "source": [
    "#např: regiojet\n",
    "# www.regiojet.cz\n",
    "regiojet_lokace_z_api = requests.get(\"https://brn-ybus-pubapi.sa.cz/restapi/consts/locations\")\n",
    "regiojet_lokace = regiojet_lokace_z_api.json()\n",
    "\n",
    "for country in regiojet_lokace:\n",
    "    print(country[\"country\"])"
   ]
  },
  {
   "cell_type": "markdown",
   "id": "f98bbf73",
   "metadata": {},
   "source": [
    "### Status kody "
   ]
  },
  {
   "cell_type": "markdown",
   "id": "8250dfd0",
   "metadata": {},
   "source": [
    "#### pravidlo palce: 2xx - dobrý (200 nejlepší :), ostatní - špatný (4xx velký špatný)"
   ]
  },
  {
   "cell_type": "markdown",
   "id": "a5381a7e",
   "metadata": {},
   "source": [
    "##### úkol: najděte co znamená status kod 418 - https://cs.wikipedia.org/wiki/Stavov%C3%A9_k%C3%B3dy_HTTP"
   ]
  },
  {
   "cell_type": "markdown",
   "id": "fe1421e0",
   "metadata": {},
   "source": [
    "### Headers"
   ]
  },
  {
   "cell_type": "code",
   "execution_count": 14,
   "id": "b4a7e9a5",
   "metadata": {},
   "outputs": [],
   "source": [
    "from pprint import pprint"
   ]
  },
  {
   "cell_type": "raw",
   "id": "daac76be",
   "metadata": {},
   "source": [
    "print(response.headers)"
   ]
  },
  {
   "cell_type": "raw",
   "id": "603a1f74",
   "metadata": {},
   "source": [
    "for el, value in response.headers.items():\n",
    "    print(el + \" : \" + value)"
   ]
  },
  {
   "cell_type": "markdown",
   "id": "33fa248b",
   "metadata": {},
   "source": [
    "Headers se používají na specifikaci - encoding, content-type, tokeny, footprint zařízení a další"
   ]
  },
  {
   "cell_type": "markdown",
   "id": "ed0b0767",
   "metadata": {},
   "source": [
    "### Parameters"
   ]
  },
  {
   "cell_type": "raw",
   "id": "354b0f55",
   "metadata": {},
   "source": [
    "You can pass params to get() in the form of a dictionary, as you have just done, or as a list of tuples:\n",
    "\n",
    "Vkládáme jako tuple nebo dict. Pereferovanější pro přehlednost je dict.\n",
    "\n",
    "params=[('q', 'requests+language:python')]\n",
    "\n",
    "params = {\n",
    "        \"auth_key\": api_key,\n",
    "        \"text\": text,\n",
    "        \"target_lang\": target_lang\n",
    "        }"
   ]
  },
  {
   "cell_type": "raw",
   "id": "938600d5",
   "metadata": {},
   "source": [
    "Další request metody: \n",
    "často používané je post\n",
    "requests.post('https://httpbin.org/post', data={'key':'value'})\n",
    "requests.put('https://httpbin.org/put', data={'key':'value'})\n",
    "requests.delete('https://httpbin.org/delete')\n",
    "_______________________________________________\n",
    "requests.head('https://httpbin.org/get')\n",
    "requests.patch('https://httpbin.org/patch', data={'key':'value'})\n",
    "requests.options('https://httpbin.org/get')"
   ]
  },
  {
   "cell_type": "markdown",
   "id": "556bdf9f",
   "metadata": {},
   "source": [
    "## API vs web"
   ]
  },
  {
   "cell_type": "markdown",
   "id": "019eaab9",
   "metadata": {},
   "source": [
    "**scrapování webu = dostat data přímo z webových stránek**\n",
    "- ideální pro osobní projekty, automatizaci - hlídací psi atd.\n",
    "- \"unikátní\" projekty, nestandartní data \n",
    "- firmy scrapují konkurenci, Kiwi scrapuje data o cenách letenek"
   ]
  },
  {
   "cell_type": "markdown",
   "id": "df5cdec0",
   "metadata": {},
   "source": [
    "#### problémy scrapování\n",
    "- diskuze legální/nelegální\n",
    "- zatěžování serverů\n",
    "- nestandartizované \n",
    "- snadná porucha - jakákoliv změna webu"
   ]
  },
  {
   "cell_type": "raw",
   "id": "96ea45d3",
   "metadata": {},
   "source": [
    "tools for scraping:\n",
    "requests\n",
    "bs4\n",
    "selenium\n",
    "###\n",
    "autoscraper\n",
    "scrapy\n",
    "\n",
    "firmy na scrapování:\n",
    "apify"
   ]
  },
  {
   "cell_type": "markdown",
   "id": "0647aa8c",
   "metadata": {},
   "source": [
    "## API - Application Programming Interface"
   ]
  },
  {
   "cell_type": "markdown",
   "id": "1ad7badc",
   "metadata": {},
   "source": [
    "trocha teorie z wiki:\n",
    "Jde o sbírku procedur, funkcí, tříd či protokolů nějaké knihovny (ale třeba i jiného programu). API určuje, jakým způsobem jsou funkce knihovny volány ze zdrojového kódu programu. **Funkce API jsou programové celky, které programátor používá namísto toho, aby je sám naprogramoval.** https://cs.wikipedia.org/wiki/API"
   ]
  },
  {
   "cell_type": "markdown",
   "id": "b4228055",
   "metadata": {},
   "source": [
    "API is the acronym for Application Programming Interface, which is a software intermediary that **allows two applications to talk to each other. Each time you use an app like Facebook, send an instant message, or check the weather on your phone, you're using an API.**"
   ]
  },
  {
   "cell_type": "markdown",
   "id": "07026dcb",
   "metadata": {},
   "source": [
    "### API je všude"
   ]
  },
  {
   "cell_type": "markdown",
   "id": "88f72612",
   "metadata": {},
   "source": [
    "abychom nemuseli \"znovu vynalézat kolo\" používáme API které už vytvořili ostatní programátoři nebo i firmy samotné (aby se vyhly scrapingu :) "
   ]
  },
  {
   "cell_type": "markdown",
   "id": "2b78c28d",
   "metadata": {},
   "source": [
    "##### API je byznys"
   ]
  },
  {
   "cell_type": "markdown",
   "id": "76ba42da",
   "metadata": {},
   "source": [
    "##### Příklady API:\n",
    "    - počasí - https://openweathermap.org/current\n",
    "    - burzovní info: https://yahooquery.dpguthrie.com/, https://yahooquery-streamlit.herokuapp.com/\n",
    "    - státní svátky: https://calendarific.com/api/v2/holidays, https://calendarific.com/api-documentation\n",
    "    - převádění měnových kurzů\n",
    "    - pokeapi\n",
    "    - yoda translator - https://funtranslations.com/yoda"
   ]
  },
  {
   "cell_type": "markdown",
   "id": "4d817c44",
   "metadata": {},
   "source": [
    "#### Tvorba vlastních API - python frameworks Flask, FastAPI"
   ]
  },
  {
   "cell_type": "markdown",
   "id": "ab1b6fbe",
   "metadata": {},
   "source": [
    "## API klíč - API Key - api_key"
   ]
  },
  {
   "cell_type": "markdown",
   "id": "29c6999a",
   "metadata": {},
   "source": [
    "**nutný pro autentizaci, z pravidla generované pro každého uživatele unikátně**"
   ]
  },
  {
   "cell_type": "markdown",
   "id": "5f0cef51",
   "metadata": {},
   "source": [
    "#### společný úkol: vytvořmě překladač do yodovštiny\n",
    "https://funtranslations.com/api/yoda"
   ]
  },
  {
   "cell_type": "markdown",
   "id": "bc210166",
   "metadata": {},
   "source": [
    "Max 5 requestu za hodinu"
   ]
  },
  {
   "cell_type": "raw",
   "id": "d6d410a2",
   "metadata": {},
   "source": [
    "!!!{'error': {'code': 429, 'message': 'Too Many Requests: Rate limit of 5 requests per hour exceeded. Please wait for 57 minutes and 48 seconds.'}}!!!"
   ]
  },
  {
   "cell_type": "markdown",
   "id": "0c0df352",
   "metadata": {},
   "source": [
    "Příklad"
   ]
  },
  {
   "cell_type": "raw",
   "id": "a3380174",
   "metadata": {},
   "source": [
    "yoda = requests.get(\"https://api.funtranslations.com/translate/yoda.json?text=Master%20Obiwan%20has%20lost%20a%20planet.\")\n",
    "\n",
    "# link https://www.theguardian.com/world/2011/apr/13/czech-president-steals-pen\n",
    "\n",
    "text = \"As Piñera addresses journalists and gives Klaus an enthusiastic welcome, the Czech president takes the pen out, examines it carefully, moves his hands under the table, shuffles with his jacket, then buttons it up with both hands and finally lets his empty hands emerge above the table again to close the case.\"\n",
    "\n",
    "yoda_speak = requests.get(f\"https://api.funtranslations.com/translate/yoda.json?text={text}\")\n",
    "print(type(yoda_speak.json()))\n",
    "\n",
    "url = \"https://api.funtranslations.com/translate/yoda.json?\"\n",
    "parametry = {\"text\" : text}\n",
    "yoda_1 = requests.get(url=url, params=parametry)\n",
    "print(yoda_1.json())"
   ]
  },
  {
   "cell_type": "markdown",
   "id": "ad980945",
   "metadata": {},
   "source": [
    "## Uchovávání hesel mimo kód - python-decouple"
   ]
  },
  {
   "cell_type": "markdown",
   "id": "bc47cf00",
   "metadata": {},
   "source": [
    "Není bezpečné uchovávat hesla, username, API klíče a další důležité přístupové věci v kódu. Strandardem je uchovávat je v `.env` souboru, který je \"neviditelný\". `.env` soubor vytvoříme v repozitáři kodu. Můžeme použít command line v terminálu"
   ]
  },
  {
   "cell_type": "raw",
   "id": "677febf9",
   "metadata": {},
   "source": [
    "touch .env\n",
    "vim .env"
   ]
  },
  {
   "cell_type": "raw",
   "id": "b7e3811c",
   "metadata": {},
   "source": [
    "syntax v souboru:\n",
    "\"jmeno\": \"hodnota\"\n",
    "napriklad\n",
    "\"username\": \"petrs\"\n",
    "\"heslo\": \"topsecret\"\n",
    "\"api_key\": \"XXX2635271PRG\""
   ]
  },
  {
   "cell_type": "markdown",
   "id": "85e36a8a",
   "metadata": {},
   "source": [
    "#### decouple knihovna"
   ]
  },
  {
   "cell_type": "raw",
   "id": "d4158efc",
   "metadata": {},
   "source": [
    "pip install python-decouple"
   ]
  },
  {
   "cell_type": "raw",
   "id": "edc3152e",
   "metadata": {},
   "source": [
    "from decouple import config"
   ]
  },
  {
   "cell_type": "raw",
   "id": "f152b4be",
   "metadata": {},
   "source": [
    "api_key = config(\"api_key\", default=\"\")\n",
    "username = config(\"username\", default=\"\")\n",
    "password = config(\"password\", default=\"\")\n",
    "heslo = config(\"heslo\", default=\"heslo nenastaveno\")\n",
    "\n",
    "\n",
    "print(api_key)\n",
    "print(username)\n",
    "print(password)\n",
    "print(heslo)"
   ]
  },
  {
   "cell_type": "markdown",
   "id": "e64ef663",
   "metadata": {},
   "source": [
    "### úkol - Napiště funkci překladač,  která překládá pomocí deepL API"
   ]
  },
  {
   "cell_type": "markdown",
   "id": "1acab5eb",
   "metadata": {},
   "source": [
    "deepl API docs: https://www.deepl.com/docs-api"
   ]
  },
  {
   "cell_type": "markdown",
   "id": "8a19e074",
   "metadata": {},
   "source": [
    "API klíč = \"224dd4fb-9c29-8ee9-759a-a71057134c5d:fx\" limit 500,000 znaků za měsíc"
   ]
  },
  {
   "cell_type": "code",
   "execution_count": null,
   "id": "8f390258",
   "metadata": {},
   "outputs": [],
   "source": [
    "def translate(text, target_lang, source_lang=None):\n",
    "    pass"
   ]
  },
  {
   "cell_type": "markdown",
   "id": "4cf3a974",
   "metadata": {},
   "source": [
    "### bonus - přidejte funkci translator která se zeptá uživatele na text a do jakého jazyku ho chce přeložit"
   ]
  },
  {
   "cell_type": "code",
   "execution_count": null,
   "id": "a0e27ce7",
   "metadata": {},
   "outputs": [],
   "source": [
    "def translator():\n",
    "    pass"
   ]
  },
  {
   "cell_type": "markdown",
   "id": "b2ba6ade",
   "metadata": {},
   "source": [
    "### TODO\n",
    "- selenium - ukázka\n",
    "- bs4 praktická ukázka\n",
    "- regex\n"
   ]
  },
  {
   "cell_type": "markdown",
   "id": "be39e917",
   "metadata": {},
   "source": [
    "- IMDB - https://www.imdb.com/chart/top/\n",
    "- bs4 - https://beautiful-soup-4.readthedocs.io/en/latest/"
   ]
  },
  {
   "cell_type": "code",
   "execution_count": null,
   "id": "f14c7ab4",
   "metadata": {},
   "outputs": [],
   "source": [
    "import requests\n",
    "from bs4 import BeautifulSoup\n",
    "\n",
    "r = requests.get(\"https://www.imdb.com/chart/top/\")\n",
    "soup = BeautifulSoup(r.text, \"html.parser\")\n",
    "filmy = soup.find_all(\"td\", class_=\"titleColumn\")\n",
    "for film in filmy:\n",
    "    name = film.find(\"a\").text\n",
    "    print(name)"
   ]
  }
 ],
 "metadata": {
  "kernelspec": {
   "display_name": "Python 3 (ipykernel)",
   "language": "python",
   "name": "python3"
  },
  "language_info": {
   "codemirror_mode": {
    "name": "ipython",
    "version": 3
   },
   "file_extension": ".py",
   "mimetype": "text/x-python",
   "name": "python",
   "nbconvert_exporter": "python",
   "pygments_lexer": "ipython3",
   "version": "3.8.2"
  }
 },
 "nbformat": 4,
 "nbformat_minor": 5
}
